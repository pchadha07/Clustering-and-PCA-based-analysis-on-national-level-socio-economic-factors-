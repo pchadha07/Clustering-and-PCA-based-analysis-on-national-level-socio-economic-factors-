{
 "cells": [
  {
   "cell_type": "code",
   "execution_count": 1,
   "metadata": {},
   "outputs": [],
   "source": [
    "# Supress Warnings\n",
    "\n",
    "import warnings\n",
    "warnings.filterwarnings('ignore')"
   ]
  },
  {
   "cell_type": "code",
   "execution_count": 105,
   "metadata": {},
   "outputs": [],
   "source": [
    "import numpy as np\n",
    "import pandas as pd\n",
    "import matplotlib.pyplot as plt\n",
    "import seaborn as sns\n",
    "import statsmodels.api as sm\n",
    "import sklearn\n",
    "from sklearn.model_selection import train_test_split\n",
    "from sklearn.metrics import r2_score\n",
    "from sklearn.preprocessing import StandardScaler\n",
    "from sklearn import metrics\n",
    "from sklearn.metrics import precision_score, recall_score\n",
    "from sklearn.metrics import precision_recall_curve\n",
    "from sklearn.decomposition import PCA\n",
    "from sklearn.decomposition import IncrementalPCA\n",
    "%matplotlib inline\n",
    "from sklearn.metrics import silhouette_score\n",
    "# To Scale our data\n",
    "from sklearn.preprocessing import scale\n",
    "from sklearn.neighbors import NearestNeighbors\n",
    "from random import sample\n",
    "from numpy.random import uniform\n",
    "import numpy as np\n",
    "from math import isnan\n",
    "\n",
    "# To perform KMeans clustering \n",
    "from sklearn.cluster import KMeans\n",
    "\n",
    "# To perform Hierarchical clustering\n",
    "from scipy.cluster.hierarchy import linkage\n",
    "from scipy.cluster.hierarchy import dendrogram\n",
    "from scipy.cluster.hierarchy import cut_tree"
   ]
  },
  {
   "cell_type": "code",
   "execution_count": 3,
   "metadata": {},
   "outputs": [],
   "source": [
    "gdp = pd.read_csv(\"C://Users/pchadha/Prediction_Modeling/Cluster_PCA_assignment/Country-data.csv\")"
   ]
  },
  {
   "cell_type": "code",
   "execution_count": 4,
   "metadata": {},
   "outputs": [
    {
     "data": {
      "text/html": [
       "<div>\n",
       "<style scoped>\n",
       "    .dataframe tbody tr th:only-of-type {\n",
       "        vertical-align: middle;\n",
       "    }\n",
       "\n",
       "    .dataframe tbody tr th {\n",
       "        vertical-align: top;\n",
       "    }\n",
       "\n",
       "    .dataframe thead th {\n",
       "        text-align: right;\n",
       "    }\n",
       "</style>\n",
       "<table border=\"1\" class=\"dataframe\">\n",
       "  <thead>\n",
       "    <tr style=\"text-align: right;\">\n",
       "      <th></th>\n",
       "      <th>country</th>\n",
       "      <th>child_mort</th>\n",
       "      <th>exports</th>\n",
       "      <th>health</th>\n",
       "      <th>imports</th>\n",
       "      <th>income</th>\n",
       "      <th>inflation</th>\n",
       "      <th>life_expec</th>\n",
       "      <th>total_fer</th>\n",
       "      <th>gdpp</th>\n",
       "    </tr>\n",
       "  </thead>\n",
       "  <tbody>\n",
       "    <tr>\n",
       "      <th>0</th>\n",
       "      <td>Afghanistan</td>\n",
       "      <td>90.2</td>\n",
       "      <td>10.0</td>\n",
       "      <td>7.58</td>\n",
       "      <td>44.9</td>\n",
       "      <td>1610</td>\n",
       "      <td>9.44</td>\n",
       "      <td>56.2</td>\n",
       "      <td>5.82</td>\n",
       "      <td>553</td>\n",
       "    </tr>\n",
       "    <tr>\n",
       "      <th>1</th>\n",
       "      <td>Albania</td>\n",
       "      <td>16.6</td>\n",
       "      <td>28.0</td>\n",
       "      <td>6.55</td>\n",
       "      <td>48.6</td>\n",
       "      <td>9930</td>\n",
       "      <td>4.49</td>\n",
       "      <td>76.3</td>\n",
       "      <td>1.65</td>\n",
       "      <td>4090</td>\n",
       "    </tr>\n",
       "    <tr>\n",
       "      <th>2</th>\n",
       "      <td>Algeria</td>\n",
       "      <td>27.3</td>\n",
       "      <td>38.4</td>\n",
       "      <td>4.17</td>\n",
       "      <td>31.4</td>\n",
       "      <td>12900</td>\n",
       "      <td>16.10</td>\n",
       "      <td>76.5</td>\n",
       "      <td>2.89</td>\n",
       "      <td>4460</td>\n",
       "    </tr>\n",
       "    <tr>\n",
       "      <th>3</th>\n",
       "      <td>Angola</td>\n",
       "      <td>119.0</td>\n",
       "      <td>62.3</td>\n",
       "      <td>2.85</td>\n",
       "      <td>42.9</td>\n",
       "      <td>5900</td>\n",
       "      <td>22.40</td>\n",
       "      <td>60.1</td>\n",
       "      <td>6.16</td>\n",
       "      <td>3530</td>\n",
       "    </tr>\n",
       "    <tr>\n",
       "      <th>4</th>\n",
       "      <td>Antigua and Barbuda</td>\n",
       "      <td>10.3</td>\n",
       "      <td>45.5</td>\n",
       "      <td>6.03</td>\n",
       "      <td>58.9</td>\n",
       "      <td>19100</td>\n",
       "      <td>1.44</td>\n",
       "      <td>76.8</td>\n",
       "      <td>2.13</td>\n",
       "      <td>12200</td>\n",
       "    </tr>\n",
       "  </tbody>\n",
       "</table>\n",
       "</div>"
      ],
      "text/plain": [
       "               country  child_mort  exports  health  imports  income  \\\n",
       "0          Afghanistan        90.2     10.0    7.58     44.9    1610   \n",
       "1              Albania        16.6     28.0    6.55     48.6    9930   \n",
       "2              Algeria        27.3     38.4    4.17     31.4   12900   \n",
       "3               Angola       119.0     62.3    2.85     42.9    5900   \n",
       "4  Antigua and Barbuda        10.3     45.5    6.03     58.9   19100   \n",
       "\n",
       "   inflation  life_expec  total_fer   gdpp  \n",
       "0       9.44        56.2       5.82    553  \n",
       "1       4.49        76.3       1.65   4090  \n",
       "2      16.10        76.5       2.89   4460  \n",
       "3      22.40        60.1       6.16   3530  \n",
       "4       1.44        76.8       2.13  12200  "
      ]
     },
     "execution_count": 4,
     "metadata": {},
     "output_type": "execute_result"
    }
   ],
   "source": [
    "gdp.head()"
   ]
  },
  {
   "cell_type": "markdown",
   "metadata": {},
   "source": [
    "EDA and Data preparation\n",
    "Searching for null or missing values"
   ]
  },
  {
   "cell_type": "code",
   "execution_count": 8,
   "metadata": {},
   "outputs": [
    {
     "data": {
      "text/plain": [
       "country       0\n",
       "child_mort    0\n",
       "exports       0\n",
       "health        0\n",
       "imports       0\n",
       "income        0\n",
       "inflation     0\n",
       "life_expec    0\n",
       "total_fer     0\n",
       "gdpp          0\n",
       "dtype: int64"
      ]
     },
     "execution_count": 8,
     "metadata": {},
     "output_type": "execute_result"
    }
   ],
   "source": [
    "gdp.isnull().sum()"
   ]
  },
  {
   "cell_type": "markdown",
   "metadata": {},
   "source": [
    "It can be seen that there are no missing values "
   ]
  },
  {
   "cell_type": "code",
   "execution_count": 24,
   "metadata": {},
   "outputs": [
    {
     "name": "stdout",
     "output_type": "stream",
     "text": [
      "<class 'pandas.core.frame.DataFrame'>\n",
      "RangeIndex: 167 entries, 0 to 166\n",
      "Data columns (total 10 columns):\n",
      "country       167 non-null object\n",
      "child_mort    167 non-null float64\n",
      "exports       167 non-null float64\n",
      "health        167 non-null float64\n",
      "imports       167 non-null float64\n",
      "income        167 non-null int64\n",
      "inflation     167 non-null float64\n",
      "life_expec    167 non-null float64\n",
      "total_fer     167 non-null float64\n",
      "gdpp          167 non-null int64\n",
      "dtypes: float64(7), int64(2), object(1)\n",
      "memory usage: 13.1+ KB\n"
     ]
    }
   ],
   "source": [
    "gdp.info()"
   ]
  },
  {
   "cell_type": "markdown",
   "metadata": {},
   "source": [
    "Total 167 entries and all columns consist of 167 non-null entries and data types seem to correctly represent the respective columns "
   ]
  },
  {
   "cell_type": "markdown",
   "metadata": {},
   "source": [
    "Converting the 'exports', 'health', 'imports' from percentage values, relative to total GDP, to actual values. We will have to consider GDP per capita only instead of total GDP as that's the only detail available. "
   ]
  },
  {
   "cell_type": "code",
   "execution_count": 14,
   "metadata": {},
   "outputs": [],
   "source": [
    "gdp.exports = round((gdp.exports*gdp.gdpp)/100,2)"
   ]
  },
  {
   "cell_type": "code",
   "execution_count": 16,
   "metadata": {},
   "outputs": [
    {
     "data": {
      "text/html": [
       "<div>\n",
       "<style scoped>\n",
       "    .dataframe tbody tr th:only-of-type {\n",
       "        vertical-align: middle;\n",
       "    }\n",
       "\n",
       "    .dataframe tbody tr th {\n",
       "        vertical-align: top;\n",
       "    }\n",
       "\n",
       "    .dataframe thead th {\n",
       "        text-align: right;\n",
       "    }\n",
       "</style>\n",
       "<table border=\"1\" class=\"dataframe\">\n",
       "  <thead>\n",
       "    <tr style=\"text-align: right;\">\n",
       "      <th></th>\n",
       "      <th>country</th>\n",
       "      <th>child_mort</th>\n",
       "      <th>exports</th>\n",
       "      <th>health</th>\n",
       "      <th>imports</th>\n",
       "      <th>income</th>\n",
       "      <th>inflation</th>\n",
       "      <th>life_expec</th>\n",
       "      <th>total_fer</th>\n",
       "      <th>gdpp</th>\n",
       "    </tr>\n",
       "  </thead>\n",
       "  <tbody>\n",
       "    <tr>\n",
       "      <th>0</th>\n",
       "      <td>Afghanistan</td>\n",
       "      <td>90.2</td>\n",
       "      <td>55.30</td>\n",
       "      <td>7.58</td>\n",
       "      <td>44.9</td>\n",
       "      <td>1610</td>\n",
       "      <td>9.44</td>\n",
       "      <td>56.2</td>\n",
       "      <td>5.82</td>\n",
       "      <td>553</td>\n",
       "    </tr>\n",
       "    <tr>\n",
       "      <th>1</th>\n",
       "      <td>Albania</td>\n",
       "      <td>16.6</td>\n",
       "      <td>1145.20</td>\n",
       "      <td>6.55</td>\n",
       "      <td>48.6</td>\n",
       "      <td>9930</td>\n",
       "      <td>4.49</td>\n",
       "      <td>76.3</td>\n",
       "      <td>1.65</td>\n",
       "      <td>4090</td>\n",
       "    </tr>\n",
       "    <tr>\n",
       "      <th>2</th>\n",
       "      <td>Algeria</td>\n",
       "      <td>27.3</td>\n",
       "      <td>1712.64</td>\n",
       "      <td>4.17</td>\n",
       "      <td>31.4</td>\n",
       "      <td>12900</td>\n",
       "      <td>16.10</td>\n",
       "      <td>76.5</td>\n",
       "      <td>2.89</td>\n",
       "      <td>4460</td>\n",
       "    </tr>\n",
       "    <tr>\n",
       "      <th>3</th>\n",
       "      <td>Angola</td>\n",
       "      <td>119.0</td>\n",
       "      <td>2199.19</td>\n",
       "      <td>2.85</td>\n",
       "      <td>42.9</td>\n",
       "      <td>5900</td>\n",
       "      <td>22.40</td>\n",
       "      <td>60.1</td>\n",
       "      <td>6.16</td>\n",
       "      <td>3530</td>\n",
       "    </tr>\n",
       "    <tr>\n",
       "      <th>4</th>\n",
       "      <td>Antigua and Barbuda</td>\n",
       "      <td>10.3</td>\n",
       "      <td>5551.00</td>\n",
       "      <td>6.03</td>\n",
       "      <td>58.9</td>\n",
       "      <td>19100</td>\n",
       "      <td>1.44</td>\n",
       "      <td>76.8</td>\n",
       "      <td>2.13</td>\n",
       "      <td>12200</td>\n",
       "    </tr>\n",
       "  </tbody>\n",
       "</table>\n",
       "</div>"
      ],
      "text/plain": [
       "               country  child_mort  exports  health  imports  income  \\\n",
       "0          Afghanistan        90.2    55.30    7.58     44.9    1610   \n",
       "1              Albania        16.6  1145.20    6.55     48.6    9930   \n",
       "2              Algeria        27.3  1712.64    4.17     31.4   12900   \n",
       "3               Angola       119.0  2199.19    2.85     42.9    5900   \n",
       "4  Antigua and Barbuda        10.3  5551.00    6.03     58.9   19100   \n",
       "\n",
       "   inflation  life_expec  total_fer   gdpp  \n",
       "0       9.44        56.2       5.82    553  \n",
       "1       4.49        76.3       1.65   4090  \n",
       "2      16.10        76.5       2.89   4460  \n",
       "3      22.40        60.1       6.16   3530  \n",
       "4       1.44        76.8       2.13  12200  "
      ]
     },
     "execution_count": 16,
     "metadata": {},
     "output_type": "execute_result"
    }
   ],
   "source": [
    "gdp.head()"
   ]
  },
  {
   "cell_type": "code",
   "execution_count": 17,
   "metadata": {},
   "outputs": [],
   "source": [
    "gdp.health = round((gdp.health*gdp.gdpp)/100,2)"
   ]
  },
  {
   "cell_type": "code",
   "execution_count": 18,
   "metadata": {},
   "outputs": [],
   "source": [
    "gdp.imports = round((gdp.imports*gdp.gdpp)/100,2)"
   ]
  },
  {
   "cell_type": "code",
   "execution_count": 19,
   "metadata": {},
   "outputs": [
    {
     "data": {
      "text/html": [
       "<div>\n",
       "<style scoped>\n",
       "    .dataframe tbody tr th:only-of-type {\n",
       "        vertical-align: middle;\n",
       "    }\n",
       "\n",
       "    .dataframe tbody tr th {\n",
       "        vertical-align: top;\n",
       "    }\n",
       "\n",
       "    .dataframe thead th {\n",
       "        text-align: right;\n",
       "    }\n",
       "</style>\n",
       "<table border=\"1\" class=\"dataframe\">\n",
       "  <thead>\n",
       "    <tr style=\"text-align: right;\">\n",
       "      <th></th>\n",
       "      <th>country</th>\n",
       "      <th>child_mort</th>\n",
       "      <th>exports</th>\n",
       "      <th>health</th>\n",
       "      <th>imports</th>\n",
       "      <th>income</th>\n",
       "      <th>inflation</th>\n",
       "      <th>life_expec</th>\n",
       "      <th>total_fer</th>\n",
       "      <th>gdpp</th>\n",
       "    </tr>\n",
       "  </thead>\n",
       "  <tbody>\n",
       "    <tr>\n",
       "      <th>0</th>\n",
       "      <td>Afghanistan</td>\n",
       "      <td>90.2</td>\n",
       "      <td>55.30</td>\n",
       "      <td>41.92</td>\n",
       "      <td>248.30</td>\n",
       "      <td>1610</td>\n",
       "      <td>9.44</td>\n",
       "      <td>56.2</td>\n",
       "      <td>5.82</td>\n",
       "      <td>553</td>\n",
       "    </tr>\n",
       "    <tr>\n",
       "      <th>1</th>\n",
       "      <td>Albania</td>\n",
       "      <td>16.6</td>\n",
       "      <td>1145.20</td>\n",
       "      <td>267.90</td>\n",
       "      <td>1987.74</td>\n",
       "      <td>9930</td>\n",
       "      <td>4.49</td>\n",
       "      <td>76.3</td>\n",
       "      <td>1.65</td>\n",
       "      <td>4090</td>\n",
       "    </tr>\n",
       "    <tr>\n",
       "      <th>2</th>\n",
       "      <td>Algeria</td>\n",
       "      <td>27.3</td>\n",
       "      <td>1712.64</td>\n",
       "      <td>185.98</td>\n",
       "      <td>1400.44</td>\n",
       "      <td>12900</td>\n",
       "      <td>16.10</td>\n",
       "      <td>76.5</td>\n",
       "      <td>2.89</td>\n",
       "      <td>4460</td>\n",
       "    </tr>\n",
       "    <tr>\n",
       "      <th>3</th>\n",
       "      <td>Angola</td>\n",
       "      <td>119.0</td>\n",
       "      <td>2199.19</td>\n",
       "      <td>100.60</td>\n",
       "      <td>1514.37</td>\n",
       "      <td>5900</td>\n",
       "      <td>22.40</td>\n",
       "      <td>60.1</td>\n",
       "      <td>6.16</td>\n",
       "      <td>3530</td>\n",
       "    </tr>\n",
       "    <tr>\n",
       "      <th>4</th>\n",
       "      <td>Antigua and Barbuda</td>\n",
       "      <td>10.3</td>\n",
       "      <td>5551.00</td>\n",
       "      <td>735.66</td>\n",
       "      <td>7185.80</td>\n",
       "      <td>19100</td>\n",
       "      <td>1.44</td>\n",
       "      <td>76.8</td>\n",
       "      <td>2.13</td>\n",
       "      <td>12200</td>\n",
       "    </tr>\n",
       "  </tbody>\n",
       "</table>\n",
       "</div>"
      ],
      "text/plain": [
       "               country  child_mort  exports  health  imports  income  \\\n",
       "0          Afghanistan        90.2    55.30   41.92   248.30    1610   \n",
       "1              Albania        16.6  1145.20  267.90  1987.74    9930   \n",
       "2              Algeria        27.3  1712.64  185.98  1400.44   12900   \n",
       "3               Angola       119.0  2199.19  100.60  1514.37    5900   \n",
       "4  Antigua and Barbuda        10.3  5551.00  735.66  7185.80   19100   \n",
       "\n",
       "   inflation  life_expec  total_fer   gdpp  \n",
       "0       9.44        56.2       5.82    553  \n",
       "1       4.49        76.3       1.65   4090  \n",
       "2      16.10        76.5       2.89   4460  \n",
       "3      22.40        60.1       6.16   3530  \n",
       "4       1.44        76.8       2.13  12200  "
      ]
     },
     "execution_count": 19,
     "metadata": {},
     "output_type": "execute_result"
    }
   ],
   "source": [
    "gdp.head()"
   ]
  },
  {
   "cell_type": "code",
   "execution_count": 126,
   "metadata": {},
   "outputs": [
    {
     "data": {
      "text/html": [
       "<div>\n",
       "<style scoped>\n",
       "    .dataframe tbody tr th:only-of-type {\n",
       "        vertical-align: middle;\n",
       "    }\n",
       "\n",
       "    .dataframe tbody tr th {\n",
       "        vertical-align: top;\n",
       "    }\n",
       "\n",
       "    .dataframe thead th {\n",
       "        text-align: right;\n",
       "    }\n",
       "</style>\n",
       "<table border=\"1\" class=\"dataframe\">\n",
       "  <thead>\n",
       "    <tr style=\"text-align: right;\">\n",
       "      <th></th>\n",
       "      <th>country</th>\n",
       "      <th>child_mort</th>\n",
       "      <th>exports</th>\n",
       "      <th>health</th>\n",
       "      <th>imports</th>\n",
       "      <th>income</th>\n",
       "      <th>inflation</th>\n",
       "      <th>life_expec</th>\n",
       "      <th>total_fer</th>\n",
       "      <th>gdpp</th>\n",
       "    </tr>\n",
       "  </thead>\n",
       "  <tbody>\n",
       "  </tbody>\n",
       "</table>\n",
       "</div>"
      ],
      "text/plain": [
       "Empty DataFrame\n",
       "Columns: [country, child_mort, exports, health, imports, income, inflation, life_expec, total_fer, gdpp]\n",
       "Index: []"
      ]
     },
     "execution_count": 126,
     "metadata": {},
     "output_type": "execute_result"
    }
   ],
   "source": [
    "gdp[gdp.duplicated()]"
   ]
  },
  {
   "cell_type": "markdown",
   "metadata": {},
   "source": [
    "It can be seen that there are no duplicate entries"
   ]
  },
  {
   "cell_type": "markdown",
   "metadata": {},
   "source": [
    "Outlier analysis"
   ]
  },
  {
   "cell_type": "code",
   "execution_count": 10,
   "metadata": {},
   "outputs": [
    {
     "data": {
      "text/html": [
       "<div>\n",
       "<style scoped>\n",
       "    .dataframe tbody tr th:only-of-type {\n",
       "        vertical-align: middle;\n",
       "    }\n",
       "\n",
       "    .dataframe tbody tr th {\n",
       "        vertical-align: top;\n",
       "    }\n",
       "\n",
       "    .dataframe thead th {\n",
       "        text-align: right;\n",
       "    }\n",
       "</style>\n",
       "<table border=\"1\" class=\"dataframe\">\n",
       "  <thead>\n",
       "    <tr style=\"text-align: right;\">\n",
       "      <th></th>\n",
       "      <th>child_mort</th>\n",
       "      <th>exports</th>\n",
       "      <th>health</th>\n",
       "      <th>imports</th>\n",
       "      <th>income</th>\n",
       "      <th>inflation</th>\n",
       "      <th>life_expec</th>\n",
       "      <th>total_fer</th>\n",
       "      <th>gdpp</th>\n",
       "    </tr>\n",
       "  </thead>\n",
       "  <tbody>\n",
       "    <tr>\n",
       "      <th>count</th>\n",
       "      <td>167.000000</td>\n",
       "      <td>167.000000</td>\n",
       "      <td>167.000000</td>\n",
       "      <td>167.000000</td>\n",
       "      <td>167.000000</td>\n",
       "      <td>167.000000</td>\n",
       "      <td>167.000000</td>\n",
       "      <td>167.000000</td>\n",
       "      <td>167.000000</td>\n",
       "    </tr>\n",
       "    <tr>\n",
       "      <th>mean</th>\n",
       "      <td>38.270060</td>\n",
       "      <td>41.108976</td>\n",
       "      <td>6.815689</td>\n",
       "      <td>46.890215</td>\n",
       "      <td>17144.688623</td>\n",
       "      <td>7.781832</td>\n",
       "      <td>70.555689</td>\n",
       "      <td>2.947964</td>\n",
       "      <td>12964.155689</td>\n",
       "    </tr>\n",
       "    <tr>\n",
       "      <th>std</th>\n",
       "      <td>40.328931</td>\n",
       "      <td>27.412010</td>\n",
       "      <td>2.746837</td>\n",
       "      <td>24.209589</td>\n",
       "      <td>19278.067698</td>\n",
       "      <td>10.570704</td>\n",
       "      <td>8.893172</td>\n",
       "      <td>1.513848</td>\n",
       "      <td>18328.704809</td>\n",
       "    </tr>\n",
       "    <tr>\n",
       "      <th>min</th>\n",
       "      <td>2.600000</td>\n",
       "      <td>0.109000</td>\n",
       "      <td>1.810000</td>\n",
       "      <td>0.065900</td>\n",
       "      <td>609.000000</td>\n",
       "      <td>-4.210000</td>\n",
       "      <td>32.100000</td>\n",
       "      <td>1.150000</td>\n",
       "      <td>231.000000</td>\n",
       "    </tr>\n",
       "    <tr>\n",
       "      <th>25%</th>\n",
       "      <td>8.250000</td>\n",
       "      <td>23.800000</td>\n",
       "      <td>4.920000</td>\n",
       "      <td>30.200000</td>\n",
       "      <td>3355.000000</td>\n",
       "      <td>1.810000</td>\n",
       "      <td>65.300000</td>\n",
       "      <td>1.795000</td>\n",
       "      <td>1330.000000</td>\n",
       "    </tr>\n",
       "    <tr>\n",
       "      <th>50%</th>\n",
       "      <td>19.300000</td>\n",
       "      <td>35.000000</td>\n",
       "      <td>6.320000</td>\n",
       "      <td>43.300000</td>\n",
       "      <td>9960.000000</td>\n",
       "      <td>5.390000</td>\n",
       "      <td>73.100000</td>\n",
       "      <td>2.410000</td>\n",
       "      <td>4660.000000</td>\n",
       "    </tr>\n",
       "    <tr>\n",
       "      <th>75%</th>\n",
       "      <td>62.100000</td>\n",
       "      <td>51.350000</td>\n",
       "      <td>8.600000</td>\n",
       "      <td>58.750000</td>\n",
       "      <td>22800.000000</td>\n",
       "      <td>10.750000</td>\n",
       "      <td>76.800000</td>\n",
       "      <td>3.880000</td>\n",
       "      <td>14050.000000</td>\n",
       "    </tr>\n",
       "    <tr>\n",
       "      <th>max</th>\n",
       "      <td>208.000000</td>\n",
       "      <td>200.000000</td>\n",
       "      <td>17.900000</td>\n",
       "      <td>174.000000</td>\n",
       "      <td>125000.000000</td>\n",
       "      <td>104.000000</td>\n",
       "      <td>82.800000</td>\n",
       "      <td>7.490000</td>\n",
       "      <td>105000.000000</td>\n",
       "    </tr>\n",
       "  </tbody>\n",
       "</table>\n",
       "</div>"
      ],
      "text/plain": [
       "       child_mort     exports      health     imports         income  \\\n",
       "count  167.000000  167.000000  167.000000  167.000000     167.000000   \n",
       "mean    38.270060   41.108976    6.815689   46.890215   17144.688623   \n",
       "std     40.328931   27.412010    2.746837   24.209589   19278.067698   \n",
       "min      2.600000    0.109000    1.810000    0.065900     609.000000   \n",
       "25%      8.250000   23.800000    4.920000   30.200000    3355.000000   \n",
       "50%     19.300000   35.000000    6.320000   43.300000    9960.000000   \n",
       "75%     62.100000   51.350000    8.600000   58.750000   22800.000000   \n",
       "max    208.000000  200.000000   17.900000  174.000000  125000.000000   \n",
       "\n",
       "        inflation  life_expec   total_fer           gdpp  \n",
       "count  167.000000  167.000000  167.000000     167.000000  \n",
       "mean     7.781832   70.555689    2.947964   12964.155689  \n",
       "std     10.570704    8.893172    1.513848   18328.704809  \n",
       "min     -4.210000   32.100000    1.150000     231.000000  \n",
       "25%      1.810000   65.300000    1.795000    1330.000000  \n",
       "50%      5.390000   73.100000    2.410000    4660.000000  \n",
       "75%     10.750000   76.800000    3.880000   14050.000000  \n",
       "max    104.000000   82.800000    7.490000  105000.000000  "
      ]
     },
     "execution_count": 10,
     "metadata": {},
     "output_type": "execute_result"
    }
   ],
   "source": [
    "gdp.describe()"
   ]
  },
  {
   "cell_type": "code",
   "execution_count": 13,
   "metadata": {},
   "outputs": [
    {
     "data": {
      "text/plain": [
       "<matplotlib.axes._subplots.AxesSubplot at 0x263eaf32eb8>"
      ]
     },
     "execution_count": 13,
     "metadata": {},
     "output_type": "execute_result"
    },
    {
     "data": {
      "image/png": "[encoded data removed]",
      "text/plain": [
       "<Figure size 432x288 with 1 Axes>"
      ]
     },
     "metadata": {
      "needs_background": "light"
     },
     "output_type": "display_data"
    }
   ],
   "source": [
    "sns.boxplot(gdp.gdpp, orient = 'v')"
   ]
  },
  {
   "cell_type": "code",
   "execution_count": 294,
   "metadata": {},
   "outputs": [
    {
     "data": {
      "text/plain": [
       "<matplotlib.axes._subplots.AxesSubplot at 0x263ee993940>"
      ]
     },
     "execution_count": 294,
     "metadata": {},
     "output_type": "execute_result"
    },
    {
     "data": {
      "image/png": "[encoded data removed]",
      "text/plain": [
       "<Figure size 432x288 with 1 Axes>"
      ]
     },
     "metadata": {
      "needs_background": "light"
     },
     "output_type": "display_data"
    }
   ],
   "source": [
    "sns.boxplot(gdp.income, orient = 'v')"
   ]
  },
  {
   "cell_type": "code",
   "execution_count": 295,
   "metadata": {},
   "outputs": [
    {
     "data": {
      "text/plain": [
       "<matplotlib.axes._subplots.AxesSubplot at 0x263ed64b860>"
      ]
     },
     "execution_count": 295,
     "metadata": {},
     "output_type": "execute_result"
    },
    {
     "data": {
      "image/png": "[encoded data removed]",
      "text/plain": [
       "<Figure size 432x288 with 1 Axes>"
      ]
     },
     "metadata": {
      "needs_background": "light"
     },
     "output_type": "display_data"
    }
   ],
   "source": [
    "sns.boxplot(gdp.total_fer, orient = 'v')"
   ]
  },
  {
   "cell_type": "code",
   "execution_count": 22,
   "metadata": {},
   "outputs": [
    {
     "data": {
      "text/plain": [
       "<matplotlib.axes._subplots.AxesSubplot at 0x263eaf32860>"
      ]
     },
     "execution_count": 22,
     "metadata": {},
     "output_type": "execute_result"
    },
    {
     "data": {
      "image/png": "[encoded data removed]",
      "text/plain": [
       "<Figure size 432x288 with 1 Axes>"
      ]
     },
     "metadata": {
      "needs_background": "light"
     },
     "output_type": "display_data"
    }
   ],
   "source": [
    "sns.boxplot(gdp.health, orient = 'v')"
   ]
  },
  {
   "cell_type": "code",
   "execution_count": 23,
   "metadata": {},
   "outputs": [
    {
     "data": {
      "text/plain": [
       "<matplotlib.axes._subplots.AxesSubplot at 0x263eb0d3e48>"
      ]
     },
     "execution_count": 23,
     "metadata": {},
     "output_type": "execute_result"
    },
    {
     "data": {
      "image/png": "[encoded data removed]",
      "text/plain": [
       "<Figure size 432x288 with 1 Axes>"
      ]
     },
     "metadata": {
      "needs_background": "light"
     },
     "output_type": "display_data"
    }
   ],
   "source": [
    "sns.boxplot(gdp.child_mort, orient = 'v')"
   ]
  },
  {
   "cell_type": "markdown",
   "metadata": {},
   "source": [
    "It can be seen that outliers do exist in all the variables for which distribution has been visualized using box plot. Though we need to identify the countries that need the funding most based on the comparatively lower GDP, poorer health, import, export and lower factors such as income, will not reduce the data set by removing outliers before the scaling and PCA process.    "
   ]
  },
  {
   "cell_type": "markdown",
   "metadata": {},
   "source": [
    "Taking the dataframe columns minus the 'country' column as we will not be using this column while doing PCA and model analysis. Once cluster details are available, we will include the 'country' column so as to map the relevant counries to the required cluster "
   ]
  },
  {
   "cell_type": "code",
   "execution_count": 27,
   "metadata": {},
   "outputs": [],
   "source": [
    "numerics = ['int64', 'float64']\n",
    "col = gdp.select_dtypes(include=numerics).columns.values"
   ]
  },
  {
   "cell_type": "code",
   "execution_count": 28,
   "metadata": {},
   "outputs": [],
   "source": [
    "gdpm = gdp[col]"
   ]
  },
  {
   "cell_type": "code",
   "execution_count": 29,
   "metadata": {},
   "outputs": [
    {
     "data": {
      "text/html": [
       "<div>\n",
       "<style scoped>\n",
       "    .dataframe tbody tr th:only-of-type {\n",
       "        vertical-align: middle;\n",
       "    }\n",
       "\n",
       "    .dataframe tbody tr th {\n",
       "        vertical-align: top;\n",
       "    }\n",
       "\n",
       "    .dataframe thead th {\n",
       "        text-align: right;\n",
       "    }\n",
       "</style>\n",
       "<table border=\"1\" class=\"dataframe\">\n",
       "  <thead>\n",
       "    <tr style=\"text-align: right;\">\n",
       "      <th></th>\n",
       "      <th>child_mort</th>\n",
       "      <th>exports</th>\n",
       "      <th>health</th>\n",
       "      <th>imports</th>\n",
       "      <th>income</th>\n",
       "      <th>inflation</th>\n",
       "      <th>life_expec</th>\n",
       "      <th>total_fer</th>\n",
       "      <th>gdpp</th>\n",
       "    </tr>\n",
       "  </thead>\n",
       "  <tbody>\n",
       "    <tr>\n",
       "      <th>0</th>\n",
       "      <td>90.2</td>\n",
       "      <td>55.30</td>\n",
       "      <td>41.92</td>\n",
       "      <td>248.30</td>\n",
       "      <td>1610</td>\n",
       "      <td>9.44</td>\n",
       "      <td>56.2</td>\n",
       "      <td>5.82</td>\n",
       "      <td>553</td>\n",
       "    </tr>\n",
       "    <tr>\n",
       "      <th>1</th>\n",
       "      <td>16.6</td>\n",
       "      <td>1145.20</td>\n",
       "      <td>267.90</td>\n",
       "      <td>1987.74</td>\n",
       "      <td>9930</td>\n",
       "      <td>4.49</td>\n",
       "      <td>76.3</td>\n",
       "      <td>1.65</td>\n",
       "      <td>4090</td>\n",
       "    </tr>\n",
       "    <tr>\n",
       "      <th>2</th>\n",
       "      <td>27.3</td>\n",
       "      <td>1712.64</td>\n",
       "      <td>185.98</td>\n",
       "      <td>1400.44</td>\n",
       "      <td>12900</td>\n",
       "      <td>16.10</td>\n",
       "      <td>76.5</td>\n",
       "      <td>2.89</td>\n",
       "      <td>4460</td>\n",
       "    </tr>\n",
       "    <tr>\n",
       "      <th>3</th>\n",
       "      <td>119.0</td>\n",
       "      <td>2199.19</td>\n",
       "      <td>100.60</td>\n",
       "      <td>1514.37</td>\n",
       "      <td>5900</td>\n",
       "      <td>22.40</td>\n",
       "      <td>60.1</td>\n",
       "      <td>6.16</td>\n",
       "      <td>3530</td>\n",
       "    </tr>\n",
       "    <tr>\n",
       "      <th>4</th>\n",
       "      <td>10.3</td>\n",
       "      <td>5551.00</td>\n",
       "      <td>735.66</td>\n",
       "      <td>7185.80</td>\n",
       "      <td>19100</td>\n",
       "      <td>1.44</td>\n",
       "      <td>76.8</td>\n",
       "      <td>2.13</td>\n",
       "      <td>12200</td>\n",
       "    </tr>\n",
       "  </tbody>\n",
       "</table>\n",
       "</div>"
      ],
      "text/plain": [
       "   child_mort  exports  health  imports  income  inflation  life_expec  \\\n",
       "0        90.2    55.30   41.92   248.30    1610       9.44        56.2   \n",
       "1        16.6  1145.20  267.90  1987.74    9930       4.49        76.3   \n",
       "2        27.3  1712.64  185.98  1400.44   12900      16.10        76.5   \n",
       "3       119.0  2199.19  100.60  1514.37    5900      22.40        60.1   \n",
       "4        10.3  5551.00  735.66  7185.80   19100       1.44        76.8   \n",
       "\n",
       "   total_fer   gdpp  \n",
       "0       5.82    553  \n",
       "1       1.65   4090  \n",
       "2       2.89   4460  \n",
       "3       6.16   3530  \n",
       "4       2.13  12200  "
      ]
     },
     "execution_count": 29,
     "metadata": {},
     "output_type": "execute_result"
    }
   ],
   "source": [
    "gdpm.head()"
   ]
  },
  {
   "cell_type": "markdown",
   "metadata": {},
   "source": [
    "Standardizing the data using standard scaler, i.e., scaling the data so that mean of varibales is zero and standard deviation is 1 "
   ]
  },
  {
   "cell_type": "code",
   "execution_count": 30,
   "metadata": {},
   "outputs": [],
   "source": [
    "st = StandardScaler()"
   ]
  },
  {
   "cell_type": "code",
   "execution_count": 37,
   "metadata": {},
   "outputs": [
    {
     "name": "stderr",
     "output_type": "stream",
     "text": [
      "C:\\Users\\pchadha\\AppData\\Local\\Continuum\\anaconda3\\lib\\site-packages\\sklearn\\preprocessing\\data.py:625: DataConversionWarning: Data with input dtype int64, float64 were all converted to float64 by StandardScaler.\n",
      "  return self.partial_fit(X, y)\n",
      "C:\\Users\\pchadha\\AppData\\Local\\Continuum\\anaconda3\\lib\\site-packages\\sklearn\\base.py:462: DataConversionWarning: Data with input dtype int64, float64 were all converted to float64 by StandardScaler.\n",
      "  return self.fit(X, **fit_params).transform(X)\n"
     ]
    }
   ],
   "source": [
    "gdpms = st.fit_transform(gdpm) "
   ]
  },
  {
   "cell_type": "code",
   "execution_count": 39,
   "metadata": {},
   "outputs": [
    {
     "data": {
      "text/plain": [
       "array(['child_mort', 'exports', 'health', 'imports', 'income',\n",
       "       'inflation', 'life_expec', 'total_fer', 'gdpp'], dtype=object)"
      ]
     },
     "execution_count": 39,
     "metadata": {},
     "output_type": "execute_result"
    }
   ],
   "source": [
    "gdpm.columns.values"
   ]
  },
  {
   "cell_type": "code",
   "execution_count": 40,
   "metadata": {},
   "outputs": [],
   "source": [
    "gdpms = pd.DataFrame(gdpms, columns = gdpm.columns.values)"
   ]
  },
  {
   "cell_type": "code",
   "execution_count": 41,
   "metadata": {},
   "outputs": [
    {
     "data": {
      "text/html": [
       "<div>\n",
       "<style scoped>\n",
       "    .dataframe tbody tr th:only-of-type {\n",
       "        vertical-align: middle;\n",
       "    }\n",
       "\n",
       "    .dataframe tbody tr th {\n",
       "        vertical-align: top;\n",
       "    }\n",
       "\n",
       "    .dataframe thead th {\n",
       "        text-align: right;\n",
       "    }\n",
       "</style>\n",
       "<table border=\"1\" class=\"dataframe\">\n",
       "  <thead>\n",
       "    <tr style=\"text-align: right;\">\n",
       "      <th></th>\n",
       "      <th>child_mort</th>\n",
       "      <th>exports</th>\n",
       "      <th>health</th>\n",
       "      <th>imports</th>\n",
       "      <th>income</th>\n",
       "      <th>inflation</th>\n",
       "      <th>life_expec</th>\n",
       "      <th>total_fer</th>\n",
       "      <th>gdpp</th>\n",
       "    </tr>\n",
       "  </thead>\n",
       "  <tbody>\n",
       "    <tr>\n",
       "      <th>0</th>\n",
       "      <td>1.291532</td>\n",
       "      <td>-0.411011</td>\n",
       "      <td>-0.565038</td>\n",
       "      <td>-0.432275</td>\n",
       "      <td>-0.808245</td>\n",
       "      <td>0.157336</td>\n",
       "      <td>-1.619092</td>\n",
       "      <td>1.902882</td>\n",
       "      <td>-0.679180</td>\n",
       "    </tr>\n",
       "    <tr>\n",
       "      <th>1</th>\n",
       "      <td>-0.538949</td>\n",
       "      <td>-0.350191</td>\n",
       "      <td>-0.439215</td>\n",
       "      <td>-0.313677</td>\n",
       "      <td>-0.375369</td>\n",
       "      <td>-0.312347</td>\n",
       "      <td>0.647866</td>\n",
       "      <td>-0.859973</td>\n",
       "      <td>-0.485623</td>\n",
       "    </tr>\n",
       "    <tr>\n",
       "      <th>2</th>\n",
       "      <td>-0.272833</td>\n",
       "      <td>-0.318526</td>\n",
       "      <td>-0.484827</td>\n",
       "      <td>-0.353720</td>\n",
       "      <td>-0.220844</td>\n",
       "      <td>0.789274</td>\n",
       "      <td>0.670423</td>\n",
       "      <td>-0.038404</td>\n",
       "      <td>-0.465376</td>\n",
       "    </tr>\n",
       "    <tr>\n",
       "      <th>3</th>\n",
       "      <td>2.007808</td>\n",
       "      <td>-0.291375</td>\n",
       "      <td>-0.532366</td>\n",
       "      <td>-0.345953</td>\n",
       "      <td>-0.585043</td>\n",
       "      <td>1.387054</td>\n",
       "      <td>-1.179234</td>\n",
       "      <td>2.128151</td>\n",
       "      <td>-0.516268</td>\n",
       "    </tr>\n",
       "    <tr>\n",
       "      <th>4</th>\n",
       "      <td>-0.695634</td>\n",
       "      <td>-0.104331</td>\n",
       "      <td>-0.178771</td>\n",
       "      <td>0.040735</td>\n",
       "      <td>0.101732</td>\n",
       "      <td>-0.601749</td>\n",
       "      <td>0.704258</td>\n",
       "      <td>-0.541946</td>\n",
       "      <td>-0.041817</td>\n",
       "    </tr>\n",
       "    <tr>\n",
       "      <th>5</th>\n",
       "      <td>-0.591177</td>\n",
       "      <td>-0.305464</td>\n",
       "      <td>-0.123849</td>\n",
       "      <td>-0.336841</td>\n",
       "      <td>0.080920</td>\n",
       "      <td>1.244725</td>\n",
       "      <td>0.591474</td>\n",
       "      <td>-0.382933</td>\n",
       "      <td>-0.145791</td>\n",
       "    </tr>\n",
       "    <tr>\n",
       "      <th>6</th>\n",
       "      <td>-0.501643</td>\n",
       "      <td>-0.376722</td>\n",
       "      <td>-0.509493</td>\n",
       "      <td>-0.349751</td>\n",
       "      <td>-0.543421</td>\n",
       "      <td>-0.001123</td>\n",
       "      <td>0.309514</td>\n",
       "      <td>-0.833471</td>\n",
       "      <td>-0.533233</td>\n",
       "    </tr>\n",
       "    <tr>\n",
       "      <th>7</th>\n",
       "      <td>-0.832423</td>\n",
       "      <td>0.159352</td>\n",
       "      <td>1.934367</td>\n",
       "      <td>0.290369</td>\n",
       "      <td>1.261966</td>\n",
       "      <td>-0.628316</td>\n",
       "      <td>1.290735</td>\n",
       "      <td>-0.674457</td>\n",
       "      <td>2.130699</td>\n",
       "    </tr>\n",
       "    <tr>\n",
       "      <th>8</th>\n",
       "      <td>-0.844858</td>\n",
       "      <td>0.928521</td>\n",
       "      <td>2.284104</td>\n",
       "      <td>1.079305</td>\n",
       "      <td>1.355617</td>\n",
       "      <td>-0.655549</td>\n",
       "      <td>1.121559</td>\n",
       "      <td>-0.999109</td>\n",
       "      <td>1.857082</td>\n",
       "    </tr>\n",
       "    <tr>\n",
       "      <th>9</th>\n",
       "      <td>0.023128</td>\n",
       "      <td>-0.237137</td>\n",
       "      <td>-0.397183</td>\n",
       "      <td>-0.366781</td>\n",
       "      <td>-0.059556</td>\n",
       "      <td>0.571037</td>\n",
       "      <td>-0.164178</td>\n",
       "      <td>-0.681083</td>\n",
       "      <td>-0.389857</td>\n",
       "    </tr>\n",
       "    <tr>\n",
       "      <th>10</th>\n",
       "      <td>-0.608587</td>\n",
       "      <td>0.132778</td>\n",
       "      <td>0.641683</td>\n",
       "      <td>0.385066</td>\n",
       "      <td>0.299440</td>\n",
       "      <td>-0.775674</td>\n",
       "      <td>0.365906</td>\n",
       "      <td>-0.720836</td>\n",
       "      <td>0.822811</td>\n",
       "    </tr>\n",
       "    <tr>\n",
       "      <th>11</th>\n",
       "      <td>-0.737914</td>\n",
       "      <td>0.388721</td>\n",
       "      <td>-0.015558</td>\n",
       "      <td>0.269178</td>\n",
       "      <td>1.246357</td>\n",
       "      <td>-0.032435</td>\n",
       "      <td>0.614031</td>\n",
       "      <td>-0.522070</td>\n",
       "      <td>0.423331</td>\n",
       "    </tr>\n",
       "    <tr>\n",
       "      <th>12</th>\n",
       "      <td>0.276809</td>\n",
       "      <td>-0.407329</td>\n",
       "      <td>-0.573524</td>\n",
       "      <td>-0.437938</td>\n",
       "      <td>-0.765062</td>\n",
       "      <td>-0.060901</td>\n",
       "      <td>-0.017559</td>\n",
       "      <td>-0.409435</td>\n",
       "      <td>-0.667961</td>\n",
       "    </tr>\n",
       "    <tr>\n",
       "      <th>13</th>\n",
       "      <td>-0.598639</td>\n",
       "      <td>-0.061418</td>\n",
       "      <td>0.121640</td>\n",
       "      <td>0.082067</td>\n",
       "      <td>-0.095976</td>\n",
       "      <td>-0.707926</td>\n",
       "      <td>0.692980</td>\n",
       "      <td>-0.773841</td>\n",
       "      <td>0.166131</td>\n",
       "    </tr>\n",
       "    <tr>\n",
       "      <th>14</th>\n",
       "      <td>-0.815013</td>\n",
       "      <td>-0.241138</td>\n",
       "      <td>-0.400028</td>\n",
       "      <td>-0.184022</td>\n",
       "      <td>-0.049151</td>\n",
       "      <td>0.694389</td>\n",
       "      <td>-0.017559</td>\n",
       "      <td>-0.965982</td>\n",
       "      <td>-0.379460</td>\n",
       "    </tr>\n",
       "    <tr>\n",
       "      <th>15</th>\n",
       "      <td>-0.839884</td>\n",
       "      <td>1.478850</td>\n",
       "      <td>2.056822</td>\n",
       "      <td>1.812163</td>\n",
       "      <td>1.246357</td>\n",
       "      <td>-0.559999</td>\n",
       "      <td>1.065167</td>\n",
       "      <td>-0.720836</td>\n",
       "      <td>1.720274</td>\n",
       "    </tr>\n",
       "    <tr>\n",
       "      <th>16</th>\n",
       "      <td>-0.484233</td>\n",
       "      <td>-0.273144</td>\n",
       "      <td>-0.462723</td>\n",
       "      <td>-0.279057</td>\n",
       "      <td>-0.482027</td>\n",
       "      <td>-0.630214</td>\n",
       "      <td>0.095225</td>\n",
       "      <td>-0.157664</td>\n",
       "      <td>-0.471942</td>\n",
       "    </tr>\n",
       "    <tr>\n",
       "      <th>17</th>\n",
       "      <td>1.808842</td>\n",
       "      <td>-0.404030</td>\n",
       "      <td>-0.571074</td>\n",
       "      <td>-0.429979</td>\n",
       "      <td>-0.797319</td>\n",
       "      <td>-0.654410</td>\n",
       "      <td>-0.987502</td>\n",
       "      <td>1.598107</td>\n",
       "      <td>-0.667961</td>\n",
       "    </tr>\n",
       "    <tr>\n",
       "      <th>18</th>\n",
       "      <td>0.110176</td>\n",
       "      <td>-0.362395</td>\n",
       "      <td>-0.525261</td>\n",
       "      <td>-0.344119</td>\n",
       "      <td>-0.557989</td>\n",
       "      <td>-0.170019</td>\n",
       "      <td>0.174174</td>\n",
       "      <td>-0.376308</td>\n",
       "      <td>-0.590145</td>\n",
       "    </tr>\n",
       "    <tr>\n",
       "      <th>19</th>\n",
       "      <td>0.207171</td>\n",
       "      <td>-0.368575</td>\n",
       "      <td>-0.535022</td>\n",
       "      <td>-0.402900</td>\n",
       "      <td>-0.610537</td>\n",
       "      <td>0.094712</td>\n",
       "      <td>0.117782</td>\n",
       "      <td>0.166988</td>\n",
       "      <td>-0.601089</td>\n",
       "    </tr>\n",
       "    <tr>\n",
       "      <th>20</th>\n",
       "      <td>-0.780194</td>\n",
       "      <td>-0.337693</td>\n",
       "      <td>-0.303464</td>\n",
       "      <td>-0.287960</td>\n",
       "      <td>-0.386295</td>\n",
       "      <td>-0.605544</td>\n",
       "      <td>0.704258</td>\n",
       "      <td>-1.085242</td>\n",
       "      <td>-0.457167</td>\n",
       "    </tr>\n",
       "    <tr>\n",
       "      <th>21</th>\n",
       "      <td>0.353908</td>\n",
       "      <td>-0.259599</td>\n",
       "      <td>-0.294923</td>\n",
       "      <td>-0.227100</td>\n",
       "      <td>-0.200033</td>\n",
       "      <td>0.107996</td>\n",
       "      <td>-1.517586</td>\n",
       "      <td>-0.045030</td>\n",
       "      <td>-0.361949</td>\n",
       "    </tr>\n",
       "    <tr>\n",
       "      <th>22</th>\n",
       "      <td>-0.459363</td>\n",
       "      <td>-0.347222</td>\n",
       "      <td>-0.026511</td>\n",
       "      <td>-0.359096</td>\n",
       "      <td>-0.137599</td>\n",
       "      <td>0.059604</td>\n",
       "      <td>0.411020</td>\n",
       "      <td>-0.760590</td>\n",
       "      <td>-0.096540</td>\n",
       "    </tr>\n",
       "    <tr>\n",
       "      <th>23</th>\n",
       "      <td>-0.690660</td>\n",
       "      <td>0.913593</td>\n",
       "      <td>-0.030185</td>\n",
       "      <td>0.224703</td>\n",
       "      <td>3.301480</td>\n",
       "      <td>0.846206</td>\n",
       "      <td>0.738094</td>\n",
       "      <td>-0.734087</td>\n",
       "      <td>1.222291</td>\n",
       "    </tr>\n",
       "    <tr>\n",
       "      <th>24</th>\n",
       "      <td>-0.683199</td>\n",
       "      <td>-0.222486</td>\n",
       "      <td>-0.326738</td>\n",
       "      <td>-0.202033</td>\n",
       "      <td>-0.095976</td>\n",
       "      <td>-0.633061</td>\n",
       "      <td>0.377185</td>\n",
       "      <td>-0.912977</td>\n",
       "      <td>-0.335134</td>\n",
       "    </tr>\n",
       "    <tr>\n",
       "      <th>25</th>\n",
       "      <td>1.933196</td>\n",
       "      <td>-0.407937</td>\n",
       "      <td>-0.566798</td>\n",
       "      <td>-0.437600</td>\n",
       "      <td>-0.817611</td>\n",
       "      <td>-0.092213</td>\n",
       "      <td>-1.427359</td>\n",
       "      <td>1.936010</td>\n",
       "      <td>-0.677976</td>\n",
       "    </tr>\n",
       "    <tr>\n",
       "      <th>26</th>\n",
       "      <td>1.376093</td>\n",
       "      <td>-0.412947</td>\n",
       "      <td>-0.573457</td>\n",
       "      <td>-0.443031</td>\n",
       "      <td>-0.852261</td>\n",
       "      <td>0.428709</td>\n",
       "      <td>-1.449916</td>\n",
       "      <td>2.194407</td>\n",
       "      <td>-0.696801</td>\n",
       "    </tr>\n",
       "    <tr>\n",
       "      <th>27</th>\n",
       "      <td>0.152456</td>\n",
       "      <td>-0.390368</td>\n",
       "      <td>-0.563524</td>\n",
       "      <td>-0.417318</td>\n",
       "      <td>-0.760900</td>\n",
       "      <td>-0.442341</td>\n",
       "      <td>-0.502530</td>\n",
       "      <td>-0.045030</td>\n",
       "      <td>-0.666429</td>\n",
       "    </tr>\n",
       "    <tr>\n",
       "      <th>28</th>\n",
       "      <td>1.734230</td>\n",
       "      <td>-0.397868</td>\n",
       "      <td>-0.550963</td>\n",
       "      <td>-0.425089</td>\n",
       "      <td>-0.753616</td>\n",
       "      <td>-0.557152</td>\n",
       "      <td>-1.495030</td>\n",
       "      <td>1.432468</td>\n",
       "      <td>-0.637754</td>\n",
       "    </tr>\n",
       "    <tr>\n",
       "      <th>29</th>\n",
       "      <td>-0.812526</td>\n",
       "      <td>0.355624</td>\n",
       "      <td>2.393903</td>\n",
       "      <td>0.552657</td>\n",
       "      <td>1.225546</td>\n",
       "      <td>-0.466062</td>\n",
       "      <td>1.211786</td>\n",
       "      <td>-0.873224</td>\n",
       "      <td>1.884444</td>\n",
       "    </tr>\n",
       "    <tr>\n",
       "      <th>...</th>\n",
       "      <td>...</td>\n",
       "      <td>...</td>\n",
       "      <td>...</td>\n",
       "      <td>...</td>\n",
       "      <td>...</td>\n",
       "      <td>...</td>\n",
       "      <td>...</td>\n",
       "      <td>...</td>\n",
       "      <td>...</td>\n",
       "    </tr>\n",
       "    <tr>\n",
       "      <th>137</th>\n",
       "      <td>0.383753</td>\n",
       "      <td>-0.297910</td>\n",
       "      <td>-0.226003</td>\n",
       "      <td>-0.313201</td>\n",
       "      <td>-0.267670</td>\n",
       "      <td>-0.135860</td>\n",
       "      <td>-1.833382</td>\n",
       "      <td>-0.237171</td>\n",
       "      <td>-0.311056</td>\n",
       "    </tr>\n",
       "    <tr>\n",
       "      <th>138</th>\n",
       "      <td>-0.849832</td>\n",
       "      <td>0.195133</td>\n",
       "      <td>0.264362</td>\n",
       "      <td>0.246944</td>\n",
       "      <td>0.689653</td>\n",
       "      <td>-0.438545</td>\n",
       "      <td>1.076446</td>\n",
       "      <td>-1.138246</td>\n",
       "      <td>0.499944</td>\n",
       "    </tr>\n",
       "    <tr>\n",
       "      <th>139</th>\n",
       "      <td>-0.857293</td>\n",
       "      <td>0.022761</td>\n",
       "      <td>1.042338</td>\n",
       "      <td>0.111767</td>\n",
       "      <td>0.798913</td>\n",
       "      <td>-0.723202</td>\n",
       "      <td>1.279457</td>\n",
       "      <td>-1.045488</td>\n",
       "      <td>0.970564</td>\n",
       "    </tr>\n",
       "    <tr>\n",
       "      <th>140</th>\n",
       "      <td>-0.673251</td>\n",
       "      <td>-0.383363</td>\n",
       "      <td>-0.542383</td>\n",
       "      <td>-0.397859</td>\n",
       "      <td>-0.446648</td>\n",
       "      <td>1.425008</td>\n",
       "      <td>0.433577</td>\n",
       "      <td>-0.495567</td>\n",
       "      <td>-0.555669</td>\n",
       "    </tr>\n",
       "    <tr>\n",
       "      <th>141</th>\n",
       "      <td>-0.436979</td>\n",
       "      <td>-0.320578</td>\n",
       "      <td>-0.433324</td>\n",
       "      <td>-0.206660</td>\n",
       "      <td>-0.375889</td>\n",
       "      <td>-0.317092</td>\n",
       "      <td>0.117782</td>\n",
       "      <td>-0.581700</td>\n",
       "      <td>-0.368515</td>\n",
       "    </tr>\n",
       "    <tr>\n",
       "      <th>142</th>\n",
       "      <td>0.955778</td>\n",
       "      <td>-0.397827</td>\n",
       "      <td>-0.536297</td>\n",
       "      <td>-0.431848</td>\n",
       "      <td>-0.716675</td>\n",
       "      <td>1.121374</td>\n",
       "      <td>-0.479974</td>\n",
       "      <td>1.280080</td>\n",
       "      <td>-0.628451</td>\n",
       "    </tr>\n",
       "    <tr>\n",
       "      <th>143</th>\n",
       "      <td>-0.352419</td>\n",
       "      <td>-0.170933</td>\n",
       "      <td>-0.264422</td>\n",
       "      <td>-0.231896</td>\n",
       "      <td>-0.153208</td>\n",
       "      <td>-0.055208</td>\n",
       "      <td>-0.028838</td>\n",
       "      <td>-0.283550</td>\n",
       "      <td>-0.255238</td>\n",
       "    </tr>\n",
       "    <tr>\n",
       "      <th>144</th>\n",
       "      <td>-0.877190</td>\n",
       "      <td>0.929107</td>\n",
       "      <td>2.205167</td>\n",
       "      <td>0.996567</td>\n",
       "      <td>1.340008</td>\n",
       "      <td>-0.644352</td>\n",
       "      <td>1.234343</td>\n",
       "      <td>-0.641330</td>\n",
       "      <td>2.141643</td>\n",
       "    </tr>\n",
       "    <tr>\n",
       "      <th>145</th>\n",
       "      <td>-0.839884</td>\n",
       "      <td>2.250190</td>\n",
       "      <td>4.188327</td>\n",
       "      <td>2.261821</td>\n",
       "      <td>1.995566</td>\n",
       "      <td>-0.708305</td>\n",
       "      <td>1.313292</td>\n",
       "      <td>-0.946105</td>\n",
       "      <td>3.372918</td>\n",
       "    </tr>\n",
       "    <tr>\n",
       "      <th>146</th>\n",
       "      <td>0.351421</td>\n",
       "      <td>-0.407961</td>\n",
       "      <td>-0.563808</td>\n",
       "      <td>-0.419718</td>\n",
       "      <td>-0.782231</td>\n",
       "      <td>0.447686</td>\n",
       "      <td>-0.107786</td>\n",
       "      <td>0.372380</td>\n",
       "      <td>-0.669056</td>\n",
       "    </tr>\n",
       "    <tr>\n",
       "      <th>147</th>\n",
       "      <td>0.836399</td>\n",
       "      <td>-0.406772</td>\n",
       "      <td>-0.564888</td>\n",
       "      <td>-0.435277</td>\n",
       "      <td>-0.783272</td>\n",
       "      <td>0.139308</td>\n",
       "      <td>-1.269462</td>\n",
       "      <td>1.644486</td>\n",
       "      <td>-0.671026</td>\n",
       "    </tr>\n",
       "    <tr>\n",
       "      <th>148</th>\n",
       "      <td>-0.581229</td>\n",
       "      <td>-0.225582</td>\n",
       "      <td>-0.478636</td>\n",
       "      <td>-0.238616</td>\n",
       "      <td>-0.189627</td>\n",
       "      <td>-0.351251</td>\n",
       "      <td>0.681702</td>\n",
       "      <td>-0.926228</td>\n",
       "      <td>-0.431447</td>\n",
       "    </tr>\n",
       "    <tr>\n",
       "      <th>149</th>\n",
       "      <td>0.605102</td>\n",
       "      <td>-0.409678</td>\n",
       "      <td>-0.405574</td>\n",
       "      <td>-0.380969</td>\n",
       "      <td>-0.795759</td>\n",
       "      <td>1.776084</td>\n",
       "      <td>0.061390</td>\n",
       "      <td>2.174530</td>\n",
       "      <td>-0.512438</td>\n",
       "    </tr>\n",
       "    <tr>\n",
       "      <th>150</th>\n",
       "      <td>1.294019</td>\n",
       "      <td>-0.403150</td>\n",
       "      <td>-0.567594</td>\n",
       "      <td>-0.430140</td>\n",
       "      <td>-0.829057</td>\n",
       "      <td>-0.626419</td>\n",
       "      <td>-1.337132</td>\n",
       "      <td>1.273455</td>\n",
       "      <td>-0.682737</td>\n",
       "    </tr>\n",
       "    <tr>\n",
       "      <th>151</th>\n",
       "      <td>-0.519052</td>\n",
       "      <td>-0.389532</td>\n",
       "      <td>-0.488168</td>\n",
       "      <td>-0.303252</td>\n",
       "      <td>-0.632910</td>\n",
       "      <td>-0.389205</td>\n",
       "      <td>-0.073951</td>\n",
       "      <td>0.637402</td>\n",
       "      <td>-0.515174</td>\n",
       "    </tr>\n",
       "    <tr>\n",
       "      <th>152</th>\n",
       "      <td>-0.519052</td>\n",
       "      <td>-0.297429</td>\n",
       "      <td>-0.445234</td>\n",
       "      <td>-0.293108</td>\n",
       "      <td>-0.350916</td>\n",
       "      <td>-0.375921</td>\n",
       "      <td>0.715537</td>\n",
       "      <td>-0.535321</td>\n",
       "      <td>-0.482887</td>\n",
       "    </tr>\n",
       "    <tr>\n",
       "      <th>153</th>\n",
       "      <td>-0.476772</td>\n",
       "      <td>-0.292289</td>\n",
       "      <td>-0.186833</td>\n",
       "      <td>-0.263171</td>\n",
       "      <td>0.044501</td>\n",
       "      <td>-0.073236</td>\n",
       "      <td>0.862156</td>\n",
       "      <td>-0.528695</td>\n",
       "      <td>-0.123902</td>\n",
       "    </tr>\n",
       "    <tr>\n",
       "      <th>154</th>\n",
       "      <td>0.590179</td>\n",
       "      <td>-0.225050</td>\n",
       "      <td>-0.526575</td>\n",
       "      <td>-0.314491</td>\n",
       "      <td>-0.374849</td>\n",
       "      <td>-0.519198</td>\n",
       "      <td>-0.299519</td>\n",
       "      <td>-0.078158</td>\n",
       "      <td>-0.466470</td>\n",
       "    </tr>\n",
       "    <tr>\n",
       "      <th>155</th>\n",
       "      <td>1.062722</td>\n",
       "      <td>-0.408420</td>\n",
       "      <td>-0.558530</td>\n",
       "      <td>-0.437602</td>\n",
       "      <td>-0.811887</td>\n",
       "      <td>0.267404</td>\n",
       "      <td>-1.551422</td>\n",
       "      <td>2.121525</td>\n",
       "      <td>-0.676881</td>\n",
       "    </tr>\n",
       "    <tr>\n",
       "      <th>156</th>\n",
       "      <td>-0.660815</td>\n",
       "      <td>-0.336035</td>\n",
       "      <td>-0.460718</td>\n",
       "      <td>-0.345728</td>\n",
       "      <td>-0.485149</td>\n",
       "      <td>0.533083</td>\n",
       "      <td>-0.017559</td>\n",
       "      <td>-0.999109</td>\n",
       "      <td>-0.546913</td>\n",
       "    </tr>\n",
       "    <tr>\n",
       "      <th>157</th>\n",
       "      <td>-0.737914</td>\n",
       "      <td>1.103482</td>\n",
       "      <td>0.124870</td>\n",
       "      <td>1.068519</td>\n",
       "      <td>2.104826</td>\n",
       "      <td>0.447686</td>\n",
       "      <td>0.670423</td>\n",
       "      <td>-0.714211</td>\n",
       "      <td>1.205874</td>\n",
       "    </tr>\n",
       "    <tr>\n",
       "      <th>158</th>\n",
       "      <td>-0.822475</td>\n",
       "      <td>0.198057</td>\n",
       "      <td>1.499563</td>\n",
       "      <td>0.367693</td>\n",
       "      <td>0.991418</td>\n",
       "      <td>-0.589413</td>\n",
       "      <td>1.099002</td>\n",
       "      <td>-0.681083</td>\n",
       "      <td>1.419295</td>\n",
       "    </tr>\n",
       "    <tr>\n",
       "      <th>159</th>\n",
       "      <td>-0.770246</td>\n",
       "      <td>-0.079186</td>\n",
       "      <td>4.235432</td>\n",
       "      <td>0.072194</td>\n",
       "      <td>1.678193</td>\n",
       "      <td>-0.622623</td>\n",
       "      <td>0.918548</td>\n",
       "      <td>-0.674457</td>\n",
       "      <td>1.939167</td>\n",
       "    </tr>\n",
       "    <tr>\n",
       "      <th>160</th>\n",
       "      <td>-0.688173</td>\n",
       "      <td>-0.239449</td>\n",
       "      <td>-0.035124</td>\n",
       "      <td>-0.243119</td>\n",
       "      <td>-0.002325</td>\n",
       "      <td>-0.272496</td>\n",
       "      <td>0.659145</td>\n",
       "      <td>-0.575074</td>\n",
       "      <td>-0.058234</td>\n",
       "    </tr>\n",
       "    <tr>\n",
       "      <th>161</th>\n",
       "      <td>-0.048997</td>\n",
       "      <td>-0.389685</td>\n",
       "      <td>-0.543736</td>\n",
       "      <td>-0.422389</td>\n",
       "      <td>-0.671411</td>\n",
       "      <td>0.827229</td>\n",
       "      <td>-0.198014</td>\n",
       "      <td>-0.402810</td>\n",
       "      <td>-0.633923</td>\n",
       "    </tr>\n",
       "    <tr>\n",
       "      <th>162</th>\n",
       "      <td>-0.225578</td>\n",
       "      <td>-0.336864</td>\n",
       "      <td>-0.501559</td>\n",
       "      <td>-0.342488</td>\n",
       "      <td>-0.738527</td>\n",
       "      <td>-0.489784</td>\n",
       "      <td>-0.852161</td>\n",
       "      <td>0.365754</td>\n",
       "      <td>-0.546913</td>\n",
       "    </tr>\n",
       "    <tr>\n",
       "      <th>163</th>\n",
       "      <td>-0.526514</td>\n",
       "      <td>-0.199393</td>\n",
       "      <td>-0.219310</td>\n",
       "      <td>-0.287205</td>\n",
       "      <td>-0.033542</td>\n",
       "      <td>3.616865</td>\n",
       "      <td>0.546361</td>\n",
       "      <td>-0.316678</td>\n",
       "      <td>0.029323</td>\n",
       "    </tr>\n",
       "    <tr>\n",
       "      <th>164</th>\n",
       "      <td>-0.372315</td>\n",
       "      <td>-0.361463</td>\n",
       "      <td>-0.538491</td>\n",
       "      <td>-0.377572</td>\n",
       "      <td>-0.658404</td>\n",
       "      <td>0.409732</td>\n",
       "      <td>0.286958</td>\n",
       "      <td>-0.661206</td>\n",
       "      <td>-0.637754</td>\n",
       "    </tr>\n",
       "    <tr>\n",
       "      <th>165</th>\n",
       "      <td>0.448417</td>\n",
       "      <td>-0.392166</td>\n",
       "      <td>-0.550595</td>\n",
       "      <td>-0.418479</td>\n",
       "      <td>-0.658924</td>\n",
       "      <td>1.500916</td>\n",
       "      <td>-0.344633</td>\n",
       "      <td>1.140944</td>\n",
       "      <td>-0.637754</td>\n",
       "    </tr>\n",
       "    <tr>\n",
       "      <th>166</th>\n",
       "      <td>1.114951</td>\n",
       "      <td>-0.383952</td>\n",
       "      <td>-0.540501</td>\n",
       "      <td>-0.418445</td>\n",
       "      <td>-0.721358</td>\n",
       "      <td>0.590015</td>\n",
       "      <td>-2.092785</td>\n",
       "      <td>1.624609</td>\n",
       "      <td>-0.629546</td>\n",
       "    </tr>\n",
       "  </tbody>\n",
       "</table>\n",
       "<p>167 rows × 9 columns</p>\n",
       "</div>"
      ],
      "text/plain": [
       "     child_mort   exports    health   imports    income  inflation  \\\n",
       "0      1.291532 -0.411011 -0.565038 -0.432275 -0.808245   0.157336   \n",
       "1     -0.538949 -0.350191 -0.439215 -0.313677 -0.375369  -0.312347   \n",
       "2     -0.272833 -0.318526 -0.484827 -0.353720 -0.220844   0.789274   \n",
       "3      2.007808 -0.291375 -0.532366 -0.345953 -0.585043   1.387054   \n",
       "4     -0.695634 -0.104331 -0.178771  0.040735  0.101732  -0.601749   \n",
       "5     -0.591177 -0.305464 -0.123849 -0.336841  0.080920   1.244725   \n",
       "6     -0.501643 -0.376722 -0.509493 -0.349751 -0.543421  -0.001123   \n",
       "7     -0.832423  0.159352  1.934367  0.290369  1.261966  -0.628316   \n",
       "8     -0.844858  0.928521  2.284104  1.079305  1.355617  -0.655549   \n",
       "9      0.023128 -0.237137 -0.397183 -0.366781 -0.059556   0.571037   \n",
       "10    -0.608587  0.132778  0.641683  0.385066  0.299440  -0.775674   \n",
       "11    -0.737914  0.388721 -0.015558  0.269178  1.246357  -0.032435   \n",
       "12     0.276809 -0.407329 -0.573524 -0.437938 -0.765062  -0.060901   \n",
       "13    -0.598639 -0.061418  0.121640  0.082067 -0.095976  -0.707926   \n",
       "14    -0.815013 -0.241138 -0.400028 -0.184022 -0.049151   0.694389   \n",
       "15    -0.839884  1.478850  2.056822  1.812163  1.246357  -0.559999   \n",
       "16    -0.484233 -0.273144 -0.462723 -0.279057 -0.482027  -0.630214   \n",
       "17     1.808842 -0.404030 -0.571074 -0.429979 -0.797319  -0.654410   \n",
       "18     0.110176 -0.362395 -0.525261 -0.344119 -0.557989  -0.170019   \n",
       "19     0.207171 -0.368575 -0.535022 -0.402900 -0.610537   0.094712   \n",
       "20    -0.780194 -0.337693 -0.303464 -0.287960 -0.386295  -0.605544   \n",
       "21     0.353908 -0.259599 -0.294923 -0.227100 -0.200033   0.107996   \n",
       "22    -0.459363 -0.347222 -0.026511 -0.359096 -0.137599   0.059604   \n",
       "23    -0.690660  0.913593 -0.030185  0.224703  3.301480   0.846206   \n",
       "24    -0.683199 -0.222486 -0.326738 -0.202033 -0.095976  -0.633061   \n",
       "25     1.933196 -0.407937 -0.566798 -0.437600 -0.817611  -0.092213   \n",
       "26     1.376093 -0.412947 -0.573457 -0.443031 -0.852261   0.428709   \n",
       "27     0.152456 -0.390368 -0.563524 -0.417318 -0.760900  -0.442341   \n",
       "28     1.734230 -0.397868 -0.550963 -0.425089 -0.753616  -0.557152   \n",
       "29    -0.812526  0.355624  2.393903  0.552657  1.225546  -0.466062   \n",
       "..          ...       ...       ...       ...       ...        ...   \n",
       "137    0.383753 -0.297910 -0.226003 -0.313201 -0.267670  -0.135860   \n",
       "138   -0.849832  0.195133  0.264362  0.246944  0.689653  -0.438545   \n",
       "139   -0.857293  0.022761  1.042338  0.111767  0.798913  -0.723202   \n",
       "140   -0.673251 -0.383363 -0.542383 -0.397859 -0.446648   1.425008   \n",
       "141   -0.436979 -0.320578 -0.433324 -0.206660 -0.375889  -0.317092   \n",
       "142    0.955778 -0.397827 -0.536297 -0.431848 -0.716675   1.121374   \n",
       "143   -0.352419 -0.170933 -0.264422 -0.231896 -0.153208  -0.055208   \n",
       "144   -0.877190  0.929107  2.205167  0.996567  1.340008  -0.644352   \n",
       "145   -0.839884  2.250190  4.188327  2.261821  1.995566  -0.708305   \n",
       "146    0.351421 -0.407961 -0.563808 -0.419718 -0.782231   0.447686   \n",
       "147    0.836399 -0.406772 -0.564888 -0.435277 -0.783272   0.139308   \n",
       "148   -0.581229 -0.225582 -0.478636 -0.238616 -0.189627  -0.351251   \n",
       "149    0.605102 -0.409678 -0.405574 -0.380969 -0.795759   1.776084   \n",
       "150    1.294019 -0.403150 -0.567594 -0.430140 -0.829057  -0.626419   \n",
       "151   -0.519052 -0.389532 -0.488168 -0.303252 -0.632910  -0.389205   \n",
       "152   -0.519052 -0.297429 -0.445234 -0.293108 -0.350916  -0.375921   \n",
       "153   -0.476772 -0.292289 -0.186833 -0.263171  0.044501  -0.073236   \n",
       "154    0.590179 -0.225050 -0.526575 -0.314491 -0.374849  -0.519198   \n",
       "155    1.062722 -0.408420 -0.558530 -0.437602 -0.811887   0.267404   \n",
       "156   -0.660815 -0.336035 -0.460718 -0.345728 -0.485149   0.533083   \n",
       "157   -0.737914  1.103482  0.124870  1.068519  2.104826   0.447686   \n",
       "158   -0.822475  0.198057  1.499563  0.367693  0.991418  -0.589413   \n",
       "159   -0.770246 -0.079186  4.235432  0.072194  1.678193  -0.622623   \n",
       "160   -0.688173 -0.239449 -0.035124 -0.243119 -0.002325  -0.272496   \n",
       "161   -0.048997 -0.389685 -0.543736 -0.422389 -0.671411   0.827229   \n",
       "162   -0.225578 -0.336864 -0.501559 -0.342488 -0.738527  -0.489784   \n",
       "163   -0.526514 -0.199393 -0.219310 -0.287205 -0.033542   3.616865   \n",
       "164   -0.372315 -0.361463 -0.538491 -0.377572 -0.658404   0.409732   \n",
       "165    0.448417 -0.392166 -0.550595 -0.418479 -0.658924   1.500916   \n",
       "166    1.114951 -0.383952 -0.540501 -0.418445 -0.721358   0.590015   \n",
       "\n",
       "     life_expec  total_fer      gdpp  \n",
       "0     -1.619092   1.902882 -0.679180  \n",
       "1      0.647866  -0.859973 -0.485623  \n",
       "2      0.670423  -0.038404 -0.465376  \n",
       "3     -1.179234   2.128151 -0.516268  \n",
       "4      0.704258  -0.541946 -0.041817  \n",
       "5      0.591474  -0.382933 -0.145791  \n",
       "6      0.309514  -0.833471 -0.533233  \n",
       "7      1.290735  -0.674457  2.130699  \n",
       "8      1.121559  -0.999109  1.857082  \n",
       "9     -0.164178  -0.681083 -0.389857  \n",
       "10     0.365906  -0.720836  0.822811  \n",
       "11     0.614031  -0.522070  0.423331  \n",
       "12    -0.017559  -0.409435 -0.667961  \n",
       "13     0.692980  -0.773841  0.166131  \n",
       "14    -0.017559  -0.965982 -0.379460  \n",
       "15     1.065167  -0.720836  1.720274  \n",
       "16     0.095225  -0.157664 -0.471942  \n",
       "17    -0.987502   1.598107 -0.667961  \n",
       "18     0.174174  -0.376308 -0.590145  \n",
       "19     0.117782   0.166988 -0.601089  \n",
       "20     0.704258  -1.085242 -0.457167  \n",
       "21    -1.517586  -0.045030 -0.361949  \n",
       "22     0.411020  -0.760590 -0.096540  \n",
       "23     0.738094  -0.734087  1.222291  \n",
       "24     0.377185  -0.912977 -0.335134  \n",
       "25    -1.427359   1.936010 -0.677976  \n",
       "26    -1.449916   2.194407 -0.696801  \n",
       "27    -0.502530  -0.045030 -0.666429  \n",
       "28    -1.495030   1.432468 -0.637754  \n",
       "29     1.211786  -0.873224  1.884444  \n",
       "..          ...        ...       ...  \n",
       "137   -1.833382  -0.237171 -0.311056  \n",
       "138    1.076446  -1.138246  0.499944  \n",
       "139    1.279457  -1.045488  0.970564  \n",
       "140    0.433577  -0.495567 -0.555669  \n",
       "141    0.117782  -0.581700 -0.368515  \n",
       "142   -0.479974   1.280080 -0.628451  \n",
       "143   -0.028838  -0.283550 -0.255238  \n",
       "144    1.234343  -0.641330  2.141643  \n",
       "145    1.313292  -0.946105  3.372918  \n",
       "146   -0.107786   0.372380 -0.669056  \n",
       "147   -1.269462   1.644486 -0.671026  \n",
       "148    0.681702  -0.926228 -0.431447  \n",
       "149    0.061390   2.174530 -0.512438  \n",
       "150   -1.337132   1.273455 -0.682737  \n",
       "151   -0.073951   0.637402 -0.515174  \n",
       "152    0.715537  -0.535321 -0.482887  \n",
       "153    0.862156  -0.528695 -0.123902  \n",
       "154   -0.299519  -0.078158 -0.466470  \n",
       "155   -1.551422   2.121525 -0.676881  \n",
       "156   -0.017559  -0.999109 -0.546913  \n",
       "157    0.670423  -0.714211  1.205874  \n",
       "158    1.099002  -0.681083  1.419295  \n",
       "159    0.918548  -0.674457  1.939167  \n",
       "160    0.659145  -0.575074 -0.058234  \n",
       "161   -0.198014  -0.402810 -0.633923  \n",
       "162   -0.852161   0.365754 -0.546913  \n",
       "163    0.546361  -0.316678  0.029323  \n",
       "164    0.286958  -0.661206 -0.637754  \n",
       "165   -0.344633   1.140944 -0.637754  \n",
       "166   -2.092785   1.624609 -0.629546  \n",
       "\n",
       "[167 rows x 9 columns]"
      ]
     },
     "execution_count": 41,
     "metadata": {},
     "output_type": "execute_result"
    }
   ],
   "source": [
    "# Standardized dataframe\n",
    "gdpms"
   ]
  },
  {
   "cell_type": "markdown",
   "metadata": {},
   "source": [
    "Plotting the correlation matrix to get the idea of correlation between the variables"
   ]
  },
  {
   "cell_type": "code",
   "execution_count": 47,
   "metadata": {},
   "outputs": [
    {
     "data": {
      "image/png": "[encoded data removed]",
      "text/plain": [
       "<Figure size 1080x720 with 2 Axes>"
      ]
     },
     "metadata": {
      "needs_background": "light"
     },
     "output_type": "display_data"
    }
   ],
   "source": [
    "plt.figure(figsize = (15, 10))\n",
    "sns.heatmap(gdpms.corr(), annot = True, cmap=\"YlGnBu\")\n",
    "plt.show()"
   ]
  },
  {
   "cell_type": "markdown",
   "metadata": {},
   "source": [
    "While it was expected that 'exports', 'health' and 'imports' would be highly correlated with 'gdpp', 'income' and 'life_expec' are the other two major correlated variables with 'gdpp'.\n",
    "Also, 'life_expec' is higly negatively correlated to 'child_mort' and 'total_fer', which goes with the defination of these columns as well"
   ]
  },
  {
   "cell_type": "markdown",
   "metadata": {},
   "source": [
    "Now that we have the standardized dataframe, will run PCA to identify the most important variables to be used for clustering.   "
   ]
  },
  {
   "cell_type": "code",
   "execution_count": 42,
   "metadata": {},
   "outputs": [],
   "source": [
    "#PCA\n",
    "pca = PCA(svd_solver='randomized', random_state=42)"
   ]
  },
  {
   "cell_type": "code",
   "execution_count": 43,
   "metadata": {},
   "outputs": [
    {
     "data": {
      "text/plain": [
       "PCA(copy=True, iterated_power='auto', n_components=None, random_state=42,\n",
       "  svd_solver='randomized', tol=0.0, whiten=False)"
      ]
     },
     "execution_count": 43,
     "metadata": {},
     "output_type": "execute_result"
    }
   ],
   "source": [
    "pca.fit(gdpms)"
   ]
  },
  {
   "cell_type": "code",
   "execution_count": 44,
   "metadata": {},
   "outputs": [
    {
     "data": {
      "text/plain": [
       "array([[-0.31639186,  0.34288671,  0.35853499,  0.34486492,  0.38004113,\n",
       "        -0.14308532,  0.34385651, -0.30284223,  0.39998795],\n",
       "       [ 0.47626736,  0.39731091,  0.15505293,  0.37078074,  0.12838447,\n",
       "         0.22126086, -0.36981973,  0.45971522,  0.2006241 ],\n",
       "       [-0.15001226, -0.03057357, -0.07570343, -0.07217375,  0.14576424,\n",
       "         0.94841867,  0.19675172, -0.07783434,  0.0103394 ],\n",
       "       [-0.14805185,  0.44942527, -0.59971229,  0.46179778, -0.15480589,\n",
       "        -0.00762818, -0.01839485, -0.21392819, -0.36477234],\n",
       "       [ 0.10199508, -0.03853838, -0.49319955, -0.25278675,  0.79407463,\n",
       "        -0.1364234 , -0.15404182, -0.02033659,  0.08750161],\n",
       "       [ 0.19658514, -0.03891118,  0.18069951, -0.01217966, -0.03814788,\n",
       "         0.10840303, -0.58600962, -0.75390071,  0.04538188],\n",
       "       [ 0.76126724, -0.01366973, -0.06461567,  0.02718245, -0.02311309,\n",
       "        -0.02207665,  0.5812085 , -0.27314529, -0.04402268],\n",
       "       [ 0.00644412, -0.05526367,  0.43007215,  0.13113546,  0.39381131,\n",
       "        -0.00607008,  0.00296583,  0.03429312, -0.79902242],\n",
       "       [-0.00495137, -0.71792389, -0.13034591,  0.66568665,  0.07901103,\n",
       "         0.01128133, -0.03159404,  0.0236819 ,  0.12846394]])"
      ]
     },
     "execution_count": 44,
     "metadata": {},
     "output_type": "execute_result"
    }
   ],
   "source": [
    "pca.components_"
   ]
  },
  {
   "cell_type": "markdown",
   "metadata": {},
   "source": [
    "We can see that there are 9 PCA components, same number as the total number of original variables"
   ]
  },
  {
   "cell_type": "code",
   "execution_count": 45,
   "metadata": {},
   "outputs": [
    {
     "data": {
      "text/plain": [
       "array([5.89372979e-01, 1.84451687e-01, 9.91147192e-02, 6.07227850e-02,\n",
       "       3.02917271e-02, 2.45982648e-02, 9.39743693e-03, 1.55641982e-03,\n",
       "       4.93981448e-04])"
      ]
     },
     "execution_count": 45,
     "metadata": {},
     "output_type": "execute_result"
    }
   ],
   "source": [
    "# Checking the explained variance ratio\n",
    "pca.explained_variance_ratio_"
   ]
  },
  {
   "cell_type": "code",
   "execution_count": 88,
   "metadata": {},
   "outputs": [
    {
     "data": {
      "text/plain": [
       "0.9639538970491158"
      ]
     },
     "execution_count": 88,
     "metadata": {},
     "output_type": "execute_result"
    }
   ],
   "source": [
    "pca.explained_variance_ratio_[0] + pca.explained_variance_ratio_[1] + pca.explained_variance_ratio_[2] + pca.explained_variance_ratio_[3] + pca.explained_variance_ratio_[4]"
   ]
  },
  {
   "cell_type": "code",
   "execution_count": 46,
   "metadata": {},
   "outputs": [
    {
     "data": {
      "image/png": "[encoded data removed]",
      "text/plain": [
       "<Figure size 864x576 with 1 Axes>"
      ]
     },
     "metadata": {
      "needs_background": "light"
     },
     "output_type": "display_data"
    }
   ],
   "source": [
    "# Plotting the cummulative variance and number of PCs graph to identify the correct number of PCs required to explain 95% of variance\n",
    "%matplotlib inline\n",
    "fig = plt.figure(figsize = (12,8))\n",
    "plt.plot(np.cumsum(pca.explained_variance_ratio_))\n",
    "plt.xlabel(\"Number of components\")\n",
    "plt.ylabel(\"Cummulative variance\")\n",
    "plt.show()"
   ]
  },
  {
   "cell_type": "markdown",
   "metadata": {},
   "source": [
    "It can be seen that 5 PCs explain in total of approximately 96% variance"
   ]
  },
  {
   "cell_type": "code",
   "execution_count": 50,
   "metadata": {},
   "outputs": [
    {
     "data": {
      "text/html": [
       "<div>\n",
       "<style scoped>\n",
       "    .dataframe tbody tr th:only-of-type {\n",
       "        vertical-align: middle;\n",
       "    }\n",
       "\n",
       "    .dataframe tbody tr th {\n",
       "        vertical-align: top;\n",
       "    }\n",
       "\n",
       "    .dataframe thead th {\n",
       "        text-align: right;\n",
       "    }\n",
       "</style>\n",
       "<table border=\"1\" class=\"dataframe\">\n",
       "  <thead>\n",
       "    <tr style=\"text-align: right;\">\n",
       "      <th></th>\n",
       "      <th>Feature</th>\n",
       "      <th>PC1</th>\n",
       "      <th>PC2</th>\n",
       "      <th>PC3</th>\n",
       "      <th>PC4</th>\n",
       "      <th>PC5</th>\n",
       "    </tr>\n",
       "  </thead>\n",
       "  <tbody>\n",
       "    <tr>\n",
       "      <th>0</th>\n",
       "      <td>child_mort</td>\n",
       "      <td>-0.316392</td>\n",
       "      <td>0.476267</td>\n",
       "      <td>-0.150012</td>\n",
       "      <td>-0.148052</td>\n",
       "      <td>0.101995</td>\n",
       "    </tr>\n",
       "    <tr>\n",
       "      <th>1</th>\n",
       "      <td>exports</td>\n",
       "      <td>0.342887</td>\n",
       "      <td>0.397311</td>\n",
       "      <td>-0.030574</td>\n",
       "      <td>0.449425</td>\n",
       "      <td>-0.038538</td>\n",
       "    </tr>\n",
       "    <tr>\n",
       "      <th>2</th>\n",
       "      <td>health</td>\n",
       "      <td>0.358535</td>\n",
       "      <td>0.155053</td>\n",
       "      <td>-0.075703</td>\n",
       "      <td>-0.599712</td>\n",
       "      <td>-0.493200</td>\n",
       "    </tr>\n",
       "    <tr>\n",
       "      <th>3</th>\n",
       "      <td>imports</td>\n",
       "      <td>0.344865</td>\n",
       "      <td>0.370781</td>\n",
       "      <td>-0.072174</td>\n",
       "      <td>0.461798</td>\n",
       "      <td>-0.252787</td>\n",
       "    </tr>\n",
       "    <tr>\n",
       "      <th>4</th>\n",
       "      <td>income</td>\n",
       "      <td>0.380041</td>\n",
       "      <td>0.128384</td>\n",
       "      <td>0.145764</td>\n",
       "      <td>-0.154806</td>\n",
       "      <td>0.794075</td>\n",
       "    </tr>\n",
       "    <tr>\n",
       "      <th>5</th>\n",
       "      <td>inflation</td>\n",
       "      <td>-0.143085</td>\n",
       "      <td>0.221261</td>\n",
       "      <td>0.948419</td>\n",
       "      <td>-0.007628</td>\n",
       "      <td>-0.136423</td>\n",
       "    </tr>\n",
       "    <tr>\n",
       "      <th>6</th>\n",
       "      <td>life_expec</td>\n",
       "      <td>0.343857</td>\n",
       "      <td>-0.369820</td>\n",
       "      <td>0.196752</td>\n",
       "      <td>-0.018395</td>\n",
       "      <td>-0.154042</td>\n",
       "    </tr>\n",
       "    <tr>\n",
       "      <th>7</th>\n",
       "      <td>total_fer</td>\n",
       "      <td>-0.302842</td>\n",
       "      <td>0.459715</td>\n",
       "      <td>-0.077834</td>\n",
       "      <td>-0.213928</td>\n",
       "      <td>-0.020337</td>\n",
       "    </tr>\n",
       "    <tr>\n",
       "      <th>8</th>\n",
       "      <td>gdpp</td>\n",
       "      <td>0.399988</td>\n",
       "      <td>0.200624</td>\n",
       "      <td>0.010339</td>\n",
       "      <td>-0.364772</td>\n",
       "      <td>0.087502</td>\n",
       "    </tr>\n",
       "  </tbody>\n",
       "</table>\n",
       "</div>"
      ],
      "text/plain": [
       "      Feature       PC1       PC2       PC3       PC4       PC5\n",
       "0  child_mort -0.316392  0.476267 -0.150012 -0.148052  0.101995\n",
       "1     exports  0.342887  0.397311 -0.030574  0.449425 -0.038538\n",
       "2      health  0.358535  0.155053 -0.075703 -0.599712 -0.493200\n",
       "3     imports  0.344865  0.370781 -0.072174  0.461798 -0.252787\n",
       "4      income  0.380041  0.128384  0.145764 -0.154806  0.794075\n",
       "5   inflation -0.143085  0.221261  0.948419 -0.007628 -0.136423\n",
       "6  life_expec  0.343857 -0.369820  0.196752 -0.018395 -0.154042\n",
       "7   total_fer -0.302842  0.459715 -0.077834 -0.213928 -0.020337\n",
       "8        gdpp  0.399988  0.200624  0.010339 -0.364772  0.087502"
      ]
     },
     "execution_count": 50,
     "metadata": {},
     "output_type": "execute_result"
    }
   ],
   "source": [
    "#Understanding how the original variables are loaded on the principal components. It can be verified from above as well.\n",
    "colnames = list(gdpms.columns)\n",
    "pcs_df = pd.DataFrame({ 'Feature':colnames,'PC1':pca.components_[0],'PC2':pca.components_[1], 'PC3':pca.components_[2],'PC4':pca.components_[3],'PC5':pca.components_[4]})\n",
    "pcs_df"
   ]
  },
  {
   "cell_type": "code",
   "execution_count": 51,
   "metadata": {},
   "outputs": [
    {
     "data": {
      "image/png": "[encoded data removed]",
      "text/plain": [
       "<Figure size 576x576 with 1 Axes>"
      ]
     },
     "metadata": {
      "needs_background": "light"
     },
     "output_type": "display_data"
    }
   ],
   "source": [
    "# Will plot the first two PCs to visualise how these features are loaded against these two\n",
    "%matplotlib inline\n",
    "fig = plt.figure(figsize = (8,8))\n",
    "plt.scatter(pcs_df.PC1, pcs_df.PC2)\n",
    "plt.xlabel('Principal Component 1')\n",
    "plt.ylabel('Principal Component 2')\n",
    "for i, txt in enumerate(pcs_df.Feature):\n",
    "    plt.annotate(txt, (pcs_df.PC1[i],pcs_df.PC2[i]))\n",
    "plt.tight_layout()\n",
    "plt.show()"
   ]
  },
  {
   "cell_type": "code",
   "execution_count": 53,
   "metadata": {},
   "outputs": [
    {
     "data": {
      "image/png": "[encoded data removed]",
      "text/plain": [
       "<Figure size 576x576 with 1 Axes>"
      ]
     },
     "metadata": {
      "needs_background": "light"
     },
     "output_type": "display_data"
    }
   ],
   "source": [
    "fig = plt.figure(figsize = (8,8))\n",
    "plt.scatter(pcs_df.PC3, pcs_df.PC4)\n",
    "plt.xlabel('Principal Component 3')\n",
    "plt.ylabel('Principal Component 4')\n",
    "for i, txt in enumerate(pcs_df.Feature):\n",
    "    plt.annotate(txt, (pcs_df.PC3[i],pcs_df.PC4[i]))\n",
    "plt.tight_layout()\n",
    "plt.show()"
   ]
  },
  {
   "cell_type": "code",
   "execution_count": 54,
   "metadata": {},
   "outputs": [
    {
     "data": {
      "image/png": "[encoded data removed]",
      "text/plain": [
       "<Figure size 576x576 with 1 Axes>"
      ]
     },
     "metadata": {
      "needs_background": "light"
     },
     "output_type": "display_data"
    }
   ],
   "source": [
    "fig = plt.figure(figsize = (8,8))\n",
    "plt.scatter(pcs_df.PC4, pcs_df.PC5)\n",
    "plt.xlabel('Principal Component 4')\n",
    "plt.ylabel('Principal Component 5')\n",
    "for i, txt in enumerate(pcs_df.Feature):\n",
    "    plt.annotate(txt, (pcs_df.PC4[i],pcs_df.PC5[i]))\n",
    "plt.tight_layout()\n",
    "plt.show()"
   ]
  },
  {
   "cell_type": "markdown",
   "metadata": {},
   "source": [
    "It can be seen from scatter plots above that the first 5 PCs explain most of the variance contributed by primary variables "
   ]
  },
  {
   "cell_type": "code",
   "execution_count": 58,
   "metadata": {},
   "outputs": [],
   "source": [
    "#let's go ahead and do dimenstionality reduction using the 5 Principal Components\n",
    "pca_fl = PCA(n_components=5)"
   ]
  },
  {
   "cell_type": "code",
   "execution_count": 60,
   "metadata": {},
   "outputs": [],
   "source": [
    "gdpca = pca_fl.fit_transform(gdpms)"
   ]
  },
  {
   "cell_type": "code",
   "execution_count": 62,
   "metadata": {},
   "outputs": [
    {
     "data": {
      "text/plain": [
       "(167, 5)"
      ]
     },
     "execution_count": 62,
     "metadata": {},
     "output_type": "execute_result"
    }
   ],
   "source": [
    "gdpca.shape"
   ]
  },
  {
   "cell_type": "code",
   "execution_count": 63,
   "metadata": {},
   "outputs": [
    {
     "data": {
      "text/plain": [
       "array([[-2.63557438e+00,  1.47226772e+00, -5.49489025e-01,\n",
       "        -2.42326219e-01,  2.35287396e-02],\n",
       "       [-2.42045591e-02, -1.42989145e+00, -1.41234584e-02,\n",
       "         4.50643658e-01, -1.25822112e-01],\n",
       "       [-4.59557795e-01, -6.75495575e-01,  9.59354782e-01,\n",
       "         2.18456237e-01, -1.13275530e-01],\n",
       "       [-2.72263127e+00,  2.17233140e+00,  6.00214741e-01,\n",
       "        -4.33976205e-01,  5.43350737e-03],\n",
       "       [ 6.48597056e-01, -1.02343677e+00, -2.57429987e-01,\n",
       "         2.89201097e-01,  7.26940099e-02],\n",
       "       [ 3.54221460e-02, -6.85250671e-01,  1.46869729e+00,\n",
       "        -2.88387145e-02, -1.03927932e-01],\n",
       "       [-3.34554721e-01, -1.27188942e+00,  1.90564244e-01,\n",
       "         5.00246822e-01, -2.05703083e-01],\n",
       "       [ 3.18152480e+00, -2.62484614e-01, -1.30870672e-01,\n",
       "        -1.67835766e+00, -2.93337433e-02],\n",
       "       [ 3.81685714e+00,  2.48363363e-01, -2.58960403e-01,\n",
       "        -1.01816292e+00, -3.45365737e-01],\n",
       "       [-4.67995112e-01, -4.92682287e-01,  6.09900433e-01,\n",
       "         2.54612659e-01,  1.79938717e-01],\n",
       "       [ 1.49896171e+00, -4.29631873e-01, -5.44543285e-01,\n",
       "        -2.50326616e-01, -1.07117722e-01],\n",
       "       [ 1.47088772e+00, -3.28925291e-01,  3.97297873e-01,\n",
       "         1.70861922e-01,  7.96582857e-01],\n",
       "       [-1.01516696e+00, -7.08743021e-01, -1.01816802e-01,\n",
       "         3.68131314e-01, -2.09126478e-01],\n",
       "       [ 8.44165726e-01, -1.00787687e+00, -4.10556344e-01,\n",
       "         1.38432343e-01, -1.95538067e-01],\n",
       "       [-1.50198307e-02, -9.80609357e-01,  8.92414682e-01,\n",
       "         5.14913147e-01,  2.53638841e-02],\n",
       "       [ 3.96165209e+00,  8.34321422e-01, -2.71693068e-01,\n",
       "        -2.89235766e-01, -5.47967446e-01],\n",
       "       [-4.03885249e-01, -9.18069574e-01, -5.05679254e-01,\n",
       "         3.81122882e-01, -8.96538483e-02],\n",
       "       [-2.36396157e+00,  1.17169603e+00, -1.24719233e+00,\n",
       "        -2.57106718e-01,  1.07724632e-01],\n",
       "       [-7.16047990e-01, -7.65606639e-01, -1.25974716e-01,\n",
       "         3.57155192e-01, -1.19455013e-01],\n",
       "       [-1.01877746e+00, -4.24925903e-01,  5.45655319e-02,\n",
       "         2.13645087e-01, -1.70813685e-01],\n",
       "       [ 2.50743184e-01, -1.69421994e+00, -2.41191296e-01,\n",
       "         4.63144181e-01, -1.94655790e-01],\n",
       "       [-1.12948907e+00,  4.01611369e-01, -2.31994102e-01,\n",
       "         1.02647582e-01,  2.78407000e-01],\n",
       "       [ 1.65169992e-01, -1.01949481e+00,  2.82993413e-01,\n",
       "        -2.67592767e-02, -1.03310842e-01],\n",
       "       [ 2.69707911e+00,  3.58556217e-01,  1.56053426e+00,\n",
       "        -1.85221707e-01,  2.36679650e+00],\n",
       "       [ 2.79293054e-01, -1.31818197e+00, -3.23981928e-01,\n",
       "         4.34116310e-01,  9.24011750e-02],\n",
       "       [-2.75147902e+00,  1.66499193e+00, -8.48207278e-01,\n",
       "        -3.45047299e-01,  8.75750929e-02],\n",
       "       [-2.76243909e+00,  1.62879011e+00, -2.99329374e-01,\n",
       "        -3.09939436e-01, -6.64052274e-02],\n",
       "       [-1.17965483e+00, -4.88714762e-01, -5.70850635e-01,\n",
       "         3.30361064e-01, -1.09836386e-01],\n",
       "       [-2.43892388e+00,  1.28827809e+00, -1.22610421e+00,\n",
       "        -2.26849366e-01,  1.94350274e-01],\n",
       "       [ 3.39523414e+00, -8.68826808e-02, -4.76071335e-02,\n",
       "        -1.60935762e+00, -3.84213755e-01],\n",
       "       [-5.24474822e-01, -9.74434089e-01, -5.72726102e-01,\n",
       "         3.73472767e-01, -1.34443905e-01],\n",
       "       [-3.23694570e+00,  2.17841441e+00, -1.60297335e+00,\n",
       "        -3.37090169e-01,  4.06776760e-01],\n",
       "       [-3.18539582e+00,  2.35407251e+00, -1.07861322e+00,\n",
       "        -5.67726360e-01,  2.11301914e-01],\n",
       "       [ 6.90650605e-01, -1.11659502e+00,  4.96266801e-01,\n",
       "         9.03254219e-02, -7.37752367e-02],\n",
       "       [-1.30696878e-01, -1.36016418e+00,  1.78481064e-01,\n",
       "         4.41531701e-01, -1.17289376e-01],\n",
       "       [-1.55438699e-02, -1.29141254e+00, -9.01851984e-02,\n",
       "         2.41269317e-01, -1.10054144e-01],\n",
       "       [-1.94913082e+00,  6.06917116e-01, -7.74797905e-01,\n",
       "        -9.31815778e-02, -7.15154217e-02],\n",
       "       [-3.11493023e+00,  2.17074728e+00,  3.61476725e-01,\n",
       "        -4.33233986e-01, -1.27262385e-01],\n",
       "       [-2.04734394e+00,  1.08917628e+00,  7.17277189e-01,\n",
       "        -2.35697173e-02, -1.25255820e-01],\n",
       "       [ 4.29282152e-01, -1.37386581e+00,  2.66186510e-01,\n",
       "         1.77497112e-01, -2.87810970e-01],\n",
       "       [-2.57219500e+00,  1.49796264e+00, -9.55701263e-01,\n",
       "        -2.44930537e-01,  1.69925870e-01],\n",
       "       [ 8.45147833e-01, -1.26337333e+00, -2.70379849e-01,\n",
       "         1.76187083e-01,  8.31316300e-02],\n",
       "       [ 2.31333608e+00, -5.52303115e-01, -6.81618193e-02,\n",
       "         1.28752867e-01,  1.98922850e-01],\n",
       "       [ 1.67399331e+00, -8.67533455e-01, -4.41890509e-01,\n",
       "         2.56369501e-01,  1.71613123e-01],\n",
       "       [ 4.37790593e+00,  9.09112166e-01, -1.63313417e-01,\n",
       "        -1.56965995e+00, -7.38189011e-01],\n",
       "       [-3.68925546e-01, -8.12288566e-01, -7.44166625e-02,\n",
       "         1.89841646e-01, -3.81217786e-02],\n",
       "       [-3.04456413e-01, -9.72660623e-01,  1.72600332e-01,\n",
       "         2.19371435e-01, -2.06298258e-01],\n",
       "       [-8.37748851e-01, -5.28442346e-01,  2.48168075e-01,\n",
       "         2.17973373e-01, -3.28361567e-02],\n",
       "       [-3.38219309e-01, -1.21463899e+00, -2.84677821e-01,\n",
       "         3.95429172e-01, -1.51656595e-01],\n",
       "       [-1.05254165e+00,  2.69233366e+00,  1.04885224e+00,\n",
       "        -4.08086147e-01,  8.08137539e-01],\n",
       "       [-1.94833904e+00,  4.96371252e-01, -3.96099581e-02,\n",
       "         5.26543623e-02, -1.70251439e-01],\n",
       "       [ 1.06447758e+00, -9.22528167e-01, -2.06075677e-01,\n",
       "         4.70215750e-01,  1.33336928e-01],\n",
       "       [-7.63106119e-01, -5.76808054e-01, -3.81540464e-01,\n",
       "         3.96288242e-01, -1.79240385e-02],\n",
       "       [ 3.20241269e+00, -1.19278828e-02, -2.81535354e-01,\n",
       "        -1.00640863e+00, -9.97365930e-02],\n",
       "       [ 2.89285140e+00, -3.16990402e-01, -2.13985726e-01,\n",
       "        -1.49469663e+00, -3.53885037e-01],\n",
       "       [-1.28184054e+00,  8.50424946e-01,  5.14766850e-01,\n",
       "        -1.10677181e-01,  2.72092889e-01],\n",
       "       [-2.10464178e+00,  8.26788209e-01, -7.62353992e-01,\n",
       "        -2.01413279e-01, -9.03268216e-02],\n",
       "       [-3.62336463e-01, -1.16187709e+00,  2.36083862e-01,\n",
       "         4.38907967e-01, -2.60050831e-01],\n",
       "       [ 3.30027208e+00, -1.71369805e-01, -2.41391584e-01,\n",
       "        -1.15940521e+00, -2.58604516e-01],\n",
       "       [-2.00196110e+00,  7.53167963e-01,  3.73760586e-01,\n",
       "         6.06958256e-04, -1.42360671e-01],\n",
       "       [ 1.92999863e+00, -1.02643570e+00, -1.99775665e-01,\n",
       "        -6.08653329e-01, -9.85627268e-02],\n",
       "       [-8.65011410e-02, -1.03594794e+00, -5.13430178e-01,\n",
       "         3.24053063e-01, -6.47135167e-03],\n",
       "       [-8.58550372e-01, -5.33290494e-01, -2.42515419e-01,\n",
       "         1.81272197e-01, -1.24276844e-01],\n",
       "       [-2.71258460e+00,  1.61480311e+00,  4.13004325e-02,\n",
       "        -2.42721652e-01, -5.48053209e-02],\n",
       "       [-2.60815770e+00,  1.40687196e+00, -1.19576902e+00,\n",
       "        -2.15630540e-01,  1.78981748e-01],\n",
       "       [-9.32673224e-01, -4.28122843e-01, -3.02086989e-01,\n",
       "         3.65427417e-01, -6.78753413e-02],\n",
       "       [-3.93728766e+00,  3.03699736e+00, -1.75633428e+00,\n",
       "        -2.66009870e-01,  8.17976994e-01],\n",
       "       [ 1.05103008e+00, -9.90947570e-01, -1.74405893e-01,\n",
       "         5.33982173e-01,  1.16946792e-01],\n",
       "       [ 3.10065404e+00,  1.58567913e-01,  1.94322124e-01,\n",
       "        -7.60189372e-01, -2.38763849e-01],\n",
       "       [-1.26543867e+00, -2.70127313e-01, -6.56328503e-02,\n",
       "         2.76523973e-01, -6.70870028e-02],\n",
       "       [-8.43317739e-01, -5.63553074e-01,  7.14512891e-01,\n",
       "         3.20537705e-01, -1.15680507e-01],\n",
       "       [-7.99841917e-02, -9.72943702e-01,  1.01368174e+00,\n",
       "         2.67603969e-01,  6.80319360e-02],\n",
       "       [-1.19798975e+00,  3.65721862e-01,  6.65671816e-01,\n",
       "        -9.23858318e-02, -1.96900197e-02],\n",
       "       [ 4.66214805e+00,  1.40558416e+00, -7.53320973e-01,\n",
       "         3.46183733e-01, -3.95323381e-01],\n",
       "       [ 1.78284784e+00, -4.04330435e-01, -1.51148058e-01,\n",
       "        -5.92873927e-01, -1.60664438e-02],\n",
       "       [ 2.55317720e+00, -7.84234543e-01, -1.79761070e-01,\n",
       "        -9.37005326e-01,  2.82839832e-02],\n",
       "       [-2.94455180e-01, -1.06990202e+00,  3.82026762e-01,\n",
       "         4.07458826e-01, -2.41688805e-01],\n",
       "       [ 2.85922558e+00, -8.89814240e-01, -3.58616009e-01,\n",
       "        -1.54106251e+00, -9.22792597e-02],\n",
       "       [-5.23225546e-01, -6.37996668e-01,  2.00211164e-01,\n",
       "         1.83132950e-01, -2.23318074e-01],\n",
       "       [-3.57424705e-01, -2.22988352e-01,  1.16045603e+00,\n",
       "         1.76306282e-01,  2.08849941e-01],\n",
       "       [-1.73691854e+00,  2.85212273e-01, -8.79187682e-01,\n",
       "         4.73582308e-02, -1.22900444e-02],\n",
       "       [-1.66683546e+00,  2.38468588e-01, -9.66425338e-01,\n",
       "         1.07328905e-01, -3.70370462e-02],\n",
       "       [ 2.78198860e+00,  4.01239033e-01,  1.01805056e+00,\n",
       "        -1.56166516e-01,  2.16869985e+00],\n",
       "       [-1.09186934e+00, -5.42005693e-01,  1.45822954e-01,\n",
       "         3.45047635e-01, -2.76561699e-01],\n",
       "       [-1.63736796e+00,  2.41847127e-01, -2.06802699e-01,\n",
       "         1.46919528e-01, -6.00395566e-03],\n",
       "       [ 6.65496628e-01, -1.20689529e+00, -4.96704556e-01,\n",
       "         4.17613920e-01,  1.42957634e-01],\n",
       "       [ 6.45536502e-01, -1.49686673e+00, -2.77409028e-01,\n",
       "         3.66458629e-01, -2.05202899e-02],\n",
       "       [-2.43305355e+00,  1.16286282e+00, -1.14908233e+00,\n",
       "         9.55068024e-02,  3.12236252e-01],\n",
       "       [-2.25786453e+00,  9.35414259e-01, -7.67234113e-01,\n",
       "        -1.17442537e-01, -3.52213557e-02],\n",
       "       [ 4.91227647e-01, -5.20348596e-01,  9.34396357e-01,\n",
       "         2.18835578e-01,  4.69227567e-01],\n",
       "       [ 7.77007139e-01, -1.00173717e+00, -2.02330964e-01,\n",
       "         4.37148383e-01,  1.52555310e-01],\n",
       "       [ 1.26480651e+01,  8.27668266e+00, -6.19785865e-01,\n",
       "         4.39848778e+00, -1.46976299e+00],\n",
       "       [ 8.24043426e-02, -1.46313648e+00, -2.48426345e-01,\n",
       "         5.03742120e-01, -3.20161942e-02],\n",
       "       [-1.99665318e+00,  5.57492370e-01, -3.38897942e-01,\n",
       "         3.69642895e-02, -1.03971944e-01],\n",
       "       [-2.70892352e+00,  1.49858054e+00, -3.57331985e-01,\n",
       "        -1.57729682e-01,  3.07912467e-02],\n",
       "       [ 4.25836546e-01, -8.44767702e-01,  2.51421031e-01,\n",
       "         4.89783461e-01,  1.98994053e-01],\n",
       "       [ 2.29429433e-01, -1.17761463e+00, -1.62870197e-01,\n",
       "         4.46583102e-01, -2.16263424e-01],\n",
       "       [-2.94425942e+00,  2.01010359e+00, -1.14261028e+00,\n",
       "        -5.21593289e-01,  1.53787352e-01],\n",
       "       [ 2.63472108e+00,  9.04762781e-02, -5.31808792e-02,\n",
       "         1.25396712e+00, -3.87714916e-01],\n",
       "       [-2.11455961e+00,  1.04381716e+00,  5.94104784e-01,\n",
       "        -1.82703798e-01, -2.16668898e-01],\n",
       "       [ 3.10285377e-01, -1.18071016e+00, -3.51942948e-01,\n",
       "         4.47459119e-01,  1.14349498e-01],\n",
       "       [-1.11581662e+00, -2.09029910e-01, -5.56048335e-01,\n",
       "         1.61012806e-01, -2.13308375e-01],\n",
       "       [-5.13006360e-01, -1.22748026e+00,  4.12175195e-01,\n",
       "         5.99576327e-01, -3.16079757e-01],\n",
       "       [-1.27030300e+00,  8.26248651e-02,  2.78864736e+00,\n",
       "         3.46155147e-01, -4.45368106e-01],\n",
       "       [ 3.54242454e-01, -1.40419684e+00, -2.36723615e-01,\n",
       "         3.75929573e-01, -7.04008586e-02],\n",
       "       [-5.47964268e-01, -9.75674035e-01, -5.21396996e-01,\n",
       "         3.28390314e-01, -1.04625664e-01],\n",
       "       [-2.73032554e+00,  1.54660775e+00, -7.80421387e-01,\n",
       "        -2.25254286e-01,  8.43272364e-02],\n",
       "       [-1.26477546e+00, -3.55018271e-01, -2.39633832e-01,\n",
       "         2.88414375e-01, -4.92534448e-02],\n",
       "       [-1.33464282e+00,  4.17997902e-01, -7.60210022e-01,\n",
       "         9.85120924e-02,  1.65960636e-01],\n",
       "       [-1.25368249e+00, -4.01790241e-01,  5.58599220e-01,\n",
       "         3.41308385e-01, -3.06864036e-01],\n",
       "       [ 4.49577157e+00,  9.84054282e-01, -3.58893251e-01,\n",
       "        -8.25067194e-01, -6.59571727e-01],\n",
       "       [ 2.20705185e+00, -4.67990819e-01,  3.36527055e-02,\n",
       "        -9.50198459e-01, -1.72291270e-01],\n",
       "       [-3.06079290e+00,  2.10524241e+00, -1.32512781e+00,\n",
       "        -5.83595567e-01,  1.02246708e-01],\n",
       "       [-3.93180241e+00,  3.82122941e+00,  7.92893843e+00,\n",
       "        -5.40161599e-01, -1.04455204e+00],\n",
       "       [ 5.84610575e+00,  1.63144690e+00,  1.90194724e-01,\n",
       "        -2.76523124e+00, -3.81581388e-01],\n",
       "       [ 1.05142899e+00, -3.28224896e-02,  1.15163919e+00,\n",
       "         8.34003378e-02,  1.03785166e+00],\n",
       "       [-1.86196901e+00,  5.68078602e-01, -1.00254525e-01,\n",
       "        -1.42316869e-02, -3.61591369e-03],\n",
       "       [ 3.01549747e-01, -8.76963623e-01, -2.14970364e-01,\n",
       "         2.96706651e-01, -7.79006342e-02],\n",
       "       [-4.89240326e-01, -9.14502738e-01, -1.84277957e-02,\n",
       "         3.43626938e-01, -1.91429866e-01],\n",
       "       [-1.81887633e-01, -1.16130214e+00,  7.62410341e-02,\n",
       "         2.73475298e-01, -1.49659778e-01],\n",
       "       [-9.29806010e-01, -5.96353810e-01, -3.54625698e-01,\n",
       "         2.85230188e-01, -9.11673452e-02],\n",
       "       [ 8.53679890e-01, -1.28674302e+00, -1.73355222e-01,\n",
       "         2.38283380e-01,  1.68183442e-01],\n",
       "       [ 1.75885475e+00, -1.09199435e+00, -2.14656063e-01,\n",
       "        -3.71418458e-01, -9.27601854e-02],\n",
       "       [ 5.12946059e+00,  1.42744755e+00,  1.01013638e+00,\n",
       "        -6.39327569e-01,  4.21081358e+00],\n",
       "       [ 2.82364404e-01, -1.24117667e+00, -9.06813920e-02,\n",
       "         3.50623252e-01,  1.87990349e-01],\n",
       "       [ 1.40944920e-01, -7.97395013e-01,  8.18184344e-01,\n",
       "         2.22056399e-01,  3.47327543e-01],\n",
       "       [-1.74803817e+00,  2.62548241e-01, -8.13252806e-01,\n",
       "         2.27725457e-02, -9.78963181e-02],\n",
       "       [-8.49393807e-01, -4.89393606e-01, -5.49048647e-01,\n",
       "         1.28678922e-01, -2.11951992e-01],\n",
       "       [ 9.11282184e-01,  2.52263244e-02,  1.25689923e+00,\n",
       "        -1.65438186e-01,  1.00138349e+00],\n",
       "       [-1.86207644e+00,  4.97110476e-01, -9.30076031e-01,\n",
       "        -6.78174986e-02, -4.42771866e-02],\n",
       "       [ 1.84696648e-01, -1.42895337e+00,  1.27207505e-01,\n",
       "         4.09377957e-01, -1.07424882e-01],\n",
       "       [ 6.67587166e-01, -7.63248229e-01, -8.63939687e-01,\n",
       "         6.75938108e-01,  2.75917688e-01],\n",
       "       [-3.22370573e+00,  2.31724067e+00, -1.09186056e-01,\n",
       "        -4.15019209e-01,  1.11530736e-01],\n",
       "       [ 6.59040657e+00,  2.95091849e+00, -3.20265682e-01,\n",
       "         3.48542305e+00,  5.71095796e-01],\n",
       "       [ 1.40976699e+00, -7.87474590e-01, -3.45883353e-01,\n",
       "         3.84235672e-01,  6.90727557e-02],\n",
       "       [ 2.04098227e+00, -7.27046906e-01, -3.96487272e-01,\n",
       "         7.56851943e-02, -5.59187628e-02],\n",
       "       [-1.51783926e+00,  1.90298955e-02, -3.57048926e-01,\n",
       "         2.01588337e-01, -1.97468249e-01],\n",
       "       [-1.17790724e+00,  3.55393785e-01, -5.22091552e-01,\n",
       "         4.05977704e-02,  3.07266988e-01],\n",
       "       [ 1.75540303e+00, -1.02421807e+00,  7.38418145e-02,\n",
       "         1.06932728e-01,  2.21533757e-01],\n",
       "       [ 2.24318510e+00, -1.01272413e+00, -1.85366743e-01,\n",
       "        -7.08406658e-01,  1.15050518e-02],\n",
       "       [-5.46845852e-01, -9.46267765e-01,  1.58702433e+00,\n",
       "         4.27932830e-01, -3.40226704e-01],\n",
       "       [-2.26517508e-01, -9.82627190e-01, -1.67814232e-01,\n",
       "         4.02362699e-01, -6.00435361e-02],\n",
       "       [-2.01691629e+00,  8.49869326e-01,  6.99050791e-01,\n",
       "        -1.31484294e-01, -2.42679062e-01],\n",
       "       [-1.98348539e-01, -5.65520257e-01,  3.39126811e-02,\n",
       "         2.05274476e-01,  3.34236863e-02],\n",
       "       [ 3.80717043e+00,  3.70610799e-01, -2.36551964e-01,\n",
       "        -1.18406523e+00, -3.02511233e-01],\n",
       "       [ 6.26595367e+00,  1.83761566e+00, -4.37099934e-01,\n",
       "        -1.68727777e+00, -1.01648969e+00],\n",
       "       [-1.37674915e+00, -1.62309957e-01,  2.86194030e-01,\n",
       "         1.92973193e-01, -2.96003190e-01],\n",
       "       [-2.27729338e+00,  1.00886152e+00, -4.05609098e-01,\n",
       "        -1.32369699e-01, -4.79703498e-02],\n",
       "       [ 1.73176765e-01, -1.39566445e+00, -1.14715531e-02,\n",
       "         5.36542633e-01,  1.92068700e-02],\n",
       "       [-2.00766910e+00,  1.08624869e+00,  1.38595750e+00,\n",
       "        -3.76168491e-01, -5.98871149e-01],\n",
       "       [-2.24346260e+00,  9.06539731e-01, -1.19199416e+00,\n",
       "        -9.66789120e-02,  8.36523495e-02],\n",
       "       [-8.58314049e-01, -5.40460857e-01, -3.82256635e-01,\n",
       "         2.08370543e-01, -2.16636985e-01],\n",
       "       [-6.30379244e-02, -1.27891527e+00, -8.84064522e-02,\n",
       "         4.09523340e-01, -1.16753480e-01],\n",
       "       [ 3.27281026e-01, -1.06698882e+00,  2.60124600e-01,\n",
       "         6.58483458e-02,  3.37379162e-02],\n",
       "       [-8.95220342e-01, -1.88336397e-01, -6.23819226e-01,\n",
       "         2.36416222e-01,  1.88158521e-01],\n",
       "       [-2.62095484e+00,  1.46319149e+00, -4.15173118e-01,\n",
       "        -2.62782156e-01, -3.43494002e-02],\n",
       "       [-3.73435328e-01, -1.15473118e+00,  6.72758724e-01,\n",
       "         5.48051264e-01, -2.22630231e-01],\n",
       "       [ 2.69012514e+00,  5.37469150e-01,  9.21754068e-01,\n",
       "         3.95069235e-01,  1.17759844e+00],\n",
       "       [ 2.60556271e+00, -3.82105793e-01, -1.53314435e-01,\n",
       "        -1.05993990e+00, -8.76343541e-02],\n",
       "       [ 3.78261231e+00,  1.02159442e-01, -3.00495281e-01,\n",
       "        -3.26326375e+00, -7.23219805e-01],\n",
       "       [ 4.54813614e-01, -1.09888913e+00,  4.58285291e-02,\n",
       "         3.76440256e-02, -4.17897696e-02],\n",
       "       [-1.03192127e+00, -5.61377437e-01,  7.63442074e-01,\n",
       "         3.81826828e-01, -2.77813748e-01],\n",
       "       [-1.17520882e+00, -2.75651997e-01, -6.67130821e-01,\n",
       "         2.79626701e-01, -1.19734308e-01],\n",
       "       [-3.14227708e-01, -1.62662659e-02,  3.68027294e+00,\n",
       "         1.18337322e-02, -4.60468480e-01],\n",
       "       [-5.94449947e-01, -1.07633504e+00,  5.28875126e-01,\n",
       "         5.08855285e-01, -3.28295510e-01],\n",
       "       [-1.80237196e+00,  5.88729552e-01,  1.18085088e+00,\n",
       "        -2.02420454e-02, -3.15725198e-01],\n",
       "       [-2.64450558e+00,  1.57195313e+00, -1.74684848e-01,\n",
       "        -1.78963221e-01,  8.18157884e-02]])"
      ]
     },
     "execution_count": 63,
     "metadata": {},
     "output_type": "execute_result"
    }
   ],
   "source": [
    "gdpca"
   ]
  },
  {
   "cell_type": "code",
   "execution_count": 66,
   "metadata": {},
   "outputs": [
    {
     "data": {
      "text/plain": [
       "(167, 5)"
      ]
     },
     "execution_count": 66,
     "metadata": {},
     "output_type": "execute_result"
    }
   ],
   "source": [
    "gdpca.shape"
   ]
  },
  {
   "cell_type": "code",
   "execution_count": 64,
   "metadata": {},
   "outputs": [],
   "source": [
    "#Creating a transpose so that the each column is properly arranged\n",
    "gdppcat = np.transpose(gdpca)"
   ]
  },
  {
   "cell_type": "code",
   "execution_count": 67,
   "metadata": {},
   "outputs": [
    {
     "data": {
      "text/plain": [
       "(5, 167)"
      ]
     },
     "execution_count": 67,
     "metadata": {},
     "output_type": "execute_result"
    }
   ],
   "source": [
    "gdppcat.shape"
   ]
  },
  {
   "cell_type": "code",
   "execution_count": 71,
   "metadata": {},
   "outputs": [],
   "source": [
    "gdppcat1 = pd.DataFrame({'PC1':gdppcat[0], 'PC2':gdppcat[1], 'PC3':gdppcat[2], 'PC4':gdppcat[3], 'PC5':gdppcat[4]})"
   ]
  },
  {
   "cell_type": "code",
   "execution_count": 68,
   "metadata": {},
   "outputs": [],
   "source": [
    "gdpcad = pd.DataFrame(gdpca,columns = ['PC1','PC2','PC3','PC4','PC5'] )"
   ]
  },
  {
   "cell_type": "code",
   "execution_count": 69,
   "metadata": {},
   "outputs": [
    {
     "data": {
      "text/html": [
       "<div>\n",
       "<style scoped>\n",
       "    .dataframe tbody tr th:only-of-type {\n",
       "        vertical-align: middle;\n",
       "    }\n",
       "\n",
       "    .dataframe tbody tr th {\n",
       "        vertical-align: top;\n",
       "    }\n",
       "\n",
       "    .dataframe thead th {\n",
       "        text-align: right;\n",
       "    }\n",
       "</style>\n",
       "<table border=\"1\" class=\"dataframe\">\n",
       "  <thead>\n",
       "    <tr style=\"text-align: right;\">\n",
       "      <th></th>\n",
       "      <th>PC1</th>\n",
       "      <th>PC2</th>\n",
       "      <th>PC3</th>\n",
       "      <th>PC4</th>\n",
       "      <th>PC5</th>\n",
       "    </tr>\n",
       "  </thead>\n",
       "  <tbody>\n",
       "    <tr>\n",
       "      <th>0</th>\n",
       "      <td>-2.635574</td>\n",
       "      <td>1.472268</td>\n",
       "      <td>-0.549489</td>\n",
       "      <td>-0.242326</td>\n",
       "      <td>0.023529</td>\n",
       "    </tr>\n",
       "    <tr>\n",
       "      <th>1</th>\n",
       "      <td>-0.024205</td>\n",
       "      <td>-1.429891</td>\n",
       "      <td>-0.014123</td>\n",
       "      <td>0.450644</td>\n",
       "      <td>-0.125822</td>\n",
       "    </tr>\n",
       "    <tr>\n",
       "      <th>2</th>\n",
       "      <td>-0.459558</td>\n",
       "      <td>-0.675496</td>\n",
       "      <td>0.959355</td>\n",
       "      <td>0.218456</td>\n",
       "      <td>-0.113276</td>\n",
       "    </tr>\n",
       "    <tr>\n",
       "      <th>3</th>\n",
       "      <td>-2.722631</td>\n",
       "      <td>2.172331</td>\n",
       "      <td>0.600215</td>\n",
       "      <td>-0.433976</td>\n",
       "      <td>0.005434</td>\n",
       "    </tr>\n",
       "    <tr>\n",
       "      <th>4</th>\n",
       "      <td>0.648597</td>\n",
       "      <td>-1.023437</td>\n",
       "      <td>-0.257430</td>\n",
       "      <td>0.289201</td>\n",
       "      <td>0.072694</td>\n",
       "    </tr>\n",
       "  </tbody>\n",
       "</table>\n",
       "</div>"
      ],
      "text/plain": [
       "        PC1       PC2       PC3       PC4       PC5\n",
       "0 -2.635574  1.472268 -0.549489 -0.242326  0.023529\n",
       "1 -0.024205 -1.429891 -0.014123  0.450644 -0.125822\n",
       "2 -0.459558 -0.675496  0.959355  0.218456 -0.113276\n",
       "3 -2.722631  2.172331  0.600215 -0.433976  0.005434\n",
       "4  0.648597 -1.023437 -0.257430  0.289201  0.072694"
      ]
     },
     "execution_count": 69,
     "metadata": {},
     "output_type": "execute_result"
    }
   ],
   "source": [
    "gdpcad.head()"
   ]
  },
  {
   "cell_type": "code",
   "execution_count": 72,
   "metadata": {},
   "outputs": [
    {
     "data": {
      "text/html": [
       "<div>\n",
       "<style scoped>\n",
       "    .dataframe tbody tr th:only-of-type {\n",
       "        vertical-align: middle;\n",
       "    }\n",
       "\n",
       "    .dataframe tbody tr th {\n",
       "        vertical-align: top;\n",
       "    }\n",
       "\n",
       "    .dataframe thead th {\n",
       "        text-align: right;\n",
       "    }\n",
       "</style>\n",
       "<table border=\"1\" class=\"dataframe\">\n",
       "  <thead>\n",
       "    <tr style=\"text-align: right;\">\n",
       "      <th></th>\n",
       "      <th>PC1</th>\n",
       "      <th>PC2</th>\n",
       "      <th>PC3</th>\n",
       "      <th>PC4</th>\n",
       "      <th>PC5</th>\n",
       "    </tr>\n",
       "  </thead>\n",
       "  <tbody>\n",
       "    <tr>\n",
       "      <th>0</th>\n",
       "      <td>-2.635574</td>\n",
       "      <td>1.472268</td>\n",
       "      <td>-0.549489</td>\n",
       "      <td>-0.242326</td>\n",
       "      <td>0.023529</td>\n",
       "    </tr>\n",
       "    <tr>\n",
       "      <th>1</th>\n",
       "      <td>-0.024205</td>\n",
       "      <td>-1.429891</td>\n",
       "      <td>-0.014123</td>\n",
       "      <td>0.450644</td>\n",
       "      <td>-0.125822</td>\n",
       "    </tr>\n",
       "    <tr>\n",
       "      <th>2</th>\n",
       "      <td>-0.459558</td>\n",
       "      <td>-0.675496</td>\n",
       "      <td>0.959355</td>\n",
       "      <td>0.218456</td>\n",
       "      <td>-0.113276</td>\n",
       "    </tr>\n",
       "    <tr>\n",
       "      <th>3</th>\n",
       "      <td>-2.722631</td>\n",
       "      <td>2.172331</td>\n",
       "      <td>0.600215</td>\n",
       "      <td>-0.433976</td>\n",
       "      <td>0.005434</td>\n",
       "    </tr>\n",
       "    <tr>\n",
       "      <th>4</th>\n",
       "      <td>0.648597</td>\n",
       "      <td>-1.023437</td>\n",
       "      <td>-0.257430</td>\n",
       "      <td>0.289201</td>\n",
       "      <td>0.072694</td>\n",
       "    </tr>\n",
       "  </tbody>\n",
       "</table>\n",
       "</div>"
      ],
      "text/plain": [
       "        PC1       PC2       PC3       PC4       PC5\n",
       "0 -2.635574  1.472268 -0.549489 -0.242326  0.023529\n",
       "1 -0.024205 -1.429891 -0.014123  0.450644 -0.125822\n",
       "2 -0.459558 -0.675496  0.959355  0.218456 -0.113276\n",
       "3 -2.722631  2.172331  0.600215 -0.433976  0.005434\n",
       "4  0.648597 -1.023437 -0.257430  0.289201  0.072694"
      ]
     },
     "execution_count": 72,
     "metadata": {},
     "output_type": "execute_result"
    }
   ],
   "source": [
    "gdppcat1.head()"
   ]
  },
  {
   "cell_type": "markdown",
   "metadata": {},
   "source": [
    "So now we have the dataframe, i.e., gdpcad, with reduced components/variables that can be used for clustering. These components are linear tansformations of original top 5 variables that explain most of the variance in dataset "
   ]
  },
  {
   "cell_type": "markdown",
   "metadata": {},
   "source": [
    "Now lets do some outlier analysis on these and see if we can limit the dataset to data that mean more for our analysis"
   ]
  },
  {
   "cell_type": "code",
   "execution_count": 73,
   "metadata": {},
   "outputs": [
    {
     "data": {
      "text/plain": [
       "{'whiskers': [<matplotlib.lines.Line2D at 0x263eb76f908>,\n",
       "  <matplotlib.lines.Line2D at 0x263eb76fc50>],\n",
       " 'caps': [<matplotlib.lines.Line2D at 0x263eb76ff98>,\n",
       "  <matplotlib.lines.Line2D at 0x263eb75a320>],\n",
       " 'boxes': [<matplotlib.lines.Line2D at 0x263eb76f4e0>],\n",
       " 'medians': [<matplotlib.lines.Line2D at 0x263eb75a668>],\n",
       " 'fliers': [<matplotlib.lines.Line2D at 0x263eb75a9b0>],\n",
       " 'means': []}"
      ]
     },
     "execution_count": 73,
     "metadata": {},
     "output_type": "execute_result"
    },
    {
     "data": {
      "image/png": "[encoded data removed]",
      "text/plain": [
       "<Figure size 432x288 with 1 Axes>"
      ]
     },
     "metadata": {
      "needs_background": "light"
     },
     "output_type": "display_data"
    }
   ],
   "source": [
    "plt.boxplot(gdpcad.PC1)"
   ]
  },
  {
   "cell_type": "code",
   "execution_count": 74,
   "metadata": {},
   "outputs": [
    {
     "data": {
      "text/plain": [
       "{'whiskers': [<matplotlib.lines.Line2D at 0x263eb6a4400>,\n",
       "  <matplotlib.lines.Line2D at 0x263eb6a4198>],\n",
       " 'caps': [<matplotlib.lines.Line2D at 0x263eb695780>,\n",
       "  <matplotlib.lines.Line2D at 0x263eb695dd8>],\n",
       " 'boxes': [<matplotlib.lines.Line2D at 0x263eb6a4550>],\n",
       " 'medians': [<matplotlib.lines.Line2D at 0x263eb695278>],\n",
       " 'fliers': [<matplotlib.lines.Line2D at 0x263eb6959e8>],\n",
       " 'means': []}"
      ]
     },
     "execution_count": 74,
     "metadata": {},
     "output_type": "execute_result"
    },
    {
     "data": {
      "image/png": "[encoded data removed]",
      "text/plain": [
       "<Figure size 432x288 with 1 Axes>"
      ]
     },
     "metadata": {
      "needs_background": "light"
     },
     "output_type": "display_data"
    }
   ],
   "source": [
    "plt.boxplot(gdpcad.PC2)"
   ]
  },
  {
   "cell_type": "code",
   "execution_count": 75,
   "metadata": {},
   "outputs": [
    {
     "data": {
      "text/plain": [
       "{'whiskers': [<matplotlib.lines.Line2D at 0x263eb45a390>,\n",
       "  <matplotlib.lines.Line2D at 0x263eb45aeb8>],\n",
       " 'caps': [<matplotlib.lines.Line2D at 0x263eb462eb8>,\n",
       "  <matplotlib.lines.Line2D at 0x263eb462080>],\n",
       " 'boxes': [<matplotlib.lines.Line2D at 0x263eb45aef0>],\n",
       " 'medians': [<matplotlib.lines.Line2D at 0x263eb4624a8>],\n",
       " 'fliers': [<matplotlib.lines.Line2D at 0x263eb462a90>],\n",
       " 'means': []}"
      ]
     },
     "execution_count": 75,
     "metadata": {},
     "output_type": "execute_result"
    },
    {
     "data": {
      "image/png": "[encoded data removed]",
      "text/plain": [
       "<Figure size 432x288 with 1 Axes>"
      ]
     },
     "metadata": {
      "needs_background": "light"
     },
     "output_type": "display_data"
    }
   ],
   "source": [
    "plt.boxplot(gdpcad.PC3)"
   ]
  },
  {
   "cell_type": "code",
   "execution_count": 76,
   "metadata": {},
   "outputs": [
    {
     "data": {
      "text/plain": [
       "{'whiskers': [<matplotlib.lines.Line2D at 0x263eb364a20>,\n",
       "  <matplotlib.lines.Line2D at 0x263eb364cf8>],\n",
       " 'caps': [<matplotlib.lines.Line2D at 0x263eb364e80>,\n",
       "  <matplotlib.lines.Line2D at 0x263eb35a9e8>],\n",
       " 'boxes': [<matplotlib.lines.Line2D at 0x263eb364438>],\n",
       " 'medians': [<matplotlib.lines.Line2D at 0x263eb35a630>],\n",
       " 'fliers': [<matplotlib.lines.Line2D at 0x263eb35a828>],\n",
       " 'means': []}"
      ]
     },
     "execution_count": 76,
     "metadata": {},
     "output_type": "execute_result"
    },
    {
     "data": {
      "image/png": "[encoded data removed]",
      "text/plain": [
       "<Figure size 432x288 with 1 Axes>"
      ]
     },
     "metadata": {
      "needs_background": "light"
     },
     "output_type": "display_data"
    }
   ],
   "source": [
    "plt.boxplot(gdpcad.PC4)"
   ]
  },
  {
   "cell_type": "code",
   "execution_count": 77,
   "metadata": {},
   "outputs": [
    {
     "data": {
      "text/plain": [
       "{'whiskers': [<matplotlib.lines.Line2D at 0x263eaad2470>,\n",
       "  <matplotlib.lines.Line2D at 0x263eb660748>],\n",
       " 'caps': [<matplotlib.lines.Line2D at 0x263eb6606a0>,\n",
       "  <matplotlib.lines.Line2D at 0x263eb660da0>],\n",
       " 'boxes': [<matplotlib.lines.Line2D at 0x263eb12e198>],\n",
       " 'medians': [<matplotlib.lines.Line2D at 0x263eb660710>],\n",
       " 'fliers': [<matplotlib.lines.Line2D at 0x263eb4729e8>],\n",
       " 'means': []}"
      ]
     },
     "execution_count": 77,
     "metadata": {},
     "output_type": "execute_result"
    },
    {
     "data": {
      "image/png": "[encoded data removed]",
      "text/plain": [
       "<Figure size 432x288 with 1 Axes>"
      ]
     },
     "metadata": {
      "needs_background": "light"
     },
     "output_type": "display_data"
    }
   ],
   "source": [
    "plt.boxplot(gdpcad.PC5)"
   ]
  },
  {
   "cell_type": "markdown",
   "metadata": {},
   "source": [
    "We can see that outliers exist in all the components. Usually we remove the outliers above 95 percentile and below 5 quantile however, I will remove the outliers only above 95 percentile for all components except, 'PC2',  as we would be interested in cluster of countries with lower than usual values, as these would probably consist of countries that require the funding most. 'PC2' explains the highest variance in the direction of 'child_mort' which would be high for countries that are in need of aids. Therefore, will remove the lower than usual quantile values for 'PC2'."
   ]
  },
  {
   "cell_type": "code",
   "execution_count": 81,
   "metadata": {},
   "outputs": [
    {
     "data": {
      "text/plain": [
       "(167, 6)"
      ]
     },
     "execution_count": 81,
     "metadata": {},
     "output_type": "execute_result"
    }
   ],
   "source": [
    "gdpcad.shape"
   ]
  },
  {
   "cell_type": "code",
   "execution_count": 79,
   "metadata": {},
   "outputs": [],
   "source": [
    "gdpcad['country'] = gdp['country']"
   ]
  },
  {
   "cell_type": "code",
   "execution_count": 80,
   "metadata": {},
   "outputs": [
    {
     "data": {
      "text/html": [
       "<div>\n",
       "<style scoped>\n",
       "    .dataframe tbody tr th:only-of-type {\n",
       "        vertical-align: middle;\n",
       "    }\n",
       "\n",
       "    .dataframe tbody tr th {\n",
       "        vertical-align: top;\n",
       "    }\n",
       "\n",
       "    .dataframe thead th {\n",
       "        text-align: right;\n",
       "    }\n",
       "</style>\n",
       "<table border=\"1\" class=\"dataframe\">\n",
       "  <thead>\n",
       "    <tr style=\"text-align: right;\">\n",
       "      <th></th>\n",
       "      <th>PC1</th>\n",
       "      <th>PC2</th>\n",
       "      <th>PC3</th>\n",
       "      <th>PC4</th>\n",
       "      <th>PC5</th>\n",
       "      <th>country</th>\n",
       "    </tr>\n",
       "  </thead>\n",
       "  <tbody>\n",
       "    <tr>\n",
       "      <th>0</th>\n",
       "      <td>-2.635574</td>\n",
       "      <td>1.472268</td>\n",
       "      <td>-0.549489</td>\n",
       "      <td>-0.242326</td>\n",
       "      <td>0.023529</td>\n",
       "      <td>Afghanistan</td>\n",
       "    </tr>\n",
       "    <tr>\n",
       "      <th>1</th>\n",
       "      <td>-0.024205</td>\n",
       "      <td>-1.429891</td>\n",
       "      <td>-0.014123</td>\n",
       "      <td>0.450644</td>\n",
       "      <td>-0.125822</td>\n",
       "      <td>Albania</td>\n",
       "    </tr>\n",
       "    <tr>\n",
       "      <th>2</th>\n",
       "      <td>-0.459558</td>\n",
       "      <td>-0.675496</td>\n",
       "      <td>0.959355</td>\n",
       "      <td>0.218456</td>\n",
       "      <td>-0.113276</td>\n",
       "      <td>Algeria</td>\n",
       "    </tr>\n",
       "    <tr>\n",
       "      <th>3</th>\n",
       "      <td>-2.722631</td>\n",
       "      <td>2.172331</td>\n",
       "      <td>0.600215</td>\n",
       "      <td>-0.433976</td>\n",
       "      <td>0.005434</td>\n",
       "      <td>Angola</td>\n",
       "    </tr>\n",
       "    <tr>\n",
       "      <th>4</th>\n",
       "      <td>0.648597</td>\n",
       "      <td>-1.023437</td>\n",
       "      <td>-0.257430</td>\n",
       "      <td>0.289201</td>\n",
       "      <td>0.072694</td>\n",
       "      <td>Antigua and Barbuda</td>\n",
       "    </tr>\n",
       "  </tbody>\n",
       "</table>\n",
       "</div>"
      ],
      "text/plain": [
       "        PC1       PC2       PC3       PC4       PC5              country\n",
       "0 -2.635574  1.472268 -0.549489 -0.242326  0.023529          Afghanistan\n",
       "1 -0.024205 -1.429891 -0.014123  0.450644 -0.125822              Albania\n",
       "2 -0.459558 -0.675496  0.959355  0.218456 -0.113276              Algeria\n",
       "3 -2.722631  2.172331  0.600215 -0.433976  0.005434               Angola\n",
       "4  0.648597 -1.023437 -0.257430  0.289201  0.072694  Antigua and Barbuda"
      ]
     },
     "execution_count": 80,
     "metadata": {},
     "output_type": "execute_result"
    }
   ],
   "source": [
    "gdpcad.head()"
   ]
  },
  {
   "cell_type": "code",
   "execution_count": 89,
   "metadata": {},
   "outputs": [],
   "source": [
    "gdpcad = gdpcad[gdpcad.PC1 <= gdpcad.PC1.quantile(0.95)]"
   ]
  },
  {
   "cell_type": "code",
   "execution_count": 90,
   "metadata": {},
   "outputs": [],
   "source": [
    "gdpcad = gdpcad[gdpcad.PC3 <= gdpcad.PC3.quantile(0.95)]"
   ]
  },
  {
   "cell_type": "code",
   "execution_count": 91,
   "metadata": {},
   "outputs": [],
   "source": [
    "gdpcad = gdpcad[gdpcad.PC4 <= gdpcad.PC4.quantile(0.95)]"
   ]
  },
  {
   "cell_type": "code",
   "execution_count": 92,
   "metadata": {},
   "outputs": [],
   "source": [
    "gdpcad = gdpcad[gdpcad.PC5 <= gdpcad.PC5.quantile(0.95)]"
   ]
  },
  {
   "cell_type": "code",
   "execution_count": 93,
   "metadata": {},
   "outputs": [],
   "source": [
    "gdpcad = gdpcad[gdpcad.PC2 >= gdpcad.PC2.quantile(0.05)]"
   ]
  },
  {
   "cell_type": "code",
   "execution_count": 94,
   "metadata": {},
   "outputs": [
    {
     "data": {
      "text/plain": [
       "(127, 6)"
      ]
     },
     "execution_count": 94,
     "metadata": {},
     "output_type": "execute_result"
    }
   ],
   "source": [
    "gdpcad.shape"
   ]
  },
  {
   "cell_type": "code",
   "execution_count": 98,
   "metadata": {},
   "outputs": [
    {
     "data": {
      "text/plain": [
       "<matplotlib.axes._subplots.AxesSubplot at 0x263eb3d45c0>"
      ]
     },
     "execution_count": 98,
     "metadata": {},
     "output_type": "execute_result"
    },
    {
     "data": {
      "image/png": "[encoded data removed]",
      "text/plain": [
       "<Figure size 432x288 with 1 Axes>"
      ]
     },
     "metadata": {
      "needs_background": "light"
     },
     "output_type": "display_data"
    }
   ],
   "source": [
    "#Visualising the points on the PCs.\n",
    "# one of the prime advatanges of PCA is that you can visualise high dimensional data\n",
    "sns.scatterplot(x='PC1',y='PC2',data=gdpcad)"
   ]
  },
  {
   "cell_type": "markdown",
   "metadata": {},
   "source": [
    "Clustering\n",
    "Now that we have PCs that can be used to identify the clusters in best possible way, we will do the clustering. First clustering will be done using K-means clustering "
   ]
  },
  {
   "cell_type": "markdown",
   "metadata": {},
   "source": [
    "K-means clustering\n",
    "First, will run hopkins test to see whether the dataset has enough variance between variables to form clusters"
   ]
  },
  {
   "cell_type": "code",
   "execution_count": 99,
   "metadata": {},
   "outputs": [],
   "source": [
    "gdpcadk = gdpcad[['PC1','PC2','PC3','PC4','PC5']]"
   ]
  },
  {
   "cell_type": "code",
   "execution_count": 100,
   "metadata": {},
   "outputs": [
    {
     "data": {
      "text/html": [
       "<div>\n",
       "<style scoped>\n",
       "    .dataframe tbody tr th:only-of-type {\n",
       "        vertical-align: middle;\n",
       "    }\n",
       "\n",
       "    .dataframe tbody tr th {\n",
       "        vertical-align: top;\n",
       "    }\n",
       "\n",
       "    .dataframe thead th {\n",
       "        text-align: right;\n",
       "    }\n",
       "</style>\n",
       "<table border=\"1\" class=\"dataframe\">\n",
       "  <thead>\n",
       "    <tr style=\"text-align: right;\">\n",
       "      <th></th>\n",
       "      <th>PC1</th>\n",
       "      <th>PC2</th>\n",
       "      <th>PC3</th>\n",
       "      <th>PC4</th>\n",
       "      <th>PC5</th>\n",
       "    </tr>\n",
       "  </thead>\n",
       "  <tbody>\n",
       "    <tr>\n",
       "      <th>0</th>\n",
       "      <td>-2.635574</td>\n",
       "      <td>1.472268</td>\n",
       "      <td>-0.549489</td>\n",
       "      <td>-0.242326</td>\n",
       "      <td>0.023529</td>\n",
       "    </tr>\n",
       "    <tr>\n",
       "      <th>2</th>\n",
       "      <td>-0.459558</td>\n",
       "      <td>-0.675496</td>\n",
       "      <td>0.959355</td>\n",
       "      <td>0.218456</td>\n",
       "      <td>-0.113276</td>\n",
       "    </tr>\n",
       "    <tr>\n",
       "      <th>3</th>\n",
       "      <td>-2.722631</td>\n",
       "      <td>2.172331</td>\n",
       "      <td>0.600215</td>\n",
       "      <td>-0.433976</td>\n",
       "      <td>0.005434</td>\n",
       "    </tr>\n",
       "    <tr>\n",
       "      <th>4</th>\n",
       "      <td>0.648597</td>\n",
       "      <td>-1.023437</td>\n",
       "      <td>-0.257430</td>\n",
       "      <td>0.289201</td>\n",
       "      <td>0.072694</td>\n",
       "    </tr>\n",
       "    <tr>\n",
       "      <th>6</th>\n",
       "      <td>-0.334555</td>\n",
       "      <td>-1.271889</td>\n",
       "      <td>0.190564</td>\n",
       "      <td>0.500247</td>\n",
       "      <td>-0.205703</td>\n",
       "    </tr>\n",
       "  </tbody>\n",
       "</table>\n",
       "</div>"
      ],
      "text/plain": [
       "        PC1       PC2       PC3       PC4       PC5\n",
       "0 -2.635574  1.472268 -0.549489 -0.242326  0.023529\n",
       "2 -0.459558 -0.675496  0.959355  0.218456 -0.113276\n",
       "3 -2.722631  2.172331  0.600215 -0.433976  0.005434\n",
       "4  0.648597 -1.023437 -0.257430  0.289201  0.072694\n",
       "6 -0.334555 -1.271889  0.190564  0.500247 -0.205703"
      ]
     },
     "execution_count": 100,
     "metadata": {},
     "output_type": "execute_result"
    }
   ],
   "source": [
    "gdpcadk.head()"
   ]
  },
  {
   "cell_type": "code",
   "execution_count": 103,
   "metadata": {},
   "outputs": [],
   "source": [
    "#Calculating the Hopkins statistic\n",
    "def hopkins(X):\n",
    "    d = X.shape[1]\n",
    "    #d = len(vars) # columns\n",
    "    n = len(X) # rows\n",
    "    m = int(0.1 * n) \n",
    "    nbrs = NearestNeighbors(n_neighbors=1).fit(X.values)\n",
    " \n",
    "    rand_X = sample(range(0, n, 1), m)\n",
    " \n",
    "    ujd = []\n",
    "    wjd = []\n",
    "    for j in range(0, m):\n",
    "        u_dist, _ = nbrs.kneighbors(uniform(np.amin(X,axis=0),np.amax(X,axis=0),d).reshape(1, -1), 2, return_distance=True)\n",
    "        ujd.append(u_dist[0][1])\n",
    "        w_dist, _ = nbrs.kneighbors(X.iloc[rand_X[j]].values.reshape(1, -1), 2, return_distance=True)\n",
    "        wjd.append(w_dist[0][1])\n",
    " \n",
    "    H = sum(ujd) / (sum(ujd) + sum(wjd))\n",
    "    if isnan(H):\n",
    "        print(ujd, wjd)\n",
    "        H = 0\n",
    " \n",
    "    return H"
   ]
  },
  {
   "cell_type": "code",
   "execution_count": 104,
   "metadata": {},
   "outputs": [
    {
     "data": {
      "text/plain": [
       "0.8435394312098518"
      ]
     },
     "execution_count": 104,
     "metadata": {},
     "output_type": "execute_result"
    }
   ],
   "source": [
    "#Hopkins measure score\n",
    "hopkins(gdpcadk)"
   ]
  },
  {
   "cell_type": "markdown",
   "metadata": {},
   "source": [
    "We ca see that high hopkins score of .84 or around 84% justifies clustering based model for this dataset. Ideally score should be above 50% so the score achieved is well above the baseline"
   ]
  },
  {
   "cell_type": "markdown",
   "metadata": {},
   "source": [
    "K-means clustering\n",
    "First step is to check for optimum number of clusters using elbow curve and silhoutte score"
   ]
  },
  {
   "cell_type": "code",
   "execution_count": 106,
   "metadata": {},
   "outputs": [
    {
     "data": {
      "text/plain": [
       "[<matplotlib.lines.Line2D at 0x263eb506f60>]"
      ]
     },
     "execution_count": 106,
     "metadata": {},
     "output_type": "execute_result"
    },
    {
     "data": {
      "image/png": "[encoded data removed]",
      "text/plain": [
       "<Figure size 432x288 with 1 Axes>"
      ]
     },
     "metadata": {
      "needs_background": "light"
     },
     "output_type": "display_data"
    }
   ],
   "source": [
    "# elbow-curve/SSD\n",
    "ssd = []\n",
    "range_n_clusters = [2, 3, 4, 5, 6, 7, 8]\n",
    "for num_clusters in range_n_clusters:\n",
    "    kmeans = KMeans(n_clusters=num_clusters, max_iter=50)\n",
    "    kmeans.fit(gdpcadk)\n",
    "    \n",
    "    ssd.append(kmeans.inertia_)\n",
    "    \n",
    "# plot the SSDs for each n_clusters\n",
    "# ssd\n",
    "plt.plot(ssd)"
   ]
  },
  {
   "cell_type": "code",
   "execution_count": 111,
   "metadata": {},
   "outputs": [],
   "source": [
    "# Now silhoutte score\n",
    "sse = []\n",
    "for k in range(2, 10):\n",
    "    kmeans = KMeans(n_clusters=k, max_iter = 50).fit(gdpcadk)\n",
    "    sse.append([k, silhouette_score(gdpcadk, kmeans.labels_)])\n"
   ]
  },
  {
   "cell_type": "code",
   "execution_count": 112,
   "metadata": {},
   "outputs": [
    {
     "data": {
      "text/plain": [
       "[<matplotlib.lines.Line2D at 0x263eb56b748>]"
      ]
     },
     "execution_count": 112,
     "metadata": {},
     "output_type": "execute_result"
    },
    {
     "data": {
      "image/png": "[encoded data removed]",
      "text/plain": [
       "<Figure size 432x288 with 1 Axes>"
      ]
     },
     "metadata": {
      "needs_background": "light"
     },
     "output_type": "display_data"
    }
   ],
   "source": [
    "plt.plot(pd.DataFrame(sse)[0], pd.DataFrame(sse)[1])"
   ]
  },
  {
   "cell_type": "markdown",
   "metadata": {},
   "source": [
    "From both, elbow curve and silhoutte score, the ideal number of clusters come out to be '3'"
   ]
  },
  {
   "cell_type": "code",
   "execution_count": 139,
   "metadata": {},
   "outputs": [
    {
     "data": {
      "text/plain": [
       "KMeans(algorithm='auto', copy_x=True, init='k-means++', max_iter=50,\n",
       "    n_clusters=3, n_init=10, n_jobs=None, precompute_distances='auto',\n",
       "    random_state=50, tol=0.0001, verbose=0)"
      ]
     },
     "execution_count": 139,
     "metadata": {},
     "output_type": "execute_result"
    }
   ],
   "source": [
    "# Performing K means using K=3\n",
    "model_k = KMeans(n_clusters = 3, max_iter=50,random_state = 50)\n",
    "model_k.fit(gdpcadk)"
   ]
  },
  {
   "cell_type": "code",
   "execution_count": 140,
   "metadata": {},
   "outputs": [
    {
     "data": {
      "text/html": [
       "<div>\n",
       "<style scoped>\n",
       "    .dataframe tbody tr th:only-of-type {\n",
       "        vertical-align: middle;\n",
       "    }\n",
       "\n",
       "    .dataframe tbody tr th {\n",
       "        vertical-align: top;\n",
       "    }\n",
       "\n",
       "    .dataframe thead th {\n",
       "        text-align: right;\n",
       "    }\n",
       "</style>\n",
       "<table border=\"1\" class=\"dataframe\">\n",
       "  <thead>\n",
       "    <tr style=\"text-align: right;\">\n",
       "      <th></th>\n",
       "      <th>PC1</th>\n",
       "      <th>PC2</th>\n",
       "      <th>PC3</th>\n",
       "      <th>PC4</th>\n",
       "      <th>PC5</th>\n",
       "      <th>0</th>\n",
       "    </tr>\n",
       "  </thead>\n",
       "  <tbody>\n",
       "    <tr>\n",
       "      <th>0</th>\n",
       "      <td>-2.635574</td>\n",
       "      <td>1.472268</td>\n",
       "      <td>-0.549489</td>\n",
       "      <td>-0.242326</td>\n",
       "      <td>0.023529</td>\n",
       "      <td>0</td>\n",
       "    </tr>\n",
       "    <tr>\n",
       "      <th>1</th>\n",
       "      <td>-0.459558</td>\n",
       "      <td>-0.675496</td>\n",
       "      <td>0.959355</td>\n",
       "      <td>0.218456</td>\n",
       "      <td>-0.113276</td>\n",
       "      <td>1</td>\n",
       "    </tr>\n",
       "    <tr>\n",
       "      <th>2</th>\n",
       "      <td>-2.722631</td>\n",
       "      <td>2.172331</td>\n",
       "      <td>0.600215</td>\n",
       "      <td>-0.433976</td>\n",
       "      <td>0.005434</td>\n",
       "      <td>0</td>\n",
       "    </tr>\n",
       "    <tr>\n",
       "      <th>3</th>\n",
       "      <td>0.648597</td>\n",
       "      <td>-1.023437</td>\n",
       "      <td>-0.257430</td>\n",
       "      <td>0.289201</td>\n",
       "      <td>0.072694</td>\n",
       "      <td>1</td>\n",
       "    </tr>\n",
       "    <tr>\n",
       "      <th>4</th>\n",
       "      <td>-0.334555</td>\n",
       "      <td>-1.271889</td>\n",
       "      <td>0.190564</td>\n",
       "      <td>0.500247</td>\n",
       "      <td>-0.205703</td>\n",
       "      <td>1</td>\n",
       "    </tr>\n",
       "  </tbody>\n",
       "</table>\n",
       "</div>"
      ],
      "text/plain": [
       "        PC1       PC2       PC3       PC4       PC5  0\n",
       "0 -2.635574  1.472268 -0.549489 -0.242326  0.023529  0\n",
       "1 -0.459558 -0.675496  0.959355  0.218456 -0.113276  1\n",
       "2 -2.722631  2.172331  0.600215 -0.433976  0.005434  0\n",
       "3  0.648597 -1.023437 -0.257430  0.289201  0.072694  1\n",
       "4 -0.334555 -1.271889  0.190564  0.500247 -0.205703  1"
      ]
     },
     "execution_count": 140,
     "metadata": {},
     "output_type": "execute_result"
    }
   ],
   "source": [
    "gdpcadkl=gdpcadk\n",
    "gdpcadkl.index = pd.RangeIndex(len(gdpcadkl.index))\n",
    "gdpcadkl = pd.concat([gdpcadkl, pd.Series(model_k.labels_)], axis=1)\n",
    "gdpcadkl.head()"
   ]
  },
  {
   "cell_type": "code",
   "execution_count": 142,
   "metadata": {},
   "outputs": [
    {
     "data": {
      "text/html": [
       "<div>\n",
       "<style scoped>\n",
       "    .dataframe tbody tr th:only-of-type {\n",
       "        vertical-align: middle;\n",
       "    }\n",
       "\n",
       "    .dataframe tbody tr th {\n",
       "        vertical-align: top;\n",
       "    }\n",
       "\n",
       "    .dataframe thead th {\n",
       "        text-align: right;\n",
       "    }\n",
       "</style>\n",
       "<table border=\"1\" class=\"dataframe\">\n",
       "  <thead>\n",
       "    <tr style=\"text-align: right;\">\n",
       "      <th></th>\n",
       "      <th>PC1</th>\n",
       "      <th>PC2</th>\n",
       "      <th>PC3</th>\n",
       "      <th>PC4</th>\n",
       "      <th>PC5</th>\n",
       "      <th>Cluster_Id</th>\n",
       "    </tr>\n",
       "  </thead>\n",
       "  <tbody>\n",
       "    <tr>\n",
       "      <th>0</th>\n",
       "      <td>-2.635574</td>\n",
       "      <td>1.472268</td>\n",
       "      <td>-0.549489</td>\n",
       "      <td>-0.242326</td>\n",
       "      <td>0.023529</td>\n",
       "      <td>0</td>\n",
       "    </tr>\n",
       "    <tr>\n",
       "      <th>1</th>\n",
       "      <td>-0.459558</td>\n",
       "      <td>-0.675496</td>\n",
       "      <td>0.959355</td>\n",
       "      <td>0.218456</td>\n",
       "      <td>-0.113276</td>\n",
       "      <td>1</td>\n",
       "    </tr>\n",
       "    <tr>\n",
       "      <th>2</th>\n",
       "      <td>-2.722631</td>\n",
       "      <td>2.172331</td>\n",
       "      <td>0.600215</td>\n",
       "      <td>-0.433976</td>\n",
       "      <td>0.005434</td>\n",
       "      <td>0</td>\n",
       "    </tr>\n",
       "    <tr>\n",
       "      <th>3</th>\n",
       "      <td>0.648597</td>\n",
       "      <td>-1.023437</td>\n",
       "      <td>-0.257430</td>\n",
       "      <td>0.289201</td>\n",
       "      <td>0.072694</td>\n",
       "      <td>1</td>\n",
       "    </tr>\n",
       "    <tr>\n",
       "      <th>4</th>\n",
       "      <td>-0.334555</td>\n",
       "      <td>-1.271889</td>\n",
       "      <td>0.190564</td>\n",
       "      <td>0.500247</td>\n",
       "      <td>-0.205703</td>\n",
       "      <td>1</td>\n",
       "    </tr>\n",
       "  </tbody>\n",
       "</table>\n",
       "</div>"
      ],
      "text/plain": [
       "        PC1       PC2       PC3       PC4       PC5  Cluster_Id\n",
       "0 -2.635574  1.472268 -0.549489 -0.242326  0.023529           0\n",
       "1 -0.459558 -0.675496  0.959355  0.218456 -0.113276           1\n",
       "2 -2.722631  2.172331  0.600215 -0.433976  0.005434           0\n",
       "3  0.648597 -1.023437 -0.257430  0.289201  0.072694           1\n",
       "4 -0.334555 -1.271889  0.190564  0.500247 -0.205703           1"
      ]
     },
     "execution_count": 142,
     "metadata": {},
     "output_type": "execute_result"
    }
   ],
   "source": [
    "gdpcadkl.head()"
   ]
  },
  {
   "cell_type": "code",
   "execution_count": 141,
   "metadata": {},
   "outputs": [],
   "source": [
    "gdpcadkl.columns = ['PC1','PC2','PC3','PC4','PC5','Cluster_Id'] "
   ]
  },
  {
   "cell_type": "code",
   "execution_count": 143,
   "metadata": {},
   "outputs": [
    {
     "data": {
      "text/html": [
       "<div>\n",
       "<style scoped>\n",
       "    .dataframe tbody tr th:only-of-type {\n",
       "        vertical-align: middle;\n",
       "    }\n",
       "\n",
       "    .dataframe tbody tr th {\n",
       "        vertical-align: top;\n",
       "    }\n",
       "\n",
       "    .dataframe thead th {\n",
       "        text-align: right;\n",
       "    }\n",
       "</style>\n",
       "<table border=\"1\" class=\"dataframe\">\n",
       "  <thead>\n",
       "    <tr style=\"text-align: right;\">\n",
       "      <th></th>\n",
       "      <th>PC1</th>\n",
       "      <th>PC2</th>\n",
       "      <th>PC3</th>\n",
       "      <th>PC4</th>\n",
       "      <th>PC5</th>\n",
       "      <th>Cluster_Id</th>\n",
       "    </tr>\n",
       "  </thead>\n",
       "  <tbody>\n",
       "    <tr>\n",
       "      <th>0</th>\n",
       "      <td>-2.635574</td>\n",
       "      <td>1.472268</td>\n",
       "      <td>-0.549489</td>\n",
       "      <td>-0.242326</td>\n",
       "      <td>0.023529</td>\n",
       "      <td>0</td>\n",
       "    </tr>\n",
       "    <tr>\n",
       "      <th>1</th>\n",
       "      <td>-0.459558</td>\n",
       "      <td>-0.675496</td>\n",
       "      <td>0.959355</td>\n",
       "      <td>0.218456</td>\n",
       "      <td>-0.113276</td>\n",
       "      <td>1</td>\n",
       "    </tr>\n",
       "    <tr>\n",
       "      <th>2</th>\n",
       "      <td>-2.722631</td>\n",
       "      <td>2.172331</td>\n",
       "      <td>0.600215</td>\n",
       "      <td>-0.433976</td>\n",
       "      <td>0.005434</td>\n",
       "      <td>0</td>\n",
       "    </tr>\n",
       "    <tr>\n",
       "      <th>3</th>\n",
       "      <td>0.648597</td>\n",
       "      <td>-1.023437</td>\n",
       "      <td>-0.257430</td>\n",
       "      <td>0.289201</td>\n",
       "      <td>0.072694</td>\n",
       "      <td>1</td>\n",
       "    </tr>\n",
       "    <tr>\n",
       "      <th>4</th>\n",
       "      <td>-0.334555</td>\n",
       "      <td>-1.271889</td>\n",
       "      <td>0.190564</td>\n",
       "      <td>0.500247</td>\n",
       "      <td>-0.205703</td>\n",
       "      <td>1</td>\n",
       "    </tr>\n",
       "  </tbody>\n",
       "</table>\n",
       "</div>"
      ],
      "text/plain": [
       "        PC1       PC2       PC3       PC4       PC5  Cluster_Id\n",
       "0 -2.635574  1.472268 -0.549489 -0.242326  0.023529           0\n",
       "1 -0.459558 -0.675496  0.959355  0.218456 -0.113276           1\n",
       "2 -2.722631  2.172331  0.600215 -0.433976  0.005434           0\n",
       "3  0.648597 -1.023437 -0.257430  0.289201  0.072694           1\n",
       "4 -0.334555 -1.271889  0.190564  0.500247 -0.205703           1"
      ]
     },
     "execution_count": 143,
     "metadata": {},
     "output_type": "execute_result"
    }
   ],
   "source": [
    "gdpcadkl.head()"
   ]
  },
  {
   "cell_type": "code",
   "execution_count": 119,
   "metadata": {},
   "outputs": [
    {
     "data": {
      "text/plain": [
       "1    62\n",
       "0    43\n",
       "2    22\n",
       "Name: Cluster_Id, dtype: int64"
      ]
     },
     "execution_count": 119,
     "metadata": {},
     "output_type": "execute_result"
    }
   ],
   "source": [
    "gdpcadkl['Cluster_Id'].value_counts()"
   ]
  },
  {
   "cell_type": "code",
   "execution_count": 144,
   "metadata": {},
   "outputs": [
    {
     "data": {
      "text/plain": [
       "PC1           0\n",
       "PC2           0\n",
       "PC3           0\n",
       "PC4           0\n",
       "PC5           0\n",
       "Cluster_Id    0\n",
       "dtype: int64"
      ]
     },
     "execution_count": 144,
     "metadata": {},
     "output_type": "execute_result"
    }
   ],
   "source": [
    "gdpcadkl.isnull().sum()"
   ]
  },
  {
   "cell_type": "markdown",
   "metadata": {},
   "source": [
    "So we can see the distribution of PCS in the three clusters\n"
   ]
  },
  {
   "cell_type": "code",
   "execution_count": 120,
   "metadata": {},
   "outputs": [
    {
     "data": {
      "text/plain": [
       "<matplotlib.axes._subplots.AxesSubplot at 0x263eb5a4c88>"
      ]
     },
     "execution_count": 120,
     "metadata": {},
     "output_type": "execute_result"
    },
    {
     "data": {
      "image/png": "[encoded data removed]",
      "text/plain": [
       "<Figure size 432x288 with 1 Axes>"
      ]
     },
     "metadata": {
      "needs_background": "light"
     },
     "output_type": "display_data"
    }
   ],
   "source": [
    "# Plotting scatterplot to see the distribution of the first two PCS within the clusters \n",
    "sns.scatterplot(x='PC1',y='PC2',hue='Cluster_Id',legend='full',data=gdpcadkl)"
   ]
  },
  {
   "cell_type": "markdown",
   "metadata": {},
   "source": [
    "It can be seen from above that cluster-2 consist mainly PC1 components while cluster-0 consist of mainly PC2 components. \n",
    "Cluster-1 probably consists of other PCs as both PC2 and PC1 have low values for this cluster"
   ]
  },
  {
   "cell_type": "code",
   "execution_count": 293,
   "metadata": {},
   "outputs": [
    {
     "data": {
      "text/plain": [
       "1    62\n",
       "0    43\n",
       "2    22\n",
       "Name: Cluster_Id, dtype: int64"
      ]
     },
     "execution_count": 293,
     "metadata": {},
     "output_type": "execute_result"
    }
   ],
   "source": [
    "gdpcadkl.Cluster_Id.value_counts()"
   ]
  },
  {
   "cell_type": "code",
   "execution_count": 145,
   "metadata": {},
   "outputs": [
    {
     "data": {
      "text/plain": [
       "(127, 6)"
      ]
     },
     "execution_count": 145,
     "metadata": {},
     "output_type": "execute_result"
    }
   ],
   "source": [
    "gdpcadkl.shape"
   ]
  },
  {
   "cell_type": "code",
   "execution_count": 146,
   "metadata": {},
   "outputs": [
    {
     "data": {
      "text/plain": [
       "(127, 6)"
      ]
     },
     "execution_count": 146,
     "metadata": {},
     "output_type": "execute_result"
    }
   ],
   "source": [
    "gdpcad.shape"
   ]
  },
  {
   "cell_type": "code",
   "execution_count": 147,
   "metadata": {},
   "outputs": [
    {
     "data": {
      "text/html": [
       "<div>\n",
       "<style scoped>\n",
       "    .dataframe tbody tr th:only-of-type {\n",
       "        vertical-align: middle;\n",
       "    }\n",
       "\n",
       "    .dataframe tbody tr th {\n",
       "        vertical-align: top;\n",
       "    }\n",
       "\n",
       "    .dataframe thead th {\n",
       "        text-align: right;\n",
       "    }\n",
       "</style>\n",
       "<table border=\"1\" class=\"dataframe\">\n",
       "  <thead>\n",
       "    <tr style=\"text-align: right;\">\n",
       "      <th></th>\n",
       "      <th>PC1</th>\n",
       "      <th>PC2</th>\n",
       "      <th>PC3</th>\n",
       "      <th>PC4</th>\n",
       "      <th>PC5</th>\n",
       "      <th>Cluster_Id</th>\n",
       "    </tr>\n",
       "  </thead>\n",
       "  <tbody>\n",
       "    <tr>\n",
       "      <th>0</th>\n",
       "      <td>-2.635574</td>\n",
       "      <td>1.472268</td>\n",
       "      <td>-0.549489</td>\n",
       "      <td>-0.242326</td>\n",
       "      <td>0.023529</td>\n",
       "      <td>0</td>\n",
       "    </tr>\n",
       "    <tr>\n",
       "      <th>1</th>\n",
       "      <td>-0.459558</td>\n",
       "      <td>-0.675496</td>\n",
       "      <td>0.959355</td>\n",
       "      <td>0.218456</td>\n",
       "      <td>-0.113276</td>\n",
       "      <td>1</td>\n",
       "    </tr>\n",
       "    <tr>\n",
       "      <th>2</th>\n",
       "      <td>-2.722631</td>\n",
       "      <td>2.172331</td>\n",
       "      <td>0.600215</td>\n",
       "      <td>-0.433976</td>\n",
       "      <td>0.005434</td>\n",
       "      <td>0</td>\n",
       "    </tr>\n",
       "    <tr>\n",
       "      <th>3</th>\n",
       "      <td>0.648597</td>\n",
       "      <td>-1.023437</td>\n",
       "      <td>-0.257430</td>\n",
       "      <td>0.289201</td>\n",
       "      <td>0.072694</td>\n",
       "      <td>1</td>\n",
       "    </tr>\n",
       "    <tr>\n",
       "      <th>4</th>\n",
       "      <td>-0.334555</td>\n",
       "      <td>-1.271889</td>\n",
       "      <td>0.190564</td>\n",
       "      <td>0.500247</td>\n",
       "      <td>-0.205703</td>\n",
       "      <td>1</td>\n",
       "    </tr>\n",
       "  </tbody>\n",
       "</table>\n",
       "</div>"
      ],
      "text/plain": [
       "        PC1       PC2       PC3       PC4       PC5  Cluster_Id\n",
       "0 -2.635574  1.472268 -0.549489 -0.242326  0.023529           0\n",
       "1 -0.459558 -0.675496  0.959355  0.218456 -0.113276           1\n",
       "2 -2.722631  2.172331  0.600215 -0.433976  0.005434           0\n",
       "3  0.648597 -1.023437 -0.257430  0.289201  0.072694           1\n",
       "4 -0.334555 -1.271889  0.190564  0.500247 -0.205703           1"
      ]
     },
     "execution_count": 147,
     "metadata": {},
     "output_type": "execute_result"
    }
   ],
   "source": [
    "gdpcadkl.head()"
   ]
  },
  {
   "cell_type": "code",
   "execution_count": 148,
   "metadata": {},
   "outputs": [
    {
     "data": {
      "text/html": [
       "<div>\n",
       "<style scoped>\n",
       "    .dataframe tbody tr th:only-of-type {\n",
       "        vertical-align: middle;\n",
       "    }\n",
       "\n",
       "    .dataframe tbody tr th {\n",
       "        vertical-align: top;\n",
       "    }\n",
       "\n",
       "    .dataframe thead th {\n",
       "        text-align: right;\n",
       "    }\n",
       "</style>\n",
       "<table border=\"1\" class=\"dataframe\">\n",
       "  <thead>\n",
       "    <tr style=\"text-align: right;\">\n",
       "      <th></th>\n",
       "      <th>PC1</th>\n",
       "      <th>PC2</th>\n",
       "      <th>PC3</th>\n",
       "      <th>PC4</th>\n",
       "      <th>PC5</th>\n",
       "      <th>country</th>\n",
       "    </tr>\n",
       "  </thead>\n",
       "  <tbody>\n",
       "    <tr>\n",
       "      <th>0</th>\n",
       "      <td>-2.635574</td>\n",
       "      <td>1.472268</td>\n",
       "      <td>-0.549489</td>\n",
       "      <td>-0.242326</td>\n",
       "      <td>0.023529</td>\n",
       "      <td>Afghanistan</td>\n",
       "    </tr>\n",
       "    <tr>\n",
       "      <th>2</th>\n",
       "      <td>-0.459558</td>\n",
       "      <td>-0.675496</td>\n",
       "      <td>0.959355</td>\n",
       "      <td>0.218456</td>\n",
       "      <td>-0.113276</td>\n",
       "      <td>Algeria</td>\n",
       "    </tr>\n",
       "    <tr>\n",
       "      <th>3</th>\n",
       "      <td>-2.722631</td>\n",
       "      <td>2.172331</td>\n",
       "      <td>0.600215</td>\n",
       "      <td>-0.433976</td>\n",
       "      <td>0.005434</td>\n",
       "      <td>Angola</td>\n",
       "    </tr>\n",
       "    <tr>\n",
       "      <th>4</th>\n",
       "      <td>0.648597</td>\n",
       "      <td>-1.023437</td>\n",
       "      <td>-0.257430</td>\n",
       "      <td>0.289201</td>\n",
       "      <td>0.072694</td>\n",
       "      <td>Antigua and Barbuda</td>\n",
       "    </tr>\n",
       "    <tr>\n",
       "      <th>6</th>\n",
       "      <td>-0.334555</td>\n",
       "      <td>-1.271889</td>\n",
       "      <td>0.190564</td>\n",
       "      <td>0.500247</td>\n",
       "      <td>-0.205703</td>\n",
       "      <td>Armenia</td>\n",
       "    </tr>\n",
       "  </tbody>\n",
       "</table>\n",
       "</div>"
      ],
      "text/plain": [
       "        PC1       PC2       PC3       PC4       PC5              country\n",
       "0 -2.635574  1.472268 -0.549489 -0.242326  0.023529          Afghanistan\n",
       "2 -0.459558 -0.675496  0.959355  0.218456 -0.113276              Algeria\n",
       "3 -2.722631  2.172331  0.600215 -0.433976  0.005434               Angola\n",
       "4  0.648597 -1.023437 -0.257430  0.289201  0.072694  Antigua and Barbuda\n",
       "6 -0.334555 -1.271889  0.190564  0.500247 -0.205703              Armenia"
      ]
     },
     "execution_count": 148,
     "metadata": {},
     "output_type": "execute_result"
    }
   ],
   "source": [
    "gdpcad.head()"
   ]
  },
  {
   "cell_type": "code",
   "execution_count": 149,
   "metadata": {},
   "outputs": [
    {
     "data": {
      "text/plain": [
       "PC1        0\n",
       "PC2        0\n",
       "PC3        0\n",
       "PC4        0\n",
       "PC5        0\n",
       "country    0\n",
       "dtype: int64"
      ]
     },
     "execution_count": 149,
     "metadata": {},
     "output_type": "execute_result"
    }
   ],
   "source": [
    "gdpcad.isnull().sum()"
   ]
  },
  {
   "cell_type": "code",
   "execution_count": 150,
   "metadata": {},
   "outputs": [],
   "source": [
    "gdpcad.index = pd.RangeIndex(len(gdpcad.index))"
   ]
  },
  {
   "cell_type": "code",
   "execution_count": 151,
   "metadata": {},
   "outputs": [],
   "source": [
    "gdpcadkl['country'] = gdpcad['country']"
   ]
  },
  {
   "cell_type": "code",
   "execution_count": 153,
   "metadata": {},
   "outputs": [
    {
     "data": {
      "text/plain": [
       "(127, 7)"
      ]
     },
     "execution_count": 153,
     "metadata": {},
     "output_type": "execute_result"
    }
   ],
   "source": [
    "gdpcadkl.shape"
   ]
  },
  {
   "cell_type": "code",
   "execution_count": 154,
   "metadata": {},
   "outputs": [
    {
     "data": {
      "text/plain": [
       "PC1           0\n",
       "PC2           0\n",
       "PC3           0\n",
       "PC4           0\n",
       "PC5           0\n",
       "Cluster_Id    0\n",
       "country       0\n",
       "dtype: int64"
      ]
     },
     "execution_count": 154,
     "metadata": {},
     "output_type": "execute_result"
    }
   ],
   "source": [
    "gdpcadkl.isnull().sum()"
   ]
  },
  {
   "cell_type": "markdown",
   "metadata": {},
   "source": [
    "Now will merge this dataset with cluster Ids with main dataset on 'country' column. Will do the inner join so that merged dataset only consists of countries that are common to both datasets"
   ]
  },
  {
   "cell_type": "code",
   "execution_count": 155,
   "metadata": {},
   "outputs": [],
   "source": [
    "gdpcadf = pd.merge(gdp, gdpcadkl, how = 'inner', on = 'country')"
   ]
  },
  {
   "cell_type": "code",
   "execution_count": 156,
   "metadata": {},
   "outputs": [
    {
     "data": {
      "text/plain": [
       "(127, 16)"
      ]
     },
     "execution_count": 156,
     "metadata": {},
     "output_type": "execute_result"
    }
   ],
   "source": [
    "gdpcadf.shape"
   ]
  },
  {
   "cell_type": "code",
   "execution_count": 157,
   "metadata": {},
   "outputs": [
    {
     "data": {
      "text/html": [
       "<div>\n",
       "<style scoped>\n",
       "    .dataframe tbody tr th:only-of-type {\n",
       "        vertical-align: middle;\n",
       "    }\n",
       "\n",
       "    .dataframe tbody tr th {\n",
       "        vertical-align: top;\n",
       "    }\n",
       "\n",
       "    .dataframe thead th {\n",
       "        text-align: right;\n",
       "    }\n",
       "</style>\n",
       "<table border=\"1\" class=\"dataframe\">\n",
       "  <thead>\n",
       "    <tr style=\"text-align: right;\">\n",
       "      <th></th>\n",
       "      <th>country</th>\n",
       "      <th>child_mort</th>\n",
       "      <th>exports</th>\n",
       "      <th>health</th>\n",
       "      <th>imports</th>\n",
       "      <th>income</th>\n",
       "      <th>inflation</th>\n",
       "      <th>life_expec</th>\n",
       "      <th>total_fer</th>\n",
       "      <th>gdpp</th>\n",
       "      <th>PC1</th>\n",
       "      <th>PC2</th>\n",
       "      <th>PC3</th>\n",
       "      <th>PC4</th>\n",
       "      <th>PC5</th>\n",
       "      <th>Cluster_Id</th>\n",
       "    </tr>\n",
       "  </thead>\n",
       "  <tbody>\n",
       "    <tr>\n",
       "      <th>0</th>\n",
       "      <td>Afghanistan</td>\n",
       "      <td>90.2</td>\n",
       "      <td>55.30</td>\n",
       "      <td>41.92</td>\n",
       "      <td>248.30</td>\n",
       "      <td>1610</td>\n",
       "      <td>9.44</td>\n",
       "      <td>56.2</td>\n",
       "      <td>5.82</td>\n",
       "      <td>553</td>\n",
       "      <td>-2.635574</td>\n",
       "      <td>1.472268</td>\n",
       "      <td>-0.549489</td>\n",
       "      <td>-0.242326</td>\n",
       "      <td>0.023529</td>\n",
       "      <td>0</td>\n",
       "    </tr>\n",
       "    <tr>\n",
       "      <th>1</th>\n",
       "      <td>Algeria</td>\n",
       "      <td>27.3</td>\n",
       "      <td>1712.64</td>\n",
       "      <td>185.98</td>\n",
       "      <td>1400.44</td>\n",
       "      <td>12900</td>\n",
       "      <td>16.10</td>\n",
       "      <td>76.5</td>\n",
       "      <td>2.89</td>\n",
       "      <td>4460</td>\n",
       "      <td>-0.459558</td>\n",
       "      <td>-0.675496</td>\n",
       "      <td>0.959355</td>\n",
       "      <td>0.218456</td>\n",
       "      <td>-0.113276</td>\n",
       "      <td>1</td>\n",
       "    </tr>\n",
       "    <tr>\n",
       "      <th>2</th>\n",
       "      <td>Angola</td>\n",
       "      <td>119.0</td>\n",
       "      <td>2199.19</td>\n",
       "      <td>100.60</td>\n",
       "      <td>1514.37</td>\n",
       "      <td>5900</td>\n",
       "      <td>22.40</td>\n",
       "      <td>60.1</td>\n",
       "      <td>6.16</td>\n",
       "      <td>3530</td>\n",
       "      <td>-2.722631</td>\n",
       "      <td>2.172331</td>\n",
       "      <td>0.600215</td>\n",
       "      <td>-0.433976</td>\n",
       "      <td>0.005434</td>\n",
       "      <td>0</td>\n",
       "    </tr>\n",
       "    <tr>\n",
       "      <th>3</th>\n",
       "      <td>Antigua and Barbuda</td>\n",
       "      <td>10.3</td>\n",
       "      <td>5551.00</td>\n",
       "      <td>735.66</td>\n",
       "      <td>7185.80</td>\n",
       "      <td>19100</td>\n",
       "      <td>1.44</td>\n",
       "      <td>76.8</td>\n",
       "      <td>2.13</td>\n",
       "      <td>12200</td>\n",
       "      <td>0.648597</td>\n",
       "      <td>-1.023437</td>\n",
       "      <td>-0.257430</td>\n",
       "      <td>0.289201</td>\n",
       "      <td>0.072694</td>\n",
       "      <td>1</td>\n",
       "    </tr>\n",
       "    <tr>\n",
       "      <th>4</th>\n",
       "      <td>Armenia</td>\n",
       "      <td>18.1</td>\n",
       "      <td>669.76</td>\n",
       "      <td>141.68</td>\n",
       "      <td>1458.66</td>\n",
       "      <td>6700</td>\n",
       "      <td>7.77</td>\n",
       "      <td>73.3</td>\n",
       "      <td>1.69</td>\n",
       "      <td>3220</td>\n",
       "      <td>-0.334555</td>\n",
       "      <td>-1.271889</td>\n",
       "      <td>0.190564</td>\n",
       "      <td>0.500247</td>\n",
       "      <td>-0.205703</td>\n",
       "      <td>1</td>\n",
       "    </tr>\n",
       "  </tbody>\n",
       "</table>\n",
       "</div>"
      ],
      "text/plain": [
       "               country  child_mort  exports  health  imports  income  \\\n",
       "0          Afghanistan        90.2    55.30   41.92   248.30    1610   \n",
       "1              Algeria        27.3  1712.64  185.98  1400.44   12900   \n",
       "2               Angola       119.0  2199.19  100.60  1514.37    5900   \n",
       "3  Antigua and Barbuda        10.3  5551.00  735.66  7185.80   19100   \n",
       "4              Armenia        18.1   669.76  141.68  1458.66    6700   \n",
       "\n",
       "   inflation  life_expec  total_fer   gdpp       PC1       PC2       PC3  \\\n",
       "0       9.44        56.2       5.82    553 -2.635574  1.472268 -0.549489   \n",
       "1      16.10        76.5       2.89   4460 -0.459558 -0.675496  0.959355   \n",
       "2      22.40        60.1       6.16   3530 -2.722631  2.172331  0.600215   \n",
       "3       1.44        76.8       2.13  12200  0.648597 -1.023437 -0.257430   \n",
       "4       7.77        73.3       1.69   3220 -0.334555 -1.271889  0.190564   \n",
       "\n",
       "        PC4       PC5  Cluster_Id  \n",
       "0 -0.242326  0.023529           0  \n",
       "1  0.218456 -0.113276           1  \n",
       "2 -0.433976  0.005434           0  \n",
       "3  0.289201  0.072694           1  \n",
       "4  0.500247 -0.205703           1  "
      ]
     },
     "execution_count": 157,
     "metadata": {},
     "output_type": "execute_result"
    }
   ],
   "source": [
    "gdpcadf.head()"
   ]
  },
  {
   "cell_type": "code",
   "execution_count": 158,
   "metadata": {},
   "outputs": [
    {
     "data": {
      "text/plain": [
       "country       0\n",
       "child_mort    0\n",
       "exports       0\n",
       "health        0\n",
       "imports       0\n",
       "income        0\n",
       "inflation     0\n",
       "life_expec    0\n",
       "total_fer     0\n",
       "gdpp          0\n",
       "PC1           0\n",
       "PC2           0\n",
       "PC3           0\n",
       "PC4           0\n",
       "PC5           0\n",
       "Cluster_Id    0\n",
       "dtype: int64"
      ]
     },
     "execution_count": 158,
     "metadata": {},
     "output_type": "execute_result"
    }
   ],
   "source": [
    "gdpcadf.isnull().sum(axis = 0)"
   ]
  },
  {
   "cell_type": "markdown",
   "metadata": {},
   "source": [
    "Boxplot analysis"
   ]
  },
  {
   "cell_type": "code",
   "execution_count": 164,
   "metadata": {},
   "outputs": [
    {
     "data": {
      "text/plain": [
       "<matplotlib.axes._subplots.AxesSubplot at 0x263eb7bcf60>"
      ]
     },
     "execution_count": 164,
     "metadata": {},
     "output_type": "execute_result"
    },
    {
     "data": {
      "image/png": "[encoded data removed]",
      "text/plain": [
       "<Figure size 432x288 with 1 Axes>"
      ]
     },
     "metadata": {
      "needs_background": "light"
     },
     "output_type": "display_data"
    }
   ],
   "source": [
    "sns.boxplot(x = 'Cluster_Id', y = 'gdpp', data = gdpcadf)"
   ]
  },
  {
   "cell_type": "code",
   "execution_count": 165,
   "metadata": {},
   "outputs": [
    {
     "data": {
      "text/plain": [
       "<matplotlib.axes._subplots.AxesSubplot at 0x263eb87b048>"
      ]
     },
     "execution_count": 165,
     "metadata": {},
     "output_type": "execute_result"
    },
    {
     "data": {
      "image/png": "[encoded data removed]",
      "text/plain": [
       "<Figure size 432x288 with 1 Axes>"
      ]
     },
     "metadata": {
      "needs_background": "light"
     },
     "output_type": "display_data"
    }
   ],
   "source": [
    "sns.boxplot(x = 'Cluster_Id', y = 'child_mort', data = gdpcadf)"
   ]
  },
  {
   "cell_type": "code",
   "execution_count": 166,
   "metadata": {},
   "outputs": [
    {
     "data": {
      "text/plain": [
       "<matplotlib.axes._subplots.AxesSubplot at 0x263eb94bdd8>"
      ]
     },
     "execution_count": 166,
     "metadata": {},
     "output_type": "execute_result"
    },
    {
     "data": {
      "image/png": "[encoded data removed]",
      "text/plain": [
       "<Figure size 432x288 with 1 Axes>"
      ]
     },
     "metadata": {
      "needs_background": "light"
     },
     "output_type": "display_data"
    }
   ],
   "source": [
    "sns.boxplot(x = 'Cluster_Id', y = 'income', data = gdpcadf)"
   ]
  },
  {
   "cell_type": "code",
   "execution_count": 167,
   "metadata": {},
   "outputs": [
    {
     "data": {
      "text/plain": [
       "<matplotlib.axes._subplots.AxesSubplot at 0x263eb9d1f60>"
      ]
     },
     "execution_count": 167,
     "metadata": {},
     "output_type": "execute_result"
    },
    {
     "data": {
      "image/png": "[encoded data removed]",
      "text/plain": [
       "<Figure size 432x288 with 1 Axes>"
      ]
     },
     "metadata": {
      "needs_background": "light"
     },
     "output_type": "display_data"
    }
   ],
   "source": [
    "sns.boxplot(x = 'Cluster_Id', y = 'life_expec', data = gdpcadf)"
   ]
  },
  {
   "cell_type": "markdown",
   "metadata": {},
   "source": [
    "It can be seen from above box plots that cluster -0 has the countries due to the following analysis results:\n",
    "1. The 'gdpp' is lowest for this cluster. Therefore, the spending on 'health', 'imports' and 'exports' is least and in fact GDP per capita, given by 'gdpp' is quite low\n",
    "2. The 'child_mort' rate is highest for this cluster and again, alarmingly high and countries within this cluster need the most attention\n",
    "3. The 'income' is lowest for this cluster so the spending power of an individual from countries within this cluster is lowest which means that access to basic needs is toughest for people of these countries "
   ]
  },
  {
   "cell_type": "markdown",
   "metadata": {},
   "source": [
    "Now will create a dataframe with countries from cluster-0 only"
   ]
  },
  {
   "cell_type": "code",
   "execution_count": 168,
   "metadata": {},
   "outputs": [],
   "source": [
    "gdpcadf_0 = gdpcadf[gdpcadf.Cluster_Id == 0]"
   ]
  },
  {
   "cell_type": "code",
   "execution_count": 169,
   "metadata": {},
   "outputs": [
    {
     "data": {
      "text/html": [
       "<div>\n",
       "<style scoped>\n",
       "    .dataframe tbody tr th:only-of-type {\n",
       "        vertical-align: middle;\n",
       "    }\n",
       "\n",
       "    .dataframe tbody tr th {\n",
       "        vertical-align: top;\n",
       "    }\n",
       "\n",
       "    .dataframe thead th {\n",
       "        text-align: right;\n",
       "    }\n",
       "</style>\n",
       "<table border=\"1\" class=\"dataframe\">\n",
       "  <thead>\n",
       "    <tr style=\"text-align: right;\">\n",
       "      <th></th>\n",
       "      <th>country</th>\n",
       "      <th>child_mort</th>\n",
       "      <th>exports</th>\n",
       "      <th>health</th>\n",
       "      <th>imports</th>\n",
       "      <th>income</th>\n",
       "      <th>inflation</th>\n",
       "      <th>life_expec</th>\n",
       "      <th>total_fer</th>\n",
       "      <th>gdpp</th>\n",
       "      <th>PC1</th>\n",
       "      <th>PC2</th>\n",
       "      <th>PC3</th>\n",
       "      <th>PC4</th>\n",
       "      <th>PC5</th>\n",
       "      <th>Cluster_Id</th>\n",
       "    </tr>\n",
       "  </thead>\n",
       "  <tbody>\n",
       "    <tr>\n",
       "      <th>0</th>\n",
       "      <td>Afghanistan</td>\n",
       "      <td>90.2</td>\n",
       "      <td>55.30</td>\n",
       "      <td>41.92</td>\n",
       "      <td>248.30</td>\n",
       "      <td>1610</td>\n",
       "      <td>9.440</td>\n",
       "      <td>56.2</td>\n",
       "      <td>5.82</td>\n",
       "      <td>553</td>\n",
       "      <td>-2.635574</td>\n",
       "      <td>1.472268</td>\n",
       "      <td>-0.549489</td>\n",
       "      <td>-0.242326</td>\n",
       "      <td>0.023529</td>\n",
       "      <td>0</td>\n",
       "    </tr>\n",
       "    <tr>\n",
       "      <th>2</th>\n",
       "      <td>Angola</td>\n",
       "      <td>119.0</td>\n",
       "      <td>2199.19</td>\n",
       "      <td>100.60</td>\n",
       "      <td>1514.37</td>\n",
       "      <td>5900</td>\n",
       "      <td>22.400</td>\n",
       "      <td>60.1</td>\n",
       "      <td>6.16</td>\n",
       "      <td>3530</td>\n",
       "      <td>-2.722631</td>\n",
       "      <td>2.172331</td>\n",
       "      <td>0.600215</td>\n",
       "      <td>-0.433976</td>\n",
       "      <td>0.005434</td>\n",
       "      <td>0</td>\n",
       "    </tr>\n",
       "    <tr>\n",
       "      <th>12</th>\n",
       "      <td>Benin</td>\n",
       "      <td>111.0</td>\n",
       "      <td>180.40</td>\n",
       "      <td>31.08</td>\n",
       "      <td>281.98</td>\n",
       "      <td>1820</td>\n",
       "      <td>0.885</td>\n",
       "      <td>61.8</td>\n",
       "      <td>5.36</td>\n",
       "      <td>758</td>\n",
       "      <td>-2.363962</td>\n",
       "      <td>1.171696</td>\n",
       "      <td>-1.247192</td>\n",
       "      <td>-0.257107</td>\n",
       "      <td>0.107725</td>\n",
       "      <td>0</td>\n",
       "    </tr>\n",
       "    <tr>\n",
       "      <th>15</th>\n",
       "      <td>Botswana</td>\n",
       "      <td>52.5</td>\n",
       "      <td>2768.60</td>\n",
       "      <td>527.05</td>\n",
       "      <td>3257.55</td>\n",
       "      <td>13300</td>\n",
       "      <td>8.920</td>\n",
       "      <td>57.1</td>\n",
       "      <td>2.88</td>\n",
       "      <td>6350</td>\n",
       "      <td>-1.129489</td>\n",
       "      <td>0.401611</td>\n",
       "      <td>-0.231994</td>\n",
       "      <td>0.102648</td>\n",
       "      <td>0.278407</td>\n",
       "      <td>0</td>\n",
       "    </tr>\n",
       "    <tr>\n",
       "      <th>18</th>\n",
       "      <td>Burkina Faso</td>\n",
       "      <td>116.0</td>\n",
       "      <td>110.40</td>\n",
       "      <td>38.76</td>\n",
       "      <td>170.20</td>\n",
       "      <td>1430</td>\n",
       "      <td>6.810</td>\n",
       "      <td>57.9</td>\n",
       "      <td>5.87</td>\n",
       "      <td>575</td>\n",
       "      <td>-2.751479</td>\n",
       "      <td>1.664992</td>\n",
       "      <td>-0.848207</td>\n",
       "      <td>-0.345047</td>\n",
       "      <td>0.087575</td>\n",
       "      <td>0</td>\n",
       "    </tr>\n",
       "  </tbody>\n",
       "</table>\n",
       "</div>"
      ],
      "text/plain": [
       "         country  child_mort  exports  health  imports  income  inflation  \\\n",
       "0    Afghanistan        90.2    55.30   41.92   248.30    1610      9.440   \n",
       "2         Angola       119.0  2199.19  100.60  1514.37    5900     22.400   \n",
       "12         Benin       111.0   180.40   31.08   281.98    1820      0.885   \n",
       "15      Botswana        52.5  2768.60  527.05  3257.55   13300      8.920   \n",
       "18  Burkina Faso       116.0   110.40   38.76   170.20    1430      6.810   \n",
       "\n",
       "    life_expec  total_fer  gdpp       PC1       PC2       PC3       PC4  \\\n",
       "0         56.2       5.82   553 -2.635574  1.472268 -0.549489 -0.242326   \n",
       "2         60.1       6.16  3530 -2.722631  2.172331  0.600215 -0.433976   \n",
       "12        61.8       5.36   758 -2.363962  1.171696 -1.247192 -0.257107   \n",
       "15        57.1       2.88  6350 -1.129489  0.401611 -0.231994  0.102648   \n",
       "18        57.9       5.87   575 -2.751479  1.664992 -0.848207 -0.345047   \n",
       "\n",
       "         PC5  Cluster_Id  \n",
       "0   0.023529           0  \n",
       "2   0.005434           0  \n",
       "12  0.107725           0  \n",
       "15  0.278407           0  \n",
       "18  0.087575           0  "
      ]
     },
     "execution_count": 169,
     "metadata": {},
     "output_type": "execute_result"
    }
   ],
   "source": [
    "gdpcadf_0.head()"
   ]
  },
  {
   "cell_type": "code",
   "execution_count": 174,
   "metadata": {},
   "outputs": [
    {
     "data": {
      "text/plain": [
       "(43, 16)"
      ]
     },
     "execution_count": 174,
     "metadata": {},
     "output_type": "execute_result"
    }
   ],
   "source": [
    "gdpcadf_0.shape"
   ]
  },
  {
   "cell_type": "markdown",
   "metadata": {},
   "source": [
    "Dropping the principle component columns as we do not need them now"
   ]
  },
  {
   "cell_type": "code",
   "execution_count": 170,
   "metadata": {},
   "outputs": [],
   "source": [
    "gdpf_0 = gdpcadf_0.drop(['PC1','PC2', 'PC3', 'PC4', 'PC5'], axis = 1)"
   ]
  },
  {
   "cell_type": "code",
   "execution_count": 171,
   "metadata": {},
   "outputs": [
    {
     "data": {
      "text/html": [
       "<div>\n",
       "<style scoped>\n",
       "    .dataframe tbody tr th:only-of-type {\n",
       "        vertical-align: middle;\n",
       "    }\n",
       "\n",
       "    .dataframe tbody tr th {\n",
       "        vertical-align: top;\n",
       "    }\n",
       "\n",
       "    .dataframe thead th {\n",
       "        text-align: right;\n",
       "    }\n",
       "</style>\n",
       "<table border=\"1\" class=\"dataframe\">\n",
       "  <thead>\n",
       "    <tr style=\"text-align: right;\">\n",
       "      <th></th>\n",
       "      <th>country</th>\n",
       "      <th>child_mort</th>\n",
       "      <th>exports</th>\n",
       "      <th>health</th>\n",
       "      <th>imports</th>\n",
       "      <th>income</th>\n",
       "      <th>inflation</th>\n",
       "      <th>life_expec</th>\n",
       "      <th>total_fer</th>\n",
       "      <th>gdpp</th>\n",
       "      <th>Cluster_Id</th>\n",
       "    </tr>\n",
       "  </thead>\n",
       "  <tbody>\n",
       "    <tr>\n",
       "      <th>0</th>\n",
       "      <td>Afghanistan</td>\n",
       "      <td>90.2</td>\n",
       "      <td>55.30</td>\n",
       "      <td>41.92</td>\n",
       "      <td>248.30</td>\n",
       "      <td>1610</td>\n",
       "      <td>9.440</td>\n",
       "      <td>56.2</td>\n",
       "      <td>5.82</td>\n",
       "      <td>553</td>\n",
       "      <td>0</td>\n",
       "    </tr>\n",
       "    <tr>\n",
       "      <th>2</th>\n",
       "      <td>Angola</td>\n",
       "      <td>119.0</td>\n",
       "      <td>2199.19</td>\n",
       "      <td>100.60</td>\n",
       "      <td>1514.37</td>\n",
       "      <td>5900</td>\n",
       "      <td>22.400</td>\n",
       "      <td>60.1</td>\n",
       "      <td>6.16</td>\n",
       "      <td>3530</td>\n",
       "      <td>0</td>\n",
       "    </tr>\n",
       "    <tr>\n",
       "      <th>12</th>\n",
       "      <td>Benin</td>\n",
       "      <td>111.0</td>\n",
       "      <td>180.40</td>\n",
       "      <td>31.08</td>\n",
       "      <td>281.98</td>\n",
       "      <td>1820</td>\n",
       "      <td>0.885</td>\n",
       "      <td>61.8</td>\n",
       "      <td>5.36</td>\n",
       "      <td>758</td>\n",
       "      <td>0</td>\n",
       "    </tr>\n",
       "    <tr>\n",
       "      <th>15</th>\n",
       "      <td>Botswana</td>\n",
       "      <td>52.5</td>\n",
       "      <td>2768.60</td>\n",
       "      <td>527.05</td>\n",
       "      <td>3257.55</td>\n",
       "      <td>13300</td>\n",
       "      <td>8.920</td>\n",
       "      <td>57.1</td>\n",
       "      <td>2.88</td>\n",
       "      <td>6350</td>\n",
       "      <td>0</td>\n",
       "    </tr>\n",
       "    <tr>\n",
       "      <th>18</th>\n",
       "      <td>Burkina Faso</td>\n",
       "      <td>116.0</td>\n",
       "      <td>110.40</td>\n",
       "      <td>38.76</td>\n",
       "      <td>170.20</td>\n",
       "      <td>1430</td>\n",
       "      <td>6.810</td>\n",
       "      <td>57.9</td>\n",
       "      <td>5.87</td>\n",
       "      <td>575</td>\n",
       "      <td>0</td>\n",
       "    </tr>\n",
       "  </tbody>\n",
       "</table>\n",
       "</div>"
      ],
      "text/plain": [
       "         country  child_mort  exports  health  imports  income  inflation  \\\n",
       "0    Afghanistan        90.2    55.30   41.92   248.30    1610      9.440   \n",
       "2         Angola       119.0  2199.19  100.60  1514.37    5900     22.400   \n",
       "12         Benin       111.0   180.40   31.08   281.98    1820      0.885   \n",
       "15      Botswana        52.5  2768.60  527.05  3257.55   13300      8.920   \n",
       "18  Burkina Faso       116.0   110.40   38.76   170.20    1430      6.810   \n",
       "\n",
       "    life_expec  total_fer  gdpp  Cluster_Id  \n",
       "0         56.2       5.82   553           0  \n",
       "2         60.1       6.16  3530           0  \n",
       "12        61.8       5.36   758           0  \n",
       "15        57.1       2.88  6350           0  \n",
       "18        57.9       5.87   575           0  "
      ]
     },
     "execution_count": 171,
     "metadata": {},
     "output_type": "execute_result"
    }
   ],
   "source": [
    "gdpf_0.head()"
   ]
  },
  {
   "cell_type": "code",
   "execution_count": 172,
   "metadata": {},
   "outputs": [
    {
     "data": {
      "text/plain": [
       "(43, 11)"
      ]
     },
     "execution_count": 172,
     "metadata": {},
     "output_type": "execute_result"
    }
   ],
   "source": [
    "gdpf_0.shape"
   ]
  },
  {
   "cell_type": "code",
   "execution_count": 176,
   "metadata": {},
   "outputs": [
    {
     "data": {
      "text/html": [
       "<div>\n",
       "<style scoped>\n",
       "    .dataframe tbody tr th:only-of-type {\n",
       "        vertical-align: middle;\n",
       "    }\n",
       "\n",
       "    .dataframe tbody tr th {\n",
       "        vertical-align: top;\n",
       "    }\n",
       "\n",
       "    .dataframe thead th {\n",
       "        text-align: right;\n",
       "    }\n",
       "</style>\n",
       "<table border=\"1\" class=\"dataframe\">\n",
       "  <thead>\n",
       "    <tr style=\"text-align: right;\">\n",
       "      <th></th>\n",
       "      <th>child_mort</th>\n",
       "      <th>exports</th>\n",
       "      <th>health</th>\n",
       "      <th>imports</th>\n",
       "      <th>income</th>\n",
       "      <th>inflation</th>\n",
       "      <th>life_expec</th>\n",
       "      <th>total_fer</th>\n",
       "      <th>gdpp</th>\n",
       "      <th>Cluster_Id</th>\n",
       "    </tr>\n",
       "  </thead>\n",
       "  <tbody>\n",
       "    <tr>\n",
       "      <th>count</th>\n",
       "      <td>43.000000</td>\n",
       "      <td>43.000000</td>\n",
       "      <td>43.000000</td>\n",
       "      <td>43.000000</td>\n",
       "      <td>43.000000</td>\n",
       "      <td>43.000000</td>\n",
       "      <td>43.000000</td>\n",
       "      <td>43.000000</td>\n",
       "      <td>43.000000</td>\n",
       "      <td>43.0</td>\n",
       "    </tr>\n",
       "    <tr>\n",
       "      <th>mean</th>\n",
       "      <td>86.900000</td>\n",
       "      <td>620.945116</td>\n",
       "      <td>98.498605</td>\n",
       "      <td>643.552558</td>\n",
       "      <td>3348.488372</td>\n",
       "      <td>9.508721</td>\n",
       "      <td>59.800000</td>\n",
       "      <td>4.972093</td>\n",
       "      <td>1569.860465</td>\n",
       "      <td>0.0</td>\n",
       "    </tr>\n",
       "    <tr>\n",
       "      <th>std</th>\n",
       "      <td>28.815323</td>\n",
       "      <td>1015.885953</td>\n",
       "      <td>137.341978</td>\n",
       "      <td>753.133632</td>\n",
       "      <td>3608.961725</td>\n",
       "      <td>6.623224</td>\n",
       "      <td>4.585588</td>\n",
       "      <td>1.038973</td>\n",
       "      <td>1951.316071</td>\n",
       "      <td>0.0</td>\n",
       "    </tr>\n",
       "    <tr>\n",
       "      <th>min</th>\n",
       "      <td>28.100000</td>\n",
       "      <td>20.610000</td>\n",
       "      <td>12.820000</td>\n",
       "      <td>90.550000</td>\n",
       "      <td>609.000000</td>\n",
       "      <td>0.885000</td>\n",
       "      <td>46.500000</td>\n",
       "      <td>2.590000</td>\n",
       "      <td>231.000000</td>\n",
       "      <td>0.0</td>\n",
       "    </tr>\n",
       "    <tr>\n",
       "      <th>25%</th>\n",
       "      <td>63.650000</td>\n",
       "      <td>107.525000</td>\n",
       "      <td>33.330000</td>\n",
       "      <td>193.060000</td>\n",
       "      <td>1390.000000</td>\n",
       "      <td>4.010000</td>\n",
       "      <td>56.950000</td>\n",
       "      <td>4.440000</td>\n",
       "      <td>550.000000</td>\n",
       "      <td>0.0</td>\n",
       "    </tr>\n",
       "    <tr>\n",
       "      <th>50%</th>\n",
       "      <td>88.200000</td>\n",
       "      <td>196.340000</td>\n",
       "      <td>50.960000</td>\n",
       "      <td>302.800000</td>\n",
       "      <td>1870.000000</td>\n",
       "      <td>8.790000</td>\n",
       "      <td>59.500000</td>\n",
       "      <td>5.020000</td>\n",
       "      <td>897.000000</td>\n",
       "      <td>0.0</td>\n",
       "    </tr>\n",
       "    <tr>\n",
       "      <th>75%</th>\n",
       "      <td>108.500000</td>\n",
       "      <td>500.590000</td>\n",
       "      <td>77.185000</td>\n",
       "      <td>667.845000</td>\n",
       "      <td>3345.000000</td>\n",
       "      <td>15.050000</td>\n",
       "      <td>62.850000</td>\n",
       "      <td>5.495000</td>\n",
       "      <td>1310.000000</td>\n",
       "      <td>0.0</td>\n",
       "    </tr>\n",
       "    <tr>\n",
       "      <th>max</th>\n",
       "      <td>160.000000</td>\n",
       "      <td>5048.750000</td>\n",
       "      <td>650.830000</td>\n",
       "      <td>3257.550000</td>\n",
       "      <td>15400.000000</td>\n",
       "      <td>23.600000</td>\n",
       "      <td>68.200000</td>\n",
       "      <td>7.490000</td>\n",
       "      <td>8750.000000</td>\n",
       "      <td>0.0</td>\n",
       "    </tr>\n",
       "  </tbody>\n",
       "</table>\n",
       "</div>"
      ],
      "text/plain": [
       "       child_mort      exports      health      imports        income  \\\n",
       "count   43.000000    43.000000   43.000000    43.000000     43.000000   \n",
       "mean    86.900000   620.945116   98.498605   643.552558   3348.488372   \n",
       "std     28.815323  1015.885953  137.341978   753.133632   3608.961725   \n",
       "min     28.100000    20.610000   12.820000    90.550000    609.000000   \n",
       "25%     63.650000   107.525000   33.330000   193.060000   1390.000000   \n",
       "50%     88.200000   196.340000   50.960000   302.800000   1870.000000   \n",
       "75%    108.500000   500.590000   77.185000   667.845000   3345.000000   \n",
       "max    160.000000  5048.750000  650.830000  3257.550000  15400.000000   \n",
       "\n",
       "       inflation  life_expec  total_fer         gdpp  Cluster_Id  \n",
       "count  43.000000   43.000000  43.000000    43.000000        43.0  \n",
       "mean    9.508721   59.800000   4.972093  1569.860465         0.0  \n",
       "std     6.623224    4.585588   1.038973  1951.316071         0.0  \n",
       "min     0.885000   46.500000   2.590000   231.000000         0.0  \n",
       "25%     4.010000   56.950000   4.440000   550.000000         0.0  \n",
       "50%     8.790000   59.500000   5.020000   897.000000         0.0  \n",
       "75%    15.050000   62.850000   5.495000  1310.000000         0.0  \n",
       "max    23.600000   68.200000   7.490000  8750.000000         0.0  "
      ]
     },
     "execution_count": 176,
     "metadata": {},
     "output_type": "execute_result"
    }
   ],
   "source": [
    "gdpf_0.describe()"
   ]
  },
  {
   "cell_type": "markdown",
   "metadata": {},
   "source": [
    "Lets shortlist first the countries within this group that have values of 'gdpp', 'income' lower than their mean as described above, and, have 'child_mort' higher than the mean value  "
   ]
  },
  {
   "cell_type": "code",
   "execution_count": 223,
   "metadata": {},
   "outputs": [],
   "source": [
    "gdpfl = gdpf_0[gdpf_0.child_mort >= 86.9]"
   ]
  },
  {
   "cell_type": "code",
   "execution_count": 224,
   "metadata": {},
   "outputs": [],
   "source": [
    "gdpfl = gdpf_0[gdpf_0.gdpp <= 1569.86]"
   ]
  },
  {
   "cell_type": "code",
   "execution_count": 225,
   "metadata": {},
   "outputs": [],
   "source": [
    "gdpfl = gdpf_0[gdpf_0.income <= 3348.49]"
   ]
  },
  {
   "cell_type": "code",
   "execution_count": 226,
   "metadata": {},
   "outputs": [
    {
     "data": {
      "text/plain": [
       "(32, 11)"
      ]
     },
     "execution_count": 226,
     "metadata": {},
     "output_type": "execute_result"
    }
   ],
   "source": [
    "gdpfl.shape"
   ]
  },
  {
   "cell_type": "code",
   "execution_count": 197,
   "metadata": {},
   "outputs": [
    {
     "data": {
      "text/html": [
       "<div>\n",
       "<style scoped>\n",
       "    .dataframe tbody tr th:only-of-type {\n",
       "        vertical-align: middle;\n",
       "    }\n",
       "\n",
       "    .dataframe tbody tr th {\n",
       "        vertical-align: top;\n",
       "    }\n",
       "\n",
       "    .dataframe thead th {\n",
       "        text-align: right;\n",
       "    }\n",
       "</style>\n",
       "<table border=\"1\" class=\"dataframe\">\n",
       "  <thead>\n",
       "    <tr style=\"text-align: right;\">\n",
       "      <th></th>\n",
       "      <th>country</th>\n",
       "      <th>child_mort</th>\n",
       "      <th>exports</th>\n",
       "      <th>health</th>\n",
       "      <th>imports</th>\n",
       "      <th>income</th>\n",
       "      <th>inflation</th>\n",
       "      <th>life_expec</th>\n",
       "      <th>total_fer</th>\n",
       "      <th>gdpp</th>\n",
       "      <th>Cluster_Id</th>\n",
       "    </tr>\n",
       "  </thead>\n",
       "  <tbody>\n",
       "    <tr>\n",
       "      <th>0</th>\n",
       "      <td>Afghanistan</td>\n",
       "      <td>90.2</td>\n",
       "      <td>55.30</td>\n",
       "      <td>41.92</td>\n",
       "      <td>248.30</td>\n",
       "      <td>1610</td>\n",
       "      <td>9.440</td>\n",
       "      <td>56.2</td>\n",
       "      <td>5.82</td>\n",
       "      <td>553</td>\n",
       "      <td>0</td>\n",
       "    </tr>\n",
       "    <tr>\n",
       "      <th>12</th>\n",
       "      <td>Benin</td>\n",
       "      <td>111.0</td>\n",
       "      <td>180.40</td>\n",
       "      <td>31.08</td>\n",
       "      <td>281.98</td>\n",
       "      <td>1820</td>\n",
       "      <td>0.885</td>\n",
       "      <td>61.8</td>\n",
       "      <td>5.36</td>\n",
       "      <td>758</td>\n",
       "      <td>0</td>\n",
       "    </tr>\n",
       "    <tr>\n",
       "      <th>18</th>\n",
       "      <td>Burkina Faso</td>\n",
       "      <td>116.0</td>\n",
       "      <td>110.40</td>\n",
       "      <td>38.76</td>\n",
       "      <td>170.20</td>\n",
       "      <td>1430</td>\n",
       "      <td>6.810</td>\n",
       "      <td>57.9</td>\n",
       "      <td>5.87</td>\n",
       "      <td>575</td>\n",
       "      <td>0</td>\n",
       "    </tr>\n",
       "    <tr>\n",
       "      <th>19</th>\n",
       "      <td>Burundi</td>\n",
       "      <td>93.6</td>\n",
       "      <td>20.61</td>\n",
       "      <td>26.80</td>\n",
       "      <td>90.55</td>\n",
       "      <td>764</td>\n",
       "      <td>12.300</td>\n",
       "      <td>57.7</td>\n",
       "      <td>6.26</td>\n",
       "      <td>231</td>\n",
       "      <td>0</td>\n",
       "    </tr>\n",
       "    <tr>\n",
       "      <th>21</th>\n",
       "      <td>Cameroon</td>\n",
       "      <td>108.0</td>\n",
       "      <td>290.82</td>\n",
       "      <td>67.20</td>\n",
       "      <td>353.70</td>\n",
       "      <td>2660</td>\n",
       "      <td>1.910</td>\n",
       "      <td>57.3</td>\n",
       "      <td>5.11</td>\n",
       "      <td>1310</td>\n",
       "      <td>0</td>\n",
       "    </tr>\n",
       "    <tr>\n",
       "      <th>24</th>\n",
       "      <td>Chad</td>\n",
       "      <td>150.0</td>\n",
       "      <td>330.10</td>\n",
       "      <td>40.63</td>\n",
       "      <td>390.20</td>\n",
       "      <td>1930</td>\n",
       "      <td>6.390</td>\n",
       "      <td>56.5</td>\n",
       "      <td>6.59</td>\n",
       "      <td>897</td>\n",
       "      <td>0</td>\n",
       "    </tr>\n",
       "    <tr>\n",
       "      <th>28</th>\n",
       "      <td>Comoros</td>\n",
       "      <td>88.2</td>\n",
       "      <td>126.88</td>\n",
       "      <td>34.68</td>\n",
       "      <td>397.57</td>\n",
       "      <td>1410</td>\n",
       "      <td>3.870</td>\n",
       "      <td>65.9</td>\n",
       "      <td>4.75</td>\n",
       "      <td>769</td>\n",
       "      <td>0</td>\n",
       "    </tr>\n",
       "    <tr>\n",
       "      <th>29</th>\n",
       "      <td>Congo, Dem. Rep.</td>\n",
       "      <td>116.0</td>\n",
       "      <td>137.27</td>\n",
       "      <td>26.42</td>\n",
       "      <td>165.66</td>\n",
       "      <td>609</td>\n",
       "      <td>20.800</td>\n",
       "      <td>57.5</td>\n",
       "      <td>6.54</td>\n",
       "      <td>334</td>\n",
       "      <td>0</td>\n",
       "    </tr>\n",
       "    <tr>\n",
       "      <th>31</th>\n",
       "      <td>Cote d'Ivoire</td>\n",
       "      <td>111.0</td>\n",
       "      <td>617.32</td>\n",
       "      <td>64.66</td>\n",
       "      <td>528.26</td>\n",
       "      <td>2690</td>\n",
       "      <td>5.390</td>\n",
       "      <td>56.3</td>\n",
       "      <td>5.27</td>\n",
       "      <td>1220</td>\n",
       "      <td>0</td>\n",
       "    </tr>\n",
       "    <tr>\n",
       "      <th>39</th>\n",
       "      <td>Eritrea</td>\n",
       "      <td>55.2</td>\n",
       "      <td>23.09</td>\n",
       "      <td>12.82</td>\n",
       "      <td>112.31</td>\n",
       "      <td>1420</td>\n",
       "      <td>11.600</td>\n",
       "      <td>61.7</td>\n",
       "      <td>4.61</td>\n",
       "      <td>482</td>\n",
       "      <td>0</td>\n",
       "    </tr>\n",
       "    <tr>\n",
       "      <th>45</th>\n",
       "      <td>Gambia</td>\n",
       "      <td>80.3</td>\n",
       "      <td>133.76</td>\n",
       "      <td>31.98</td>\n",
       "      <td>239.97</td>\n",
       "      <td>1660</td>\n",
       "      <td>4.300</td>\n",
       "      <td>65.5</td>\n",
       "      <td>5.71</td>\n",
       "      <td>562</td>\n",
       "      <td>0</td>\n",
       "    </tr>\n",
       "    <tr>\n",
       "      <th>48</th>\n",
       "      <td>Ghana</td>\n",
       "      <td>74.7</td>\n",
       "      <td>386.45</td>\n",
       "      <td>68.38</td>\n",
       "      <td>601.29</td>\n",
       "      <td>3060</td>\n",
       "      <td>16.600</td>\n",
       "      <td>62.2</td>\n",
       "      <td>4.27</td>\n",
       "      <td>1310</td>\n",
       "      <td>0</td>\n",
       "    </tr>\n",
       "    <tr>\n",
       "      <th>52</th>\n",
       "      <td>Guinea</td>\n",
       "      <td>109.0</td>\n",
       "      <td>196.34</td>\n",
       "      <td>31.95</td>\n",
       "      <td>279.94</td>\n",
       "      <td>1190</td>\n",
       "      <td>16.100</td>\n",
       "      <td>58.0</td>\n",
       "      <td>5.34</td>\n",
       "      <td>648</td>\n",
       "      <td>0</td>\n",
       "    </tr>\n",
       "    <tr>\n",
       "      <th>53</th>\n",
       "      <td>Guinea-Bissau</td>\n",
       "      <td>114.0</td>\n",
       "      <td>81.50</td>\n",
       "      <td>46.50</td>\n",
       "      <td>192.54</td>\n",
       "      <td>1390</td>\n",
       "      <td>2.970</td>\n",
       "      <td>55.6</td>\n",
       "      <td>5.05</td>\n",
       "      <td>547</td>\n",
       "      <td>0</td>\n",
       "    </tr>\n",
       "    <tr>\n",
       "      <th>66</th>\n",
       "      <td>Kenya</td>\n",
       "      <td>62.2</td>\n",
       "      <td>200.17</td>\n",
       "      <td>45.93</td>\n",
       "      <td>324.91</td>\n",
       "      <td>2480</td>\n",
       "      <td>2.090</td>\n",
       "      <td>62.8</td>\n",
       "      <td>4.37</td>\n",
       "      <td>967</td>\n",
       "      <td>0</td>\n",
       "    </tr>\n",
       "    <tr>\n",
       "      <th>67</th>\n",
       "      <td>Kiribati</td>\n",
       "      <td>62.7</td>\n",
       "      <td>198.17</td>\n",
       "      <td>168.37</td>\n",
       "      <td>1190.51</td>\n",
       "      <td>1730</td>\n",
       "      <td>1.520</td>\n",
       "      <td>60.7</td>\n",
       "      <td>3.84</td>\n",
       "      <td>1490</td>\n",
       "      <td>0</td>\n",
       "    </tr>\n",
       "    <tr>\n",
       "      <th>71</th>\n",
       "      <td>Lesotho</td>\n",
       "      <td>99.7</td>\n",
       "      <td>460.98</td>\n",
       "      <td>129.87</td>\n",
       "      <td>1181.70</td>\n",
       "      <td>2380</td>\n",
       "      <td>4.150</td>\n",
       "      <td>46.5</td>\n",
       "      <td>3.30</td>\n",
       "      <td>1170</td>\n",
       "      <td>0</td>\n",
       "    </tr>\n",
       "    <tr>\n",
       "      <th>72</th>\n",
       "      <td>Liberia</td>\n",
       "      <td>89.3</td>\n",
       "      <td>62.46</td>\n",
       "      <td>38.59</td>\n",
       "      <td>302.80</td>\n",
       "      <td>700</td>\n",
       "      <td>5.470</td>\n",
       "      <td>60.8</td>\n",
       "      <td>5.02</td>\n",
       "      <td>327</td>\n",
       "      <td>0</td>\n",
       "    </tr>\n",
       "    <tr>\n",
       "      <th>74</th>\n",
       "      <td>Madagascar</td>\n",
       "      <td>62.2</td>\n",
       "      <td>103.25</td>\n",
       "      <td>15.57</td>\n",
       "      <td>177.59</td>\n",
       "      <td>1390</td>\n",
       "      <td>8.790</td>\n",
       "      <td>60.8</td>\n",
       "      <td>4.60</td>\n",
       "      <td>413</td>\n",
       "      <td>0</td>\n",
       "    </tr>\n",
       "    <tr>\n",
       "      <th>75</th>\n",
       "      <td>Malawi</td>\n",
       "      <td>90.5</td>\n",
       "      <td>104.65</td>\n",
       "      <td>30.25</td>\n",
       "      <td>160.19</td>\n",
       "      <td>1030</td>\n",
       "      <td>12.100</td>\n",
       "      <td>53.1</td>\n",
       "      <td>5.31</td>\n",
       "      <td>459</td>\n",
       "      <td>0</td>\n",
       "    </tr>\n",
       "    <tr>\n",
       "      <th>78</th>\n",
       "      <td>Mali</td>\n",
       "      <td>137.0</td>\n",
       "      <td>161.42</td>\n",
       "      <td>35.26</td>\n",
       "      <td>248.51</td>\n",
       "      <td>1870</td>\n",
       "      <td>4.370</td>\n",
       "      <td>59.5</td>\n",
       "      <td>6.55</td>\n",
       "      <td>708</td>\n",
       "      <td>0</td>\n",
       "    </tr>\n",
       "    <tr>\n",
       "      <th>79</th>\n",
       "      <td>Mauritania</td>\n",
       "      <td>97.4</td>\n",
       "      <td>608.40</td>\n",
       "      <td>52.92</td>\n",
       "      <td>734.40</td>\n",
       "      <td>3320</td>\n",
       "      <td>18.900</td>\n",
       "      <td>68.2</td>\n",
       "      <td>4.98</td>\n",
       "      <td>1200</td>\n",
       "      <td>0</td>\n",
       "    </tr>\n",
       "    <tr>\n",
       "      <th>83</th>\n",
       "      <td>Mozambique</td>\n",
       "      <td>101.0</td>\n",
       "      <td>131.99</td>\n",
       "      <td>21.83</td>\n",
       "      <td>193.58</td>\n",
       "      <td>918</td>\n",
       "      <td>7.640</td>\n",
       "      <td>54.5</td>\n",
       "      <td>5.56</td>\n",
       "      <td>419</td>\n",
       "      <td>0</td>\n",
       "    </tr>\n",
       "    <tr>\n",
       "      <th>88</th>\n",
       "      <td>Niger</td>\n",
       "      <td>123.0</td>\n",
       "      <td>77.26</td>\n",
       "      <td>17.96</td>\n",
       "      <td>170.87</td>\n",
       "      <td>814</td>\n",
       "      <td>2.550</td>\n",
       "      <td>58.8</td>\n",
       "      <td>7.49</td>\n",
       "      <td>348</td>\n",
       "      <td>0</td>\n",
       "    </tr>\n",
       "    <tr>\n",
       "      <th>98</th>\n",
       "      <td>Rwanda</td>\n",
       "      <td>63.6</td>\n",
       "      <td>67.56</td>\n",
       "      <td>59.12</td>\n",
       "      <td>168.90</td>\n",
       "      <td>1350</td>\n",
       "      <td>2.610</td>\n",
       "      <td>64.6</td>\n",
       "      <td>4.51</td>\n",
       "      <td>563</td>\n",
       "      <td>0</td>\n",
       "    </tr>\n",
       "    <tr>\n",
       "      <th>100</th>\n",
       "      <td>Senegal</td>\n",
       "      <td>66.8</td>\n",
       "      <td>249.00</td>\n",
       "      <td>56.60</td>\n",
       "      <td>403.00</td>\n",
       "      <td>2180</td>\n",
       "      <td>1.850</td>\n",
       "      <td>64.0</td>\n",
       "      <td>5.06</td>\n",
       "      <td>1000</td>\n",
       "      <td>0</td>\n",
       "    </tr>\n",
       "    <tr>\n",
       "      <th>101</th>\n",
       "      <td>Sierra Leone</td>\n",
       "      <td>160.0</td>\n",
       "      <td>67.03</td>\n",
       "      <td>52.27</td>\n",
       "      <td>137.66</td>\n",
       "      <td>1220</td>\n",
       "      <td>17.200</td>\n",
       "      <td>55.0</td>\n",
       "      <td>5.20</td>\n",
       "      <td>399</td>\n",
       "      <td>0</td>\n",
       "    </tr>\n",
       "    <tr>\n",
       "      <th>104</th>\n",
       "      <td>Solomon Islands</td>\n",
       "      <td>28.1</td>\n",
       "      <td>635.97</td>\n",
       "      <td>110.30</td>\n",
       "      <td>1047.48</td>\n",
       "      <td>1780</td>\n",
       "      <td>6.810</td>\n",
       "      <td>61.7</td>\n",
       "      <td>4.24</td>\n",
       "      <td>1290</td>\n",
       "      <td>0</td>\n",
       "    </tr>\n",
       "    <tr>\n",
       "      <th>113</th>\n",
       "      <td>Tanzania</td>\n",
       "      <td>71.9</td>\n",
       "      <td>131.27</td>\n",
       "      <td>42.19</td>\n",
       "      <td>204.28</td>\n",
       "      <td>2090</td>\n",
       "      <td>9.250</td>\n",
       "      <td>59.3</td>\n",
       "      <td>5.43</td>\n",
       "      <td>702</td>\n",
       "      <td>0</td>\n",
       "    </tr>\n",
       "    <tr>\n",
       "      <th>114</th>\n",
       "      <td>Togo</td>\n",
       "      <td>90.3</td>\n",
       "      <td>196.18</td>\n",
       "      <td>37.33</td>\n",
       "      <td>279.62</td>\n",
       "      <td>1210</td>\n",
       "      <td>1.180</td>\n",
       "      <td>58.7</td>\n",
       "      <td>4.87</td>\n",
       "      <td>488</td>\n",
       "      <td>0</td>\n",
       "    </tr>\n",
       "    <tr>\n",
       "      <th>119</th>\n",
       "      <td>Uganda</td>\n",
       "      <td>81.0</td>\n",
       "      <td>101.74</td>\n",
       "      <td>53.61</td>\n",
       "      <td>170.17</td>\n",
       "      <td>1540</td>\n",
       "      <td>10.600</td>\n",
       "      <td>56.8</td>\n",
       "      <td>6.15</td>\n",
       "      <td>595</td>\n",
       "      <td>0</td>\n",
       "    </tr>\n",
       "    <tr>\n",
       "      <th>126</th>\n",
       "      <td>Zambia</td>\n",
       "      <td>83.1</td>\n",
       "      <td>540.20</td>\n",
       "      <td>85.99</td>\n",
       "      <td>451.14</td>\n",
       "      <td>3280</td>\n",
       "      <td>14.000</td>\n",
       "      <td>52.0</td>\n",
       "      <td>5.40</td>\n",
       "      <td>1460</td>\n",
       "      <td>0</td>\n",
       "    </tr>\n",
       "  </tbody>\n",
       "</table>\n",
       "</div>"
      ],
      "text/plain": [
       "              country  child_mort  exports  health  imports  income  \\\n",
       "0         Afghanistan        90.2    55.30   41.92   248.30    1610   \n",
       "12              Benin       111.0   180.40   31.08   281.98    1820   \n",
       "18       Burkina Faso       116.0   110.40   38.76   170.20    1430   \n",
       "19            Burundi        93.6    20.61   26.80    90.55     764   \n",
       "21           Cameroon       108.0   290.82   67.20   353.70    2660   \n",
       "24               Chad       150.0   330.10   40.63   390.20    1930   \n",
       "28            Comoros        88.2   126.88   34.68   397.57    1410   \n",
       "29   Congo, Dem. Rep.       116.0   137.27   26.42   165.66     609   \n",
       "31      Cote d'Ivoire       111.0   617.32   64.66   528.26    2690   \n",
       "39            Eritrea        55.2    23.09   12.82   112.31    1420   \n",
       "45             Gambia        80.3   133.76   31.98   239.97    1660   \n",
       "48              Ghana        74.7   386.45   68.38   601.29    3060   \n",
       "52             Guinea       109.0   196.34   31.95   279.94    1190   \n",
       "53      Guinea-Bissau       114.0    81.50   46.50   192.54    1390   \n",
       "66              Kenya        62.2   200.17   45.93   324.91    2480   \n",
       "67           Kiribati        62.7   198.17  168.37  1190.51    1730   \n",
       "71            Lesotho        99.7   460.98  129.87  1181.70    2380   \n",
       "72            Liberia        89.3    62.46   38.59   302.80     700   \n",
       "74         Madagascar        62.2   103.25   15.57   177.59    1390   \n",
       "75             Malawi        90.5   104.65   30.25   160.19    1030   \n",
       "78               Mali       137.0   161.42   35.26   248.51    1870   \n",
       "79         Mauritania        97.4   608.40   52.92   734.40    3320   \n",
       "83         Mozambique       101.0   131.99   21.83   193.58     918   \n",
       "88              Niger       123.0    77.26   17.96   170.87     814   \n",
       "98             Rwanda        63.6    67.56   59.12   168.90    1350   \n",
       "100           Senegal        66.8   249.00   56.60   403.00    2180   \n",
       "101      Sierra Leone       160.0    67.03   52.27   137.66    1220   \n",
       "104   Solomon Islands        28.1   635.97  110.30  1047.48    1780   \n",
       "113          Tanzania        71.9   131.27   42.19   204.28    2090   \n",
       "114              Togo        90.3   196.18   37.33   279.62    1210   \n",
       "119            Uganda        81.0   101.74   53.61   170.17    1540   \n",
       "126            Zambia        83.1   540.20   85.99   451.14    3280   \n",
       "\n",
       "     inflation  life_expec  total_fer  gdpp  Cluster_Id  \n",
       "0        9.440        56.2       5.82   553           0  \n",
       "12       0.885        61.8       5.36   758           0  \n",
       "18       6.810        57.9       5.87   575           0  \n",
       "19      12.300        57.7       6.26   231           0  \n",
       "21       1.910        57.3       5.11  1310           0  \n",
       "24       6.390        56.5       6.59   897           0  \n",
       "28       3.870        65.9       4.75   769           0  \n",
       "29      20.800        57.5       6.54   334           0  \n",
       "31       5.390        56.3       5.27  1220           0  \n",
       "39      11.600        61.7       4.61   482           0  \n",
       "45       4.300        65.5       5.71   562           0  \n",
       "48      16.600        62.2       4.27  1310           0  \n",
       "52      16.100        58.0       5.34   648           0  \n",
       "53       2.970        55.6       5.05   547           0  \n",
       "66       2.090        62.8       4.37   967           0  \n",
       "67       1.520        60.7       3.84  1490           0  \n",
       "71       4.150        46.5       3.30  1170           0  \n",
       "72       5.470        60.8       5.02   327           0  \n",
       "74       8.790        60.8       4.60   413           0  \n",
       "75      12.100        53.1       5.31   459           0  \n",
       "78       4.370        59.5       6.55   708           0  \n",
       "79      18.900        68.2       4.98  1200           0  \n",
       "83       7.640        54.5       5.56   419           0  \n",
       "88       2.550        58.8       7.49   348           0  \n",
       "98       2.610        64.6       4.51   563           0  \n",
       "100      1.850        64.0       5.06  1000           0  \n",
       "101     17.200        55.0       5.20   399           0  \n",
       "104      6.810        61.7       4.24  1290           0  \n",
       "113      9.250        59.3       5.43   702           0  \n",
       "114      1.180        58.7       4.87   488           0  \n",
       "119     10.600        56.8       6.15   595           0  \n",
       "126     14.000        52.0       5.40  1460           0  "
      ]
     },
     "execution_count": 197,
     "metadata": {},
     "output_type": "execute_result"
    }
   ],
   "source": [
    "gdpfl"
   ]
  },
  {
   "cell_type": "code",
   "execution_count": 215,
   "metadata": {},
   "outputs": [
    {
     "data": {
      "text/html": [
       "<div>\n",
       "<style scoped>\n",
       "    .dataframe tbody tr th:only-of-type {\n",
       "        vertical-align: middle;\n",
       "    }\n",
       "\n",
       "    .dataframe tbody tr th {\n",
       "        vertical-align: top;\n",
       "    }\n",
       "\n",
       "    .dataframe thead th {\n",
       "        text-align: right;\n",
       "    }\n",
       "</style>\n",
       "<table border=\"1\" class=\"dataframe\">\n",
       "  <thead>\n",
       "    <tr style=\"text-align: right;\">\n",
       "      <th></th>\n",
       "      <th>child_mort</th>\n",
       "      <th>exports</th>\n",
       "      <th>health</th>\n",
       "      <th>imports</th>\n",
       "      <th>income</th>\n",
       "      <th>inflation</th>\n",
       "      <th>life_expec</th>\n",
       "      <th>total_fer</th>\n",
       "      <th>gdpp</th>\n",
       "      <th>Cluster_Id</th>\n",
       "    </tr>\n",
       "  </thead>\n",
       "  <tbody>\n",
       "    <tr>\n",
       "      <th>count</th>\n",
       "      <td>32.000000</td>\n",
       "      <td>32.000000</td>\n",
       "      <td>32.000000</td>\n",
       "      <td>32.000000</td>\n",
       "      <td>32.000000</td>\n",
       "      <td>32.000000</td>\n",
       "      <td>32.000000</td>\n",
       "      <td>32.000000</td>\n",
       "      <td>32.00000</td>\n",
       "      <td>32.0</td>\n",
       "    </tr>\n",
       "    <tr>\n",
       "      <th>mean</th>\n",
       "      <td>93.343750</td>\n",
       "      <td>212.123125</td>\n",
       "      <td>50.554375</td>\n",
       "      <td>362.493125</td>\n",
       "      <td>1716.406250</td>\n",
       "      <td>7.826406</td>\n",
       "      <td>58.996875</td>\n",
       "      <td>5.263438</td>\n",
       "      <td>756.06250</td>\n",
       "      <td>0.0</td>\n",
       "    </tr>\n",
       "    <tr>\n",
       "      <th>std</th>\n",
       "      <td>28.155879</td>\n",
       "      <td>179.714705</td>\n",
       "      <td>33.266689</td>\n",
       "      <td>292.820496</td>\n",
       "      <td>732.826691</td>\n",
       "      <td>5.712774</td>\n",
       "      <td>4.439303</td>\n",
       "      <td>0.873098</td>\n",
       "      <td>371.33716</td>\n",
       "      <td>0.0</td>\n",
       "    </tr>\n",
       "    <tr>\n",
       "      <th>min</th>\n",
       "      <td>28.100000</td>\n",
       "      <td>20.610000</td>\n",
       "      <td>12.820000</td>\n",
       "      <td>90.550000</td>\n",
       "      <td>609.000000</td>\n",
       "      <td>0.885000</td>\n",
       "      <td>46.500000</td>\n",
       "      <td>3.300000</td>\n",
       "      <td>231.00000</td>\n",
       "      <td>0.0</td>\n",
       "    </tr>\n",
       "    <tr>\n",
       "      <th>25%</th>\n",
       "      <td>74.000000</td>\n",
       "      <td>96.680000</td>\n",
       "      <td>31.732500</td>\n",
       "      <td>170.702500</td>\n",
       "      <td>1217.500000</td>\n",
       "      <td>2.880000</td>\n",
       "      <td>56.450000</td>\n",
       "      <td>4.715000</td>\n",
       "      <td>476.25000</td>\n",
       "      <td>0.0</td>\n",
       "    </tr>\n",
       "    <tr>\n",
       "      <th>50%</th>\n",
       "      <td>90.400000</td>\n",
       "      <td>135.515000</td>\n",
       "      <td>41.275000</td>\n",
       "      <td>264.065000</td>\n",
       "      <td>1575.000000</td>\n",
       "      <td>6.600000</td>\n",
       "      <td>58.750000</td>\n",
       "      <td>5.235000</td>\n",
       "      <td>621.50000</td>\n",
       "      <td>0.0</td>\n",
       "    </tr>\n",
       "    <tr>\n",
       "      <th>75%</th>\n",
       "      <td>111.000000</td>\n",
       "      <td>259.455000</td>\n",
       "      <td>57.230000</td>\n",
       "      <td>398.927500</td>\n",
       "      <td>2112.500000</td>\n",
       "      <td>11.725000</td>\n",
       "      <td>61.725000</td>\n",
       "      <td>5.737500</td>\n",
       "      <td>1042.50000</td>\n",
       "      <td>0.0</td>\n",
       "    </tr>\n",
       "    <tr>\n",
       "      <th>max</th>\n",
       "      <td>160.000000</td>\n",
       "      <td>635.970000</td>\n",
       "      <td>168.370000</td>\n",
       "      <td>1190.510000</td>\n",
       "      <td>3320.000000</td>\n",
       "      <td>20.800000</td>\n",
       "      <td>68.200000</td>\n",
       "      <td>7.490000</td>\n",
       "      <td>1490.00000</td>\n",
       "      <td>0.0</td>\n",
       "    </tr>\n",
       "  </tbody>\n",
       "</table>\n",
       "</div>"
      ],
      "text/plain": [
       "       child_mort     exports      health      imports       income  \\\n",
       "count   32.000000   32.000000   32.000000    32.000000    32.000000   \n",
       "mean    93.343750  212.123125   50.554375   362.493125  1716.406250   \n",
       "std     28.155879  179.714705   33.266689   292.820496   732.826691   \n",
       "min     28.100000   20.610000   12.820000    90.550000   609.000000   \n",
       "25%     74.000000   96.680000   31.732500   170.702500  1217.500000   \n",
       "50%     90.400000  135.515000   41.275000   264.065000  1575.000000   \n",
       "75%    111.000000  259.455000   57.230000   398.927500  2112.500000   \n",
       "max    160.000000  635.970000  168.370000  1190.510000  3320.000000   \n",
       "\n",
       "       inflation  life_expec  total_fer        gdpp  Cluster_Id  \n",
       "count  32.000000   32.000000  32.000000    32.00000        32.0  \n",
       "mean    7.826406   58.996875   5.263438   756.06250         0.0  \n",
       "std     5.712774    4.439303   0.873098   371.33716         0.0  \n",
       "min     0.885000   46.500000   3.300000   231.00000         0.0  \n",
       "25%     2.880000   56.450000   4.715000   476.25000         0.0  \n",
       "50%     6.600000   58.750000   5.235000   621.50000         0.0  \n",
       "75%    11.725000   61.725000   5.737500  1042.50000         0.0  \n",
       "max    20.800000   68.200000   7.490000  1490.00000         0.0  "
      ]
     },
     "execution_count": 215,
     "metadata": {},
     "output_type": "execute_result"
    }
   ],
   "source": [
    "gdpfl.describe()"
   ]
  },
  {
   "cell_type": "markdown",
   "metadata": {},
   "source": [
    "Boxplot analysis of 'child_mort', 'income' and 'gdpp' to visulaize whether any outliers can be removed to further filter the countries "
   ]
  },
  {
   "cell_type": "code",
   "execution_count": 199,
   "metadata": {},
   "outputs": [
    {
     "data": {
      "text/plain": [
       "{'whiskers': [<matplotlib.lines.Line2D at 0x263ebc34f98>,\n",
       "  <matplotlib.lines.Line2D at 0x263ebc3d320>],\n",
       " 'caps': [<matplotlib.lines.Line2D at 0x263ebc3d668>,\n",
       "  <matplotlib.lines.Line2D at 0x263ebc3d9b0>],\n",
       " 'boxes': [<matplotlib.lines.Line2D at 0x263ebc1fef0>],\n",
       " 'medians': [<matplotlib.lines.Line2D at 0x263ebc3dcf8>],\n",
       " 'fliers': [<matplotlib.lines.Line2D at 0x263ebc3ddd8>],\n",
       " 'means': []}"
      ]
     },
     "execution_count": 199,
     "metadata": {},
     "output_type": "execute_result"
    },
    {
     "data": {
      "image/png": "[encoded data removed]",
      "text/plain": [
       "<Figure size 432x288 with 1 Axes>"
      ]
     },
     "metadata": {
      "needs_background": "light"
     },
     "output_type": "display_data"
    }
   ],
   "source": [
    "plt.boxplot(gdpfl.child_mort)"
   ]
  },
  {
   "cell_type": "code",
   "execution_count": 201,
   "metadata": {},
   "outputs": [
    {
     "data": {
      "text/plain": [
       "{'whiskers': [<matplotlib.lines.Line2D at 0x263ebcdfd30>,\n",
       "  <matplotlib.lines.Line2D at 0x263ebceb390>],\n",
       " 'caps': [<matplotlib.lines.Line2D at 0x263ebceb6d8>,\n",
       "  <matplotlib.lines.Line2D at 0x263ebceba20>],\n",
       " 'boxes': [<matplotlib.lines.Line2D at 0x263ebcdfbe0>],\n",
       " 'medians': [<matplotlib.lines.Line2D at 0x263ebcebd68>],\n",
       " 'fliers': [<matplotlib.lines.Line2D at 0x263ebcebe48>],\n",
       " 'means': []}"
      ]
     },
     "execution_count": 201,
     "metadata": {},
     "output_type": "execute_result"
    },
    {
     "data": {
      "image/png": "[encoded data removed]",
      "text/plain": [
       "<Figure size 432x288 with 1 Axes>"
      ]
     },
     "metadata": {
      "needs_background": "light"
     },
     "output_type": "display_data"
    }
   ],
   "source": [
    "plt.boxplot(gdpfl.income)"
   ]
  },
  {
   "cell_type": "code",
   "execution_count": 188,
   "metadata": {},
   "outputs": [
    {
     "data": {
      "text/plain": [
       "{'whiskers': [<matplotlib.lines.Line2D at 0x263ebbd5400>,\n",
       "  <matplotlib.lines.Line2D at 0x263ebbd5748>],\n",
       " 'caps': [<matplotlib.lines.Line2D at 0x263ebbd5a90>,\n",
       "  <matplotlib.lines.Line2D at 0x263ebbd5dd8>],\n",
       " 'boxes': [<matplotlib.lines.Line2D at 0x263ebbcbf98>],\n",
       " 'medians': [<matplotlib.lines.Line2D at 0x263ebbd5eb8>],\n",
       " 'fliers': [<matplotlib.lines.Line2D at 0x263ebbdf4a8>],\n",
       " 'means': []}"
      ]
     },
     "execution_count": 188,
     "metadata": {},
     "output_type": "execute_result"
    },
    {
     "data": {
      "image/png": "[encoded data removed]",
      "text/plain": [
       "<Figure size 432x288 with 1 Axes>"
      ]
     },
     "metadata": {
      "needs_background": "light"
     },
     "output_type": "display_data"
    }
   ],
   "source": [
    "plt.boxplot(gdpfl.gdpp)"
   ]
  },
  {
   "cell_type": "markdown",
   "metadata": {},
   "source": [
    "There seems to be no outliers for the three main variables. \n",
    "Will filter based on 'total_fer' being greater than the mean and 'income' being lower than the mean. This is because such countries would have the most number of children with parental income being lowest and therefore, would require financial aid most urgently"
   ]
  },
  {
   "cell_type": "code",
   "execution_count": 227,
   "metadata": {},
   "outputs": [],
   "source": [
    "gdpfl = gdpfl[gdpfl.income <= 1716.41]"
   ]
  },
  {
   "cell_type": "code",
   "execution_count": 228,
   "metadata": {},
   "outputs": [],
   "source": [
    "gdpfl = gdpfl[gdpfl.total_fer >= 5]"
   ]
  },
  {
   "cell_type": "code",
   "execution_count": 229,
   "metadata": {},
   "outputs": [
    {
     "data": {
      "text/html": [
       "<div>\n",
       "<style scoped>\n",
       "    .dataframe tbody tr th:only-of-type {\n",
       "        vertical-align: middle;\n",
       "    }\n",
       "\n",
       "    .dataframe tbody tr th {\n",
       "        vertical-align: top;\n",
       "    }\n",
       "\n",
       "    .dataframe thead th {\n",
       "        text-align: right;\n",
       "    }\n",
       "</style>\n",
       "<table border=\"1\" class=\"dataframe\">\n",
       "  <thead>\n",
       "    <tr style=\"text-align: right;\">\n",
       "      <th></th>\n",
       "      <th>country</th>\n",
       "      <th>child_mort</th>\n",
       "      <th>exports</th>\n",
       "      <th>health</th>\n",
       "      <th>imports</th>\n",
       "      <th>income</th>\n",
       "      <th>inflation</th>\n",
       "      <th>life_expec</th>\n",
       "      <th>total_fer</th>\n",
       "      <th>gdpp</th>\n",
       "      <th>Cluster_Id</th>\n",
       "    </tr>\n",
       "  </thead>\n",
       "  <tbody>\n",
       "    <tr>\n",
       "      <th>0</th>\n",
       "      <td>Afghanistan</td>\n",
       "      <td>90.2</td>\n",
       "      <td>55.30</td>\n",
       "      <td>41.92</td>\n",
       "      <td>248.30</td>\n",
       "      <td>1610</td>\n",
       "      <td>9.44</td>\n",
       "      <td>56.2</td>\n",
       "      <td>5.82</td>\n",
       "      <td>553</td>\n",
       "      <td>0</td>\n",
       "    </tr>\n",
       "    <tr>\n",
       "      <th>18</th>\n",
       "      <td>Burkina Faso</td>\n",
       "      <td>116.0</td>\n",
       "      <td>110.40</td>\n",
       "      <td>38.76</td>\n",
       "      <td>170.20</td>\n",
       "      <td>1430</td>\n",
       "      <td>6.81</td>\n",
       "      <td>57.9</td>\n",
       "      <td>5.87</td>\n",
       "      <td>575</td>\n",
       "      <td>0</td>\n",
       "    </tr>\n",
       "    <tr>\n",
       "      <th>19</th>\n",
       "      <td>Burundi</td>\n",
       "      <td>93.6</td>\n",
       "      <td>20.61</td>\n",
       "      <td>26.80</td>\n",
       "      <td>90.55</td>\n",
       "      <td>764</td>\n",
       "      <td>12.30</td>\n",
       "      <td>57.7</td>\n",
       "      <td>6.26</td>\n",
       "      <td>231</td>\n",
       "      <td>0</td>\n",
       "    </tr>\n",
       "    <tr>\n",
       "      <th>29</th>\n",
       "      <td>Congo, Dem. Rep.</td>\n",
       "      <td>116.0</td>\n",
       "      <td>137.27</td>\n",
       "      <td>26.42</td>\n",
       "      <td>165.66</td>\n",
       "      <td>609</td>\n",
       "      <td>20.80</td>\n",
       "      <td>57.5</td>\n",
       "      <td>6.54</td>\n",
       "      <td>334</td>\n",
       "      <td>0</td>\n",
       "    </tr>\n",
       "    <tr>\n",
       "      <th>45</th>\n",
       "      <td>Gambia</td>\n",
       "      <td>80.3</td>\n",
       "      <td>133.76</td>\n",
       "      <td>31.98</td>\n",
       "      <td>239.97</td>\n",
       "      <td>1660</td>\n",
       "      <td>4.30</td>\n",
       "      <td>65.5</td>\n",
       "      <td>5.71</td>\n",
       "      <td>562</td>\n",
       "      <td>0</td>\n",
       "    </tr>\n",
       "    <tr>\n",
       "      <th>52</th>\n",
       "      <td>Guinea</td>\n",
       "      <td>109.0</td>\n",
       "      <td>196.34</td>\n",
       "      <td>31.95</td>\n",
       "      <td>279.94</td>\n",
       "      <td>1190</td>\n",
       "      <td>16.10</td>\n",
       "      <td>58.0</td>\n",
       "      <td>5.34</td>\n",
       "      <td>648</td>\n",
       "      <td>0</td>\n",
       "    </tr>\n",
       "    <tr>\n",
       "      <th>53</th>\n",
       "      <td>Guinea-Bissau</td>\n",
       "      <td>114.0</td>\n",
       "      <td>81.50</td>\n",
       "      <td>46.50</td>\n",
       "      <td>192.54</td>\n",
       "      <td>1390</td>\n",
       "      <td>2.97</td>\n",
       "      <td>55.6</td>\n",
       "      <td>5.05</td>\n",
       "      <td>547</td>\n",
       "      <td>0</td>\n",
       "    </tr>\n",
       "    <tr>\n",
       "      <th>72</th>\n",
       "      <td>Liberia</td>\n",
       "      <td>89.3</td>\n",
       "      <td>62.46</td>\n",
       "      <td>38.59</td>\n",
       "      <td>302.80</td>\n",
       "      <td>700</td>\n",
       "      <td>5.47</td>\n",
       "      <td>60.8</td>\n",
       "      <td>5.02</td>\n",
       "      <td>327</td>\n",
       "      <td>0</td>\n",
       "    </tr>\n",
       "    <tr>\n",
       "      <th>75</th>\n",
       "      <td>Malawi</td>\n",
       "      <td>90.5</td>\n",
       "      <td>104.65</td>\n",
       "      <td>30.25</td>\n",
       "      <td>160.19</td>\n",
       "      <td>1030</td>\n",
       "      <td>12.10</td>\n",
       "      <td>53.1</td>\n",
       "      <td>5.31</td>\n",
       "      <td>459</td>\n",
       "      <td>0</td>\n",
       "    </tr>\n",
       "    <tr>\n",
       "      <th>83</th>\n",
       "      <td>Mozambique</td>\n",
       "      <td>101.0</td>\n",
       "      <td>131.99</td>\n",
       "      <td>21.83</td>\n",
       "      <td>193.58</td>\n",
       "      <td>918</td>\n",
       "      <td>7.64</td>\n",
       "      <td>54.5</td>\n",
       "      <td>5.56</td>\n",
       "      <td>419</td>\n",
       "      <td>0</td>\n",
       "    </tr>\n",
       "    <tr>\n",
       "      <th>88</th>\n",
       "      <td>Niger</td>\n",
       "      <td>123.0</td>\n",
       "      <td>77.26</td>\n",
       "      <td>17.96</td>\n",
       "      <td>170.87</td>\n",
       "      <td>814</td>\n",
       "      <td>2.55</td>\n",
       "      <td>58.8</td>\n",
       "      <td>7.49</td>\n",
       "      <td>348</td>\n",
       "      <td>0</td>\n",
       "    </tr>\n",
       "    <tr>\n",
       "      <th>101</th>\n",
       "      <td>Sierra Leone</td>\n",
       "      <td>160.0</td>\n",
       "      <td>67.03</td>\n",
       "      <td>52.27</td>\n",
       "      <td>137.66</td>\n",
       "      <td>1220</td>\n",
       "      <td>17.20</td>\n",
       "      <td>55.0</td>\n",
       "      <td>5.20</td>\n",
       "      <td>399</td>\n",
       "      <td>0</td>\n",
       "    </tr>\n",
       "    <tr>\n",
       "      <th>119</th>\n",
       "      <td>Uganda</td>\n",
       "      <td>81.0</td>\n",
       "      <td>101.74</td>\n",
       "      <td>53.61</td>\n",
       "      <td>170.17</td>\n",
       "      <td>1540</td>\n",
       "      <td>10.60</td>\n",
       "      <td>56.8</td>\n",
       "      <td>6.15</td>\n",
       "      <td>595</td>\n",
       "      <td>0</td>\n",
       "    </tr>\n",
       "  </tbody>\n",
       "</table>\n",
       "</div>"
      ],
      "text/plain": [
       "              country  child_mort  exports  health  imports  income  \\\n",
       "0         Afghanistan        90.2    55.30   41.92   248.30    1610   \n",
       "18       Burkina Faso       116.0   110.40   38.76   170.20    1430   \n",
       "19            Burundi        93.6    20.61   26.80    90.55     764   \n",
       "29   Congo, Dem. Rep.       116.0   137.27   26.42   165.66     609   \n",
       "45             Gambia        80.3   133.76   31.98   239.97    1660   \n",
       "52             Guinea       109.0   196.34   31.95   279.94    1190   \n",
       "53      Guinea-Bissau       114.0    81.50   46.50   192.54    1390   \n",
       "72            Liberia        89.3    62.46   38.59   302.80     700   \n",
       "75             Malawi        90.5   104.65   30.25   160.19    1030   \n",
       "83         Mozambique       101.0   131.99   21.83   193.58     918   \n",
       "88              Niger       123.0    77.26   17.96   170.87     814   \n",
       "101      Sierra Leone       160.0    67.03   52.27   137.66    1220   \n",
       "119            Uganda        81.0   101.74   53.61   170.17    1540   \n",
       "\n",
       "     inflation  life_expec  total_fer  gdpp  Cluster_Id  \n",
       "0         9.44        56.2       5.82   553           0  \n",
       "18        6.81        57.9       5.87   575           0  \n",
       "19       12.30        57.7       6.26   231           0  \n",
       "29       20.80        57.5       6.54   334           0  \n",
       "45        4.30        65.5       5.71   562           0  \n",
       "52       16.10        58.0       5.34   648           0  \n",
       "53        2.97        55.6       5.05   547           0  \n",
       "72        5.47        60.8       5.02   327           0  \n",
       "75       12.10        53.1       5.31   459           0  \n",
       "83        7.64        54.5       5.56   419           0  \n",
       "88        2.55        58.8       7.49   348           0  \n",
       "101      17.20        55.0       5.20   399           0  \n",
       "119      10.60        56.8       6.15   595           0  "
      ]
     },
     "execution_count": 229,
     "metadata": {},
     "output_type": "execute_result"
    }
   ],
   "source": [
    "gdpfl"
   ]
  },
  {
   "cell_type": "code",
   "execution_count": 231,
   "metadata": {},
   "outputs": [
    {
     "data": {
      "text/html": [
       "<div>\n",
       "<style scoped>\n",
       "    .dataframe tbody tr th:only-of-type {\n",
       "        vertical-align: middle;\n",
       "    }\n",
       "\n",
       "    .dataframe tbody tr th {\n",
       "        vertical-align: top;\n",
       "    }\n",
       "\n",
       "    .dataframe thead th {\n",
       "        text-align: right;\n",
       "    }\n",
       "</style>\n",
       "<table border=\"1\" class=\"dataframe\">\n",
       "  <thead>\n",
       "    <tr style=\"text-align: right;\">\n",
       "      <th></th>\n",
       "      <th>child_mort</th>\n",
       "      <th>exports</th>\n",
       "      <th>health</th>\n",
       "      <th>imports</th>\n",
       "      <th>income</th>\n",
       "      <th>inflation</th>\n",
       "      <th>life_expec</th>\n",
       "      <th>total_fer</th>\n",
       "      <th>gdpp</th>\n",
       "      <th>Cluster_Id</th>\n",
       "    </tr>\n",
       "  </thead>\n",
       "  <tbody>\n",
       "    <tr>\n",
       "      <th>count</th>\n",
       "      <td>13.000000</td>\n",
       "      <td>13.000000</td>\n",
       "      <td>13.000000</td>\n",
       "      <td>13.000000</td>\n",
       "      <td>13.000000</td>\n",
       "      <td>13.000000</td>\n",
       "      <td>13.000000</td>\n",
       "      <td>13.000000</td>\n",
       "      <td>13.000000</td>\n",
       "      <td>13.0</td>\n",
       "    </tr>\n",
       "    <tr>\n",
       "      <th>mean</th>\n",
       "      <td>104.915385</td>\n",
       "      <td>98.485385</td>\n",
       "      <td>35.295385</td>\n",
       "      <td>194.033077</td>\n",
       "      <td>1144.230769</td>\n",
       "      <td>9.867692</td>\n",
       "      <td>57.492308</td>\n",
       "      <td>5.793846</td>\n",
       "      <td>461.307692</td>\n",
       "      <td>0.0</td>\n",
       "    </tr>\n",
       "    <tr>\n",
       "      <th>std</th>\n",
       "      <td>21.786343</td>\n",
       "      <td>45.270507</td>\n",
       "      <td>11.166412</td>\n",
       "      <td>59.004819</td>\n",
       "      <td>364.138745</td>\n",
       "      <td>5.697339</td>\n",
       "      <td>3.128221</td>\n",
       "      <td>0.694677</td>\n",
       "      <td>128.240259</td>\n",
       "      <td>0.0</td>\n",
       "    </tr>\n",
       "    <tr>\n",
       "      <th>min</th>\n",
       "      <td>80.300000</td>\n",
       "      <td>20.610000</td>\n",
       "      <td>17.960000</td>\n",
       "      <td>90.550000</td>\n",
       "      <td>609.000000</td>\n",
       "      <td>2.550000</td>\n",
       "      <td>53.100000</td>\n",
       "      <td>5.020000</td>\n",
       "      <td>231.000000</td>\n",
       "      <td>0.0</td>\n",
       "    </tr>\n",
       "    <tr>\n",
       "      <th>25%</th>\n",
       "      <td>90.200000</td>\n",
       "      <td>67.030000</td>\n",
       "      <td>26.800000</td>\n",
       "      <td>165.660000</td>\n",
       "      <td>814.000000</td>\n",
       "      <td>5.470000</td>\n",
       "      <td>55.600000</td>\n",
       "      <td>5.310000</td>\n",
       "      <td>348.000000</td>\n",
       "      <td>0.0</td>\n",
       "    </tr>\n",
       "    <tr>\n",
       "      <th>50%</th>\n",
       "      <td>101.000000</td>\n",
       "      <td>101.740000</td>\n",
       "      <td>31.980000</td>\n",
       "      <td>170.870000</td>\n",
       "      <td>1190.000000</td>\n",
       "      <td>9.440000</td>\n",
       "      <td>57.500000</td>\n",
       "      <td>5.710000</td>\n",
       "      <td>459.000000</td>\n",
       "      <td>0.0</td>\n",
       "    </tr>\n",
       "    <tr>\n",
       "      <th>75%</th>\n",
       "      <td>116.000000</td>\n",
       "      <td>131.990000</td>\n",
       "      <td>41.920000</td>\n",
       "      <td>239.970000</td>\n",
       "      <td>1430.000000</td>\n",
       "      <td>12.300000</td>\n",
       "      <td>58.000000</td>\n",
       "      <td>6.150000</td>\n",
       "      <td>562.000000</td>\n",
       "      <td>0.0</td>\n",
       "    </tr>\n",
       "    <tr>\n",
       "      <th>max</th>\n",
       "      <td>160.000000</td>\n",
       "      <td>196.340000</td>\n",
       "      <td>53.610000</td>\n",
       "      <td>302.800000</td>\n",
       "      <td>1660.000000</td>\n",
       "      <td>20.800000</td>\n",
       "      <td>65.500000</td>\n",
       "      <td>7.490000</td>\n",
       "      <td>648.000000</td>\n",
       "      <td>0.0</td>\n",
       "    </tr>\n",
       "  </tbody>\n",
       "</table>\n",
       "</div>"
      ],
      "text/plain": [
       "       child_mort     exports     health     imports       income  inflation  \\\n",
       "count   13.000000   13.000000  13.000000   13.000000    13.000000  13.000000   \n",
       "mean   104.915385   98.485385  35.295385  194.033077  1144.230769   9.867692   \n",
       "std     21.786343   45.270507  11.166412   59.004819   364.138745   5.697339   \n",
       "min     80.300000   20.610000  17.960000   90.550000   609.000000   2.550000   \n",
       "25%     90.200000   67.030000  26.800000  165.660000   814.000000   5.470000   \n",
       "50%    101.000000  101.740000  31.980000  170.870000  1190.000000   9.440000   \n",
       "75%    116.000000  131.990000  41.920000  239.970000  1430.000000  12.300000   \n",
       "max    160.000000  196.340000  53.610000  302.800000  1660.000000  20.800000   \n",
       "\n",
       "       life_expec  total_fer        gdpp  Cluster_Id  \n",
       "count   13.000000  13.000000   13.000000        13.0  \n",
       "mean    57.492308   5.793846  461.307692         0.0  \n",
       "std      3.128221   0.694677  128.240259         0.0  \n",
       "min     53.100000   5.020000  231.000000         0.0  \n",
       "25%     55.600000   5.310000  348.000000         0.0  \n",
       "50%     57.500000   5.710000  459.000000         0.0  \n",
       "75%     58.000000   6.150000  562.000000         0.0  \n",
       "max     65.500000   7.490000  648.000000         0.0  "
      ]
     },
     "execution_count": 231,
     "metadata": {},
     "output_type": "execute_result"
    }
   ],
   "source": [
    "gdpfl.describe()"
   ]
  },
  {
   "cell_type": "markdown",
   "metadata": {},
   "source": [
    "We can still filter countries further based on 'child_mort' to reduce the list that would consist of countries that are in dire need of funds. The 'income' and 'gdpp' are too low for all the countries so not fair to reduce the list of primary candidates for aid based these parameters "
   ]
  },
  {
   "cell_type": "code",
   "execution_count": 232,
   "metadata": {},
   "outputs": [],
   "source": [
    "gdpfl = gdpfl[gdpfl.child_mort >= 105]"
   ]
  },
  {
   "cell_type": "code",
   "execution_count": 233,
   "metadata": {},
   "outputs": [
    {
     "data": {
      "text/html": [
       "<div>\n",
       "<style scoped>\n",
       "    .dataframe tbody tr th:only-of-type {\n",
       "        vertical-align: middle;\n",
       "    }\n",
       "\n",
       "    .dataframe tbody tr th {\n",
       "        vertical-align: top;\n",
       "    }\n",
       "\n",
       "    .dataframe thead th {\n",
       "        text-align: right;\n",
       "    }\n",
       "</style>\n",
       "<table border=\"1\" class=\"dataframe\">\n",
       "  <thead>\n",
       "    <tr style=\"text-align: right;\">\n",
       "      <th></th>\n",
       "      <th>country</th>\n",
       "      <th>child_mort</th>\n",
       "      <th>exports</th>\n",
       "      <th>health</th>\n",
       "      <th>imports</th>\n",
       "      <th>income</th>\n",
       "      <th>inflation</th>\n",
       "      <th>life_expec</th>\n",
       "      <th>total_fer</th>\n",
       "      <th>gdpp</th>\n",
       "      <th>Cluster_Id</th>\n",
       "    </tr>\n",
       "  </thead>\n",
       "  <tbody>\n",
       "    <tr>\n",
       "      <th>18</th>\n",
       "      <td>Burkina Faso</td>\n",
       "      <td>116.0</td>\n",
       "      <td>110.40</td>\n",
       "      <td>38.76</td>\n",
       "      <td>170.20</td>\n",
       "      <td>1430</td>\n",
       "      <td>6.81</td>\n",
       "      <td>57.9</td>\n",
       "      <td>5.87</td>\n",
       "      <td>575</td>\n",
       "      <td>0</td>\n",
       "    </tr>\n",
       "    <tr>\n",
       "      <th>29</th>\n",
       "      <td>Congo, Dem. Rep.</td>\n",
       "      <td>116.0</td>\n",
       "      <td>137.27</td>\n",
       "      <td>26.42</td>\n",
       "      <td>165.66</td>\n",
       "      <td>609</td>\n",
       "      <td>20.80</td>\n",
       "      <td>57.5</td>\n",
       "      <td>6.54</td>\n",
       "      <td>334</td>\n",
       "      <td>0</td>\n",
       "    </tr>\n",
       "    <tr>\n",
       "      <th>52</th>\n",
       "      <td>Guinea</td>\n",
       "      <td>109.0</td>\n",
       "      <td>196.34</td>\n",
       "      <td>31.95</td>\n",
       "      <td>279.94</td>\n",
       "      <td>1190</td>\n",
       "      <td>16.10</td>\n",
       "      <td>58.0</td>\n",
       "      <td>5.34</td>\n",
       "      <td>648</td>\n",
       "      <td>0</td>\n",
       "    </tr>\n",
       "    <tr>\n",
       "      <th>53</th>\n",
       "      <td>Guinea-Bissau</td>\n",
       "      <td>114.0</td>\n",
       "      <td>81.50</td>\n",
       "      <td>46.50</td>\n",
       "      <td>192.54</td>\n",
       "      <td>1390</td>\n",
       "      <td>2.97</td>\n",
       "      <td>55.6</td>\n",
       "      <td>5.05</td>\n",
       "      <td>547</td>\n",
       "      <td>0</td>\n",
       "    </tr>\n",
       "    <tr>\n",
       "      <th>88</th>\n",
       "      <td>Niger</td>\n",
       "      <td>123.0</td>\n",
       "      <td>77.26</td>\n",
       "      <td>17.96</td>\n",
       "      <td>170.87</td>\n",
       "      <td>814</td>\n",
       "      <td>2.55</td>\n",
       "      <td>58.8</td>\n",
       "      <td>7.49</td>\n",
       "      <td>348</td>\n",
       "      <td>0</td>\n",
       "    </tr>\n",
       "    <tr>\n",
       "      <th>101</th>\n",
       "      <td>Sierra Leone</td>\n",
       "      <td>160.0</td>\n",
       "      <td>67.03</td>\n",
       "      <td>52.27</td>\n",
       "      <td>137.66</td>\n",
       "      <td>1220</td>\n",
       "      <td>17.20</td>\n",
       "      <td>55.0</td>\n",
       "      <td>5.20</td>\n",
       "      <td>399</td>\n",
       "      <td>0</td>\n",
       "    </tr>\n",
       "  </tbody>\n",
       "</table>\n",
       "</div>"
      ],
      "text/plain": [
       "              country  child_mort  exports  health  imports  income  \\\n",
       "18       Burkina Faso       116.0   110.40   38.76   170.20    1430   \n",
       "29   Congo, Dem. Rep.       116.0   137.27   26.42   165.66     609   \n",
       "52             Guinea       109.0   196.34   31.95   279.94    1190   \n",
       "53      Guinea-Bissau       114.0    81.50   46.50   192.54    1390   \n",
       "88              Niger       123.0    77.26   17.96   170.87     814   \n",
       "101      Sierra Leone       160.0    67.03   52.27   137.66    1220   \n",
       "\n",
       "     inflation  life_expec  total_fer  gdpp  Cluster_Id  \n",
       "18        6.81        57.9       5.87   575           0  \n",
       "29       20.80        57.5       6.54   334           0  \n",
       "52       16.10        58.0       5.34   648           0  \n",
       "53        2.97        55.6       5.05   547           0  \n",
       "88        2.55        58.8       7.49   348           0  \n",
       "101      17.20        55.0       5.20   399           0  "
      ]
     },
     "execution_count": 233,
     "metadata": {},
     "output_type": "execute_result"
    }
   ],
   "source": [
    "gdpfl"
   ]
  },
  {
   "cell_type": "code",
   "execution_count": 238,
   "metadata": {},
   "outputs": [],
   "source": [
    "list1 = list(gdpfl.country)"
   ]
  },
  {
   "cell_type": "code",
   "execution_count": 240,
   "metadata": {},
   "outputs": [
    {
     "name": "stdout",
     "output_type": "stream",
     "text": [
      "The list of countries that need the aid most are  ['Burkina Faso', 'Congo, Dem. Rep.', 'Guinea', 'Guinea-Bissau', 'Niger', 'Sierra Leone']\n"
     ]
    }
   ],
   "source": [
    "print(\"The list of countries that need the aid most are \",list1)"
   ]
  },
  {
   "cell_type": "markdown",
   "metadata": {},
   "source": [
    "Clustering by Hierarchical Clustering\n",
    "We have already reduced the dimensions using PCA and checked via high 'hopkins' score that dataset 'gdpcadk' is good for clustering\n",
    "Therefore, will straightaway use the Hierarchical Clustering model (single linkage and complete linkage) to calculate the clusters  "
   ]
  },
  {
   "cell_type": "code",
   "execution_count": 241,
   "metadata": {},
   "outputs": [
    {
     "data": {
      "text/html": [
       "<div>\n",
       "<style scoped>\n",
       "    .dataframe tbody tr th:only-of-type {\n",
       "        vertical-align: middle;\n",
       "    }\n",
       "\n",
       "    .dataframe tbody tr th {\n",
       "        vertical-align: top;\n",
       "    }\n",
       "\n",
       "    .dataframe thead th {\n",
       "        text-align: right;\n",
       "    }\n",
       "</style>\n",
       "<table border=\"1\" class=\"dataframe\">\n",
       "  <thead>\n",
       "    <tr style=\"text-align: right;\">\n",
       "      <th></th>\n",
       "      <th>PC1</th>\n",
       "      <th>PC2</th>\n",
       "      <th>PC3</th>\n",
       "      <th>PC4</th>\n",
       "      <th>PC5</th>\n",
       "    </tr>\n",
       "  </thead>\n",
       "  <tbody>\n",
       "    <tr>\n",
       "      <th>0</th>\n",
       "      <td>-2.635574</td>\n",
       "      <td>1.472268</td>\n",
       "      <td>-0.549489</td>\n",
       "      <td>-0.242326</td>\n",
       "      <td>0.023529</td>\n",
       "    </tr>\n",
       "    <tr>\n",
       "      <th>1</th>\n",
       "      <td>-0.459558</td>\n",
       "      <td>-0.675496</td>\n",
       "      <td>0.959355</td>\n",
       "      <td>0.218456</td>\n",
       "      <td>-0.113276</td>\n",
       "    </tr>\n",
       "    <tr>\n",
       "      <th>2</th>\n",
       "      <td>-2.722631</td>\n",
       "      <td>2.172331</td>\n",
       "      <td>0.600215</td>\n",
       "      <td>-0.433976</td>\n",
       "      <td>0.005434</td>\n",
       "    </tr>\n",
       "    <tr>\n",
       "      <th>3</th>\n",
       "      <td>0.648597</td>\n",
       "      <td>-1.023437</td>\n",
       "      <td>-0.257430</td>\n",
       "      <td>0.289201</td>\n",
       "      <td>0.072694</td>\n",
       "    </tr>\n",
       "    <tr>\n",
       "      <th>4</th>\n",
       "      <td>-0.334555</td>\n",
       "      <td>-1.271889</td>\n",
       "      <td>0.190564</td>\n",
       "      <td>0.500247</td>\n",
       "      <td>-0.205703</td>\n",
       "    </tr>\n",
       "  </tbody>\n",
       "</table>\n",
       "</div>"
      ],
      "text/plain": [
       "        PC1       PC2       PC3       PC4       PC5\n",
       "0 -2.635574  1.472268 -0.549489 -0.242326  0.023529\n",
       "1 -0.459558 -0.675496  0.959355  0.218456 -0.113276\n",
       "2 -2.722631  2.172331  0.600215 -0.433976  0.005434\n",
       "3  0.648597 -1.023437 -0.257430  0.289201  0.072694\n",
       "4 -0.334555 -1.271889  0.190564  0.500247 -0.205703"
      ]
     },
     "execution_count": 241,
     "metadata": {},
     "output_type": "execute_result"
    }
   ],
   "source": [
    "gdpcadk.head()"
   ]
  },
  {
   "cell_type": "code",
   "execution_count": 251,
   "metadata": {},
   "outputs": [
    {
     "data": {
      "text/plain": [
       "(127, 5)"
      ]
     },
     "execution_count": 251,
     "metadata": {},
     "output_type": "execute_result"
    }
   ],
   "source": [
    "gdpcadk.shape"
   ]
  },
  {
   "cell_type": "code",
   "execution_count": 245,
   "metadata": {},
   "outputs": [
    {
     "data": {
      "image/png": "[encoded data removed]",
      "text/plain": [
       "<Figure size 1440x720 with 1 Axes>"
      ]
     },
     "metadata": {
      "needs_background": "light"
     },
     "output_type": "display_data"
    }
   ],
   "source": [
    "#Single linkage\n",
    "%matplotlib inline\n",
    "plt.figure(figsize = (20,10))\n",
    "lk = linkage(gdpcadk, method = 'single', metric = 'euclidean')\n",
    "dendrogram(lk)\n",
    "plt.show()"
   ]
  },
  {
   "cell_type": "markdown",
   "metadata": {},
   "source": [
    "The dendrogram above, using single linkage, isn't too intuitive or clear to assess the correct number of clusters\n",
    "Will now plot the dendrogram using complete linkage"
   ]
  },
  {
   "cell_type": "code",
   "execution_count": 246,
   "metadata": {},
   "outputs": [
    {
     "data": {
      "image/png": "[encoded data removed]",
      "text/plain": [
       "<Figure size 1080x720 with 1 Axes>"
      ]
     },
     "metadata": {
      "needs_background": "light"
     },
     "output_type": "display_data"
    }
   ],
   "source": [
    "#Complete linkage\n",
    "plt.figure(figsize = (15,10))\n",
    "cclk = linkage(gdpcadk, method = 'complete', metric = 'euclidean')\n",
    "dendrogram(cclk)\n",
    "plt.show()"
   ]
  },
  {
   "cell_type": "markdown",
   "metadata": {},
   "source": [
    "As expected, dendrogram from 'complete' linkage clearly shows the links between the clusters and the resulting inverted tree that is formed\n",
    "We can clearly see that cutting the tree at point '7' would result in clusters with best linkages as the link 'distance' is maximum. The number of resulting clusters are '3'"
   ]
  },
  {
   "cell_type": "code",
   "execution_count": 247,
   "metadata": {},
   "outputs": [],
   "source": [
    "Cluster_Id = cut_tree(cclk,n_clusters = 3)"
   ]
  },
  {
   "cell_type": "code",
   "execution_count": 248,
   "metadata": {},
   "outputs": [
    {
     "data": {
      "text/plain": [
       "(127, 1)"
      ]
     },
     "execution_count": 248,
     "metadata": {},
     "output_type": "execute_result"
    }
   ],
   "source": [
    "Cluster_Id.shape"
   ]
  },
  {
   "cell_type": "code",
   "execution_count": 250,
   "metadata": {},
   "outputs": [
    {
     "data": {
      "text/plain": [
       "array([0, 1, 0, 1, 1, 2, 2, 1, 1, 1, 1, 1, 0, 1, 1, 1, 1, 1, 0, 0, 1, 0,\n",
       "       2, 1, 0, 1, 1, 1, 1, 0, 1, 0, 1, 1, 1, 1, 1, 1, 1, 1, 1, 1, 2, 2,\n",
       "       1, 0, 1, 2, 1, 1, 1, 1, 0, 0, 1, 2, 1, 1, 1, 1, 1, 2, 1, 2, 1, 1,\n",
       "       1, 1, 1, 1, 1, 0, 0, 1, 1, 0, 1, 1, 0, 1, 1, 1, 1, 0, 1, 1, 1, 2,\n",
       "       0, 1, 1, 1, 1, 1, 1, 1, 1, 1, 1, 1, 1, 0, 1, 1, 1, 1, 1, 1, 1, 1,\n",
       "       1, 2, 1, 0, 0, 1, 1, 1, 1, 0, 2, 2, 1, 1, 1, 1, 0])"
      ]
     },
     "execution_count": 250,
     "metadata": {},
     "output_type": "execute_result"
    }
   ],
   "source": [
    "Cluster_Id.reshape(-1, )"
   ]
  },
  {
   "cell_type": "code",
   "execution_count": 253,
   "metadata": {},
   "outputs": [],
   "source": [
    "gdpcadhc=gdpcadk\n",
    "gdpcadhc['Cluster_Id'] = Cluster_Id "
   ]
  },
  {
   "cell_type": "code",
   "execution_count": 254,
   "metadata": {},
   "outputs": [
    {
     "data": {
      "text/html": [
       "<div>\n",
       "<style scoped>\n",
       "    .dataframe tbody tr th:only-of-type {\n",
       "        vertical-align: middle;\n",
       "    }\n",
       "\n",
       "    .dataframe tbody tr th {\n",
       "        vertical-align: top;\n",
       "    }\n",
       "\n",
       "    .dataframe thead th {\n",
       "        text-align: right;\n",
       "    }\n",
       "</style>\n",
       "<table border=\"1\" class=\"dataframe\">\n",
       "  <thead>\n",
       "    <tr style=\"text-align: right;\">\n",
       "      <th></th>\n",
       "      <th>PC1</th>\n",
       "      <th>PC2</th>\n",
       "      <th>PC3</th>\n",
       "      <th>PC4</th>\n",
       "      <th>PC5</th>\n",
       "      <th>Cluster_Id</th>\n",
       "    </tr>\n",
       "  </thead>\n",
       "  <tbody>\n",
       "    <tr>\n",
       "      <th>0</th>\n",
       "      <td>-2.635574</td>\n",
       "      <td>1.472268</td>\n",
       "      <td>-0.549489</td>\n",
       "      <td>-0.242326</td>\n",
       "      <td>0.023529</td>\n",
       "      <td>0</td>\n",
       "    </tr>\n",
       "    <tr>\n",
       "      <th>1</th>\n",
       "      <td>-0.459558</td>\n",
       "      <td>-0.675496</td>\n",
       "      <td>0.959355</td>\n",
       "      <td>0.218456</td>\n",
       "      <td>-0.113276</td>\n",
       "      <td>1</td>\n",
       "    </tr>\n",
       "    <tr>\n",
       "      <th>2</th>\n",
       "      <td>-2.722631</td>\n",
       "      <td>2.172331</td>\n",
       "      <td>0.600215</td>\n",
       "      <td>-0.433976</td>\n",
       "      <td>0.005434</td>\n",
       "      <td>0</td>\n",
       "    </tr>\n",
       "    <tr>\n",
       "      <th>3</th>\n",
       "      <td>0.648597</td>\n",
       "      <td>-1.023437</td>\n",
       "      <td>-0.257430</td>\n",
       "      <td>0.289201</td>\n",
       "      <td>0.072694</td>\n",
       "      <td>1</td>\n",
       "    </tr>\n",
       "    <tr>\n",
       "      <th>4</th>\n",
       "      <td>-0.334555</td>\n",
       "      <td>-1.271889</td>\n",
       "      <td>0.190564</td>\n",
       "      <td>0.500247</td>\n",
       "      <td>-0.205703</td>\n",
       "      <td>1</td>\n",
       "    </tr>\n",
       "  </tbody>\n",
       "</table>\n",
       "</div>"
      ],
      "text/plain": [
       "        PC1       PC2       PC3       PC4       PC5  Cluster_Id\n",
       "0 -2.635574  1.472268 -0.549489 -0.242326  0.023529           0\n",
       "1 -0.459558 -0.675496  0.959355  0.218456 -0.113276           1\n",
       "2 -2.722631  2.172331  0.600215 -0.433976  0.005434           0\n",
       "3  0.648597 -1.023437 -0.257430  0.289201  0.072694           1\n",
       "4 -0.334555 -1.271889  0.190564  0.500247 -0.205703           1"
      ]
     },
     "execution_count": 254,
     "metadata": {},
     "output_type": "execute_result"
    }
   ],
   "source": [
    "gdpcadhc.head()"
   ]
  },
  {
   "cell_type": "code",
   "execution_count": 255,
   "metadata": {},
   "outputs": [
    {
     "data": {
      "text/plain": [
       "(127, 6)"
      ]
     },
     "execution_count": 255,
     "metadata": {},
     "output_type": "execute_result"
    }
   ],
   "source": [
    "gdpcadhc.shape"
   ]
  },
  {
   "cell_type": "code",
   "execution_count": 259,
   "metadata": {},
   "outputs": [
    {
     "data": {
      "text/plain": [
       "PC1           0\n",
       "PC2           0\n",
       "PC3           0\n",
       "PC4           0\n",
       "PC5           0\n",
       "Cluster_Id    0\n",
       "country       0\n",
       "dtype: int64"
      ]
     },
     "execution_count": 259,
     "metadata": {},
     "output_type": "execute_result"
    }
   ],
   "source": [
    "gdpcadhc.isnull().sum()"
   ]
  },
  {
   "cell_type": "code",
   "execution_count": 292,
   "metadata": {},
   "outputs": [
    {
     "data": {
      "text/plain": [
       "<matplotlib.axes._subplots.AxesSubplot at 0x263ee7075c0>"
      ]
     },
     "execution_count": 292,
     "metadata": {},
     "output_type": "execute_result"
    },
    {
     "data": {
      "image/png": "[encoded data removed]",
      "text/plain": [
       "<Figure size 432x288 with 1 Axes>"
      ]
     },
     "metadata": {
      "needs_background": "light"
     },
     "output_type": "display_data"
    }
   ],
   "source": [
    "# Plotting scatterplot to see the distribution of the first two PCS within the clusters \n",
    "sns.scatterplot(x='PC1',y='PC2',hue='Cluster_Id',legend='full',data=gdpcadhc)"
   ]
  },
  {
   "cell_type": "markdown",
   "metadata": {},
   "source": [
    "It can be seen from above that the three clusters formed in the case of 'hierarchy clustering' differ slightly from those formed in the case of K-means algorithm with respect to the size of the clusters. The cluster-0 in this case is quite smaller and the cluster - '1' larger when compared to the ones that were formed in K-means clustering"
   ]
  },
  {
   "cell_type": "code",
   "execution_count": 257,
   "metadata": {},
   "outputs": [],
   "source": [
    "gdpcadhc['country'] = gdpcad['country']"
   ]
  },
  {
   "cell_type": "code",
   "execution_count": 258,
   "metadata": {},
   "outputs": [
    {
     "data": {
      "text/plain": [
       "(127, 7)"
      ]
     },
     "execution_count": 258,
     "metadata": {},
     "output_type": "execute_result"
    }
   ],
   "source": [
    "gdpcadhc.shape"
   ]
  },
  {
   "cell_type": "markdown",
   "metadata": {},
   "source": [
    "Now will merge this dataset with cluster Ids with main dataset on 'country' column. Will do the inner join so that merged dataset only consists of countries that are common to both datasets"
   ]
  },
  {
   "cell_type": "code",
   "execution_count": 260,
   "metadata": {},
   "outputs": [],
   "source": [
    "gdpcadhcf = pd.merge(gdp, gdpcadhc, how = 'inner', on = 'country')"
   ]
  },
  {
   "cell_type": "code",
   "execution_count": 261,
   "metadata": {},
   "outputs": [
    {
     "data": {
      "text/plain": [
       "(127, 16)"
      ]
     },
     "execution_count": 261,
     "metadata": {},
     "output_type": "execute_result"
    }
   ],
   "source": [
    "gdpcadhcf.shape"
   ]
  },
  {
   "cell_type": "code",
   "execution_count": 262,
   "metadata": {},
   "outputs": [
    {
     "data": {
      "text/html": [
       "<div>\n",
       "<style scoped>\n",
       "    .dataframe tbody tr th:only-of-type {\n",
       "        vertical-align: middle;\n",
       "    }\n",
       "\n",
       "    .dataframe tbody tr th {\n",
       "        vertical-align: top;\n",
       "    }\n",
       "\n",
       "    .dataframe thead th {\n",
       "        text-align: right;\n",
       "    }\n",
       "</style>\n",
       "<table border=\"1\" class=\"dataframe\">\n",
       "  <thead>\n",
       "    <tr style=\"text-align: right;\">\n",
       "      <th></th>\n",
       "      <th>country</th>\n",
       "      <th>child_mort</th>\n",
       "      <th>exports</th>\n",
       "      <th>health</th>\n",
       "      <th>imports</th>\n",
       "      <th>income</th>\n",
       "      <th>inflation</th>\n",
       "      <th>life_expec</th>\n",
       "      <th>total_fer</th>\n",
       "      <th>gdpp</th>\n",
       "      <th>PC1</th>\n",
       "      <th>PC2</th>\n",
       "      <th>PC3</th>\n",
       "      <th>PC4</th>\n",
       "      <th>PC5</th>\n",
       "      <th>Cluster_Id</th>\n",
       "    </tr>\n",
       "  </thead>\n",
       "  <tbody>\n",
       "    <tr>\n",
       "      <th>0</th>\n",
       "      <td>Afghanistan</td>\n",
       "      <td>90.2</td>\n",
       "      <td>55.30</td>\n",
       "      <td>41.92</td>\n",
       "      <td>248.30</td>\n",
       "      <td>1610</td>\n",
       "      <td>9.44</td>\n",
       "      <td>56.2</td>\n",
       "      <td>5.82</td>\n",
       "      <td>553</td>\n",
       "      <td>-2.635574</td>\n",
       "      <td>1.472268</td>\n",
       "      <td>-0.549489</td>\n",
       "      <td>-0.242326</td>\n",
       "      <td>0.023529</td>\n",
       "      <td>0</td>\n",
       "    </tr>\n",
       "    <tr>\n",
       "      <th>1</th>\n",
       "      <td>Algeria</td>\n",
       "      <td>27.3</td>\n",
       "      <td>1712.64</td>\n",
       "      <td>185.98</td>\n",
       "      <td>1400.44</td>\n",
       "      <td>12900</td>\n",
       "      <td>16.10</td>\n",
       "      <td>76.5</td>\n",
       "      <td>2.89</td>\n",
       "      <td>4460</td>\n",
       "      <td>-0.459558</td>\n",
       "      <td>-0.675496</td>\n",
       "      <td>0.959355</td>\n",
       "      <td>0.218456</td>\n",
       "      <td>-0.113276</td>\n",
       "      <td>1</td>\n",
       "    </tr>\n",
       "    <tr>\n",
       "      <th>2</th>\n",
       "      <td>Angola</td>\n",
       "      <td>119.0</td>\n",
       "      <td>2199.19</td>\n",
       "      <td>100.60</td>\n",
       "      <td>1514.37</td>\n",
       "      <td>5900</td>\n",
       "      <td>22.40</td>\n",
       "      <td>60.1</td>\n",
       "      <td>6.16</td>\n",
       "      <td>3530</td>\n",
       "      <td>-2.722631</td>\n",
       "      <td>2.172331</td>\n",
       "      <td>0.600215</td>\n",
       "      <td>-0.433976</td>\n",
       "      <td>0.005434</td>\n",
       "      <td>0</td>\n",
       "    </tr>\n",
       "    <tr>\n",
       "      <th>3</th>\n",
       "      <td>Antigua and Barbuda</td>\n",
       "      <td>10.3</td>\n",
       "      <td>5551.00</td>\n",
       "      <td>735.66</td>\n",
       "      <td>7185.80</td>\n",
       "      <td>19100</td>\n",
       "      <td>1.44</td>\n",
       "      <td>76.8</td>\n",
       "      <td>2.13</td>\n",
       "      <td>12200</td>\n",
       "      <td>0.648597</td>\n",
       "      <td>-1.023437</td>\n",
       "      <td>-0.257430</td>\n",
       "      <td>0.289201</td>\n",
       "      <td>0.072694</td>\n",
       "      <td>1</td>\n",
       "    </tr>\n",
       "    <tr>\n",
       "      <th>4</th>\n",
       "      <td>Armenia</td>\n",
       "      <td>18.1</td>\n",
       "      <td>669.76</td>\n",
       "      <td>141.68</td>\n",
       "      <td>1458.66</td>\n",
       "      <td>6700</td>\n",
       "      <td>7.77</td>\n",
       "      <td>73.3</td>\n",
       "      <td>1.69</td>\n",
       "      <td>3220</td>\n",
       "      <td>-0.334555</td>\n",
       "      <td>-1.271889</td>\n",
       "      <td>0.190564</td>\n",
       "      <td>0.500247</td>\n",
       "      <td>-0.205703</td>\n",
       "      <td>1</td>\n",
       "    </tr>\n",
       "  </tbody>\n",
       "</table>\n",
       "</div>"
      ],
      "text/plain": [
       "               country  child_mort  exports  health  imports  income  \\\n",
       "0          Afghanistan        90.2    55.30   41.92   248.30    1610   \n",
       "1              Algeria        27.3  1712.64  185.98  1400.44   12900   \n",
       "2               Angola       119.0  2199.19  100.60  1514.37    5900   \n",
       "3  Antigua and Barbuda        10.3  5551.00  735.66  7185.80   19100   \n",
       "4              Armenia        18.1   669.76  141.68  1458.66    6700   \n",
       "\n",
       "   inflation  life_expec  total_fer   gdpp       PC1       PC2       PC3  \\\n",
       "0       9.44        56.2       5.82    553 -2.635574  1.472268 -0.549489   \n",
       "1      16.10        76.5       2.89   4460 -0.459558 -0.675496  0.959355   \n",
       "2      22.40        60.1       6.16   3530 -2.722631  2.172331  0.600215   \n",
       "3       1.44        76.8       2.13  12200  0.648597 -1.023437 -0.257430   \n",
       "4       7.77        73.3       1.69   3220 -0.334555 -1.271889  0.190564   \n",
       "\n",
       "        PC4       PC5  Cluster_Id  \n",
       "0 -0.242326  0.023529           0  \n",
       "1  0.218456 -0.113276           1  \n",
       "2 -0.433976  0.005434           0  \n",
       "3  0.289201  0.072694           1  \n",
       "4  0.500247 -0.205703           1  "
      ]
     },
     "execution_count": 262,
     "metadata": {},
     "output_type": "execute_result"
    }
   ],
   "source": [
    "gdpcadhcf.head()"
   ]
  },
  {
   "cell_type": "code",
   "execution_count": 263,
   "metadata": {},
   "outputs": [
    {
     "data": {
      "text/plain": [
       "country       0\n",
       "child_mort    0\n",
       "exports       0\n",
       "health        0\n",
       "imports       0\n",
       "income        0\n",
       "inflation     0\n",
       "life_expec    0\n",
       "total_fer     0\n",
       "gdpp          0\n",
       "PC1           0\n",
       "PC2           0\n",
       "PC3           0\n",
       "PC4           0\n",
       "PC5           0\n",
       "Cluster_Id    0\n",
       "dtype: int64"
      ]
     },
     "execution_count": 263,
     "metadata": {},
     "output_type": "execute_result"
    }
   ],
   "source": [
    "gdpcadhcf.isnull().sum()"
   ]
  },
  {
   "cell_type": "code",
   "execution_count": 273,
   "metadata": {},
   "outputs": [
    {
     "data": {
      "text/plain": [
       "1    91\n",
       "0    23\n",
       "2    13\n",
       "Name: Cluster_Id, dtype: int64"
      ]
     },
     "execution_count": 273,
     "metadata": {},
     "output_type": "execute_result"
    }
   ],
   "source": [
    "gdpcadhcf.Cluster_Id.value_counts()"
   ]
  },
  {
   "cell_type": "markdown",
   "metadata": {},
   "source": [
    "Boxplot analysis"
   ]
  },
  {
   "cell_type": "code",
   "execution_count": 267,
   "metadata": {},
   "outputs": [
    {
     "data": {
      "text/plain": [
       "<matplotlib.axes._subplots.AxesSubplot at 0x263ebbfcac8>"
      ]
     },
     "execution_count": 267,
     "metadata": {},
     "output_type": "execute_result"
    },
    {
     "data": {
      "image/png": "[encoded data removed]",
      "text/plain": [
       "<Figure size 432x288 with 1 Axes>"
      ]
     },
     "metadata": {
      "needs_background": "light"
     },
     "output_type": "display_data"
    }
   ],
   "source": [
    "sns.boxplot(x = 'Cluster_Id', y = 'gdpp', data = gdpcadhcf)"
   ]
  },
  {
   "cell_type": "code",
   "execution_count": 268,
   "metadata": {},
   "outputs": [
    {
     "data": {
      "text/plain": [
       "<matplotlib.axes._subplots.AxesSubplot at 0x263ebd36400>"
      ]
     },
     "execution_count": 268,
     "metadata": {},
     "output_type": "execute_result"
    },
    {
     "data": {
      "image/png": "[encoded data removed]",
      "text/plain": [
       "<Figure size 432x288 with 1 Axes>"
      ]
     },
     "metadata": {
      "needs_background": "light"
     },
     "output_type": "display_data"
    }
   ],
   "source": [
    "sns.boxplot(x = 'Cluster_Id', y = 'child_mort', data = gdpcadhcf)"
   ]
  },
  {
   "cell_type": "code",
   "execution_count": 166,
   "metadata": {},
   "outputs": [
    {
     "data": {
      "text/plain": [
       "<matplotlib.axes._subplots.AxesSubplot at 0x263eb94bdd8>"
      ]
     },
     "execution_count": 166,
     "metadata": {},
     "output_type": "execute_result"
    },
    {
     "data": {
      "image/png": "[encoded data removed]",
      "text/plain": [
       "<Figure size 432x288 with 1 Axes>"
      ]
     },
     "metadata": {
      "needs_background": "light"
     },
     "output_type": "display_data"
    }
   ],
   "source": [
    "sns.boxplot(x = 'Cluster_Id', y = 'income', data = gdpcadhcf)"
   ]
  },
  {
   "cell_type": "code",
   "execution_count": 269,
   "metadata": {},
   "outputs": [
    {
     "data": {
      "text/plain": [
       "<matplotlib.axes._subplots.AxesSubplot at 0x263eeb3acf8>"
      ]
     },
     "execution_count": 269,
     "metadata": {},
     "output_type": "execute_result"
    },
    {
     "data": {
      "image/png": "[encoded data removed]",
      "text/plain": [
       "<Figure size 432x288 with 1 Axes>"
      ]
     },
     "metadata": {
      "needs_background": "light"
     },
     "output_type": "display_data"
    }
   ],
   "source": [
    "sns.boxplot(x = 'Cluster_Id', y = 'life_expec', data = gdpcadhcf)"
   ]
  },
  {
   "cell_type": "markdown",
   "metadata": {},
   "source": [
    "It can be seen that the box plot analysis for clusters based on 'Hierarchy clustering' produces the same results as in the case of 'K-means' clustering performed above. Therefore, will focus on cluster-0 here too"
   ]
  },
  {
   "cell_type": "code",
   "execution_count": 270,
   "metadata": {},
   "outputs": [],
   "source": [
    "gdpcadhcf_0 = gdpcadhcf[gdpcadhcf.Cluster_Id == 0]"
   ]
  },
  {
   "cell_type": "code",
   "execution_count": 271,
   "metadata": {},
   "outputs": [
    {
     "data": {
      "text/html": [
       "<div>\n",
       "<style scoped>\n",
       "    .dataframe tbody tr th:only-of-type {\n",
       "        vertical-align: middle;\n",
       "    }\n",
       "\n",
       "    .dataframe tbody tr th {\n",
       "        vertical-align: top;\n",
       "    }\n",
       "\n",
       "    .dataframe thead th {\n",
       "        text-align: right;\n",
       "    }\n",
       "</style>\n",
       "<table border=\"1\" class=\"dataframe\">\n",
       "  <thead>\n",
       "    <tr style=\"text-align: right;\">\n",
       "      <th></th>\n",
       "      <th>country</th>\n",
       "      <th>child_mort</th>\n",
       "      <th>exports</th>\n",
       "      <th>health</th>\n",
       "      <th>imports</th>\n",
       "      <th>income</th>\n",
       "      <th>inflation</th>\n",
       "      <th>life_expec</th>\n",
       "      <th>total_fer</th>\n",
       "      <th>gdpp</th>\n",
       "      <th>PC1</th>\n",
       "      <th>PC2</th>\n",
       "      <th>PC3</th>\n",
       "      <th>PC4</th>\n",
       "      <th>PC5</th>\n",
       "      <th>Cluster_Id</th>\n",
       "    </tr>\n",
       "  </thead>\n",
       "  <tbody>\n",
       "    <tr>\n",
       "      <th>0</th>\n",
       "      <td>Afghanistan</td>\n",
       "      <td>90.2</td>\n",
       "      <td>55.30</td>\n",
       "      <td>41.92</td>\n",
       "      <td>248.30</td>\n",
       "      <td>1610</td>\n",
       "      <td>9.440</td>\n",
       "      <td>56.2</td>\n",
       "      <td>5.82</td>\n",
       "      <td>553</td>\n",
       "      <td>-2.635574</td>\n",
       "      <td>1.472268</td>\n",
       "      <td>-0.549489</td>\n",
       "      <td>-0.242326</td>\n",
       "      <td>0.023529</td>\n",
       "      <td>0</td>\n",
       "    </tr>\n",
       "    <tr>\n",
       "      <th>2</th>\n",
       "      <td>Angola</td>\n",
       "      <td>119.0</td>\n",
       "      <td>2199.19</td>\n",
       "      <td>100.60</td>\n",
       "      <td>1514.37</td>\n",
       "      <td>5900</td>\n",
       "      <td>22.400</td>\n",
       "      <td>60.1</td>\n",
       "      <td>6.16</td>\n",
       "      <td>3530</td>\n",
       "      <td>-2.722631</td>\n",
       "      <td>2.172331</td>\n",
       "      <td>0.600215</td>\n",
       "      <td>-0.433976</td>\n",
       "      <td>0.005434</td>\n",
       "      <td>0</td>\n",
       "    </tr>\n",
       "    <tr>\n",
       "      <th>12</th>\n",
       "      <td>Benin</td>\n",
       "      <td>111.0</td>\n",
       "      <td>180.40</td>\n",
       "      <td>31.08</td>\n",
       "      <td>281.98</td>\n",
       "      <td>1820</td>\n",
       "      <td>0.885</td>\n",
       "      <td>61.8</td>\n",
       "      <td>5.36</td>\n",
       "      <td>758</td>\n",
       "      <td>-2.363962</td>\n",
       "      <td>1.171696</td>\n",
       "      <td>-1.247192</td>\n",
       "      <td>-0.257107</td>\n",
       "      <td>0.107725</td>\n",
       "      <td>0</td>\n",
       "    </tr>\n",
       "    <tr>\n",
       "      <th>18</th>\n",
       "      <td>Burkina Faso</td>\n",
       "      <td>116.0</td>\n",
       "      <td>110.40</td>\n",
       "      <td>38.76</td>\n",
       "      <td>170.20</td>\n",
       "      <td>1430</td>\n",
       "      <td>6.810</td>\n",
       "      <td>57.9</td>\n",
       "      <td>5.87</td>\n",
       "      <td>575</td>\n",
       "      <td>-2.751479</td>\n",
       "      <td>1.664992</td>\n",
       "      <td>-0.848207</td>\n",
       "      <td>-0.345047</td>\n",
       "      <td>0.087575</td>\n",
       "      <td>0</td>\n",
       "    </tr>\n",
       "    <tr>\n",
       "      <th>19</th>\n",
       "      <td>Burundi</td>\n",
       "      <td>93.6</td>\n",
       "      <td>20.61</td>\n",
       "      <td>26.80</td>\n",
       "      <td>90.55</td>\n",
       "      <td>764</td>\n",
       "      <td>12.300</td>\n",
       "      <td>57.7</td>\n",
       "      <td>6.26</td>\n",
       "      <td>231</td>\n",
       "      <td>-2.762439</td>\n",
       "      <td>1.628790</td>\n",
       "      <td>-0.299329</td>\n",
       "      <td>-0.309939</td>\n",
       "      <td>-0.066405</td>\n",
       "      <td>0</td>\n",
       "    </tr>\n",
       "  </tbody>\n",
       "</table>\n",
       "</div>"
      ],
      "text/plain": [
       "         country  child_mort  exports  health  imports  income  inflation  \\\n",
       "0    Afghanistan        90.2    55.30   41.92   248.30    1610      9.440   \n",
       "2         Angola       119.0  2199.19  100.60  1514.37    5900     22.400   \n",
       "12         Benin       111.0   180.40   31.08   281.98    1820      0.885   \n",
       "18  Burkina Faso       116.0   110.40   38.76   170.20    1430      6.810   \n",
       "19       Burundi        93.6    20.61   26.80    90.55     764     12.300   \n",
       "\n",
       "    life_expec  total_fer  gdpp       PC1       PC2       PC3       PC4  \\\n",
       "0         56.2       5.82   553 -2.635574  1.472268 -0.549489 -0.242326   \n",
       "2         60.1       6.16  3530 -2.722631  2.172331  0.600215 -0.433976   \n",
       "12        61.8       5.36   758 -2.363962  1.171696 -1.247192 -0.257107   \n",
       "18        57.9       5.87   575 -2.751479  1.664992 -0.848207 -0.345047   \n",
       "19        57.7       6.26   231 -2.762439  1.628790 -0.299329 -0.309939   \n",
       "\n",
       "         PC5  Cluster_Id  \n",
       "0   0.023529           0  \n",
       "2   0.005434           0  \n",
       "12  0.107725           0  \n",
       "18  0.087575           0  \n",
       "19 -0.066405           0  "
      ]
     },
     "execution_count": 271,
     "metadata": {},
     "output_type": "execute_result"
    }
   ],
   "source": [
    "gdpcadhcf_0.head()"
   ]
  },
  {
   "cell_type": "code",
   "execution_count": 272,
   "metadata": {},
   "outputs": [
    {
     "data": {
      "text/plain": [
       "(23, 16)"
      ]
     },
     "execution_count": 272,
     "metadata": {},
     "output_type": "execute_result"
    }
   ],
   "source": [
    "gdpcadhcf_0.shape"
   ]
  },
  {
   "cell_type": "markdown",
   "metadata": {},
   "source": [
    "Dropping the principle component columns as we do not need them now"
   ]
  },
  {
   "cell_type": "code",
   "execution_count": 274,
   "metadata": {},
   "outputs": [],
   "source": [
    "gdphcf_0 = gdpcadhcf_0.drop(['PC1','PC2', 'PC3', 'PC4', 'PC5'], axis = 1)"
   ]
  },
  {
   "cell_type": "code",
   "execution_count": 275,
   "metadata": {},
   "outputs": [
    {
     "data": {
      "text/html": [
       "<div>\n",
       "<style scoped>\n",
       "    .dataframe tbody tr th:only-of-type {\n",
       "        vertical-align: middle;\n",
       "    }\n",
       "\n",
       "    .dataframe tbody tr th {\n",
       "        vertical-align: top;\n",
       "    }\n",
       "\n",
       "    .dataframe thead th {\n",
       "        text-align: right;\n",
       "    }\n",
       "</style>\n",
       "<table border=\"1\" class=\"dataframe\">\n",
       "  <thead>\n",
       "    <tr style=\"text-align: right;\">\n",
       "      <th></th>\n",
       "      <th>country</th>\n",
       "      <th>child_mort</th>\n",
       "      <th>exports</th>\n",
       "      <th>health</th>\n",
       "      <th>imports</th>\n",
       "      <th>income</th>\n",
       "      <th>inflation</th>\n",
       "      <th>life_expec</th>\n",
       "      <th>total_fer</th>\n",
       "      <th>gdpp</th>\n",
       "      <th>Cluster_Id</th>\n",
       "    </tr>\n",
       "  </thead>\n",
       "  <tbody>\n",
       "    <tr>\n",
       "      <th>0</th>\n",
       "      <td>Afghanistan</td>\n",
       "      <td>90.2</td>\n",
       "      <td>55.30</td>\n",
       "      <td>41.92</td>\n",
       "      <td>248.30</td>\n",
       "      <td>1610</td>\n",
       "      <td>9.440</td>\n",
       "      <td>56.2</td>\n",
       "      <td>5.82</td>\n",
       "      <td>553</td>\n",
       "      <td>0</td>\n",
       "    </tr>\n",
       "    <tr>\n",
       "      <th>2</th>\n",
       "      <td>Angola</td>\n",
       "      <td>119.0</td>\n",
       "      <td>2199.19</td>\n",
       "      <td>100.60</td>\n",
       "      <td>1514.37</td>\n",
       "      <td>5900</td>\n",
       "      <td>22.400</td>\n",
       "      <td>60.1</td>\n",
       "      <td>6.16</td>\n",
       "      <td>3530</td>\n",
       "      <td>0</td>\n",
       "    </tr>\n",
       "    <tr>\n",
       "      <th>12</th>\n",
       "      <td>Benin</td>\n",
       "      <td>111.0</td>\n",
       "      <td>180.40</td>\n",
       "      <td>31.08</td>\n",
       "      <td>281.98</td>\n",
       "      <td>1820</td>\n",
       "      <td>0.885</td>\n",
       "      <td>61.8</td>\n",
       "      <td>5.36</td>\n",
       "      <td>758</td>\n",
       "      <td>0</td>\n",
       "    </tr>\n",
       "    <tr>\n",
       "      <th>18</th>\n",
       "      <td>Burkina Faso</td>\n",
       "      <td>116.0</td>\n",
       "      <td>110.40</td>\n",
       "      <td>38.76</td>\n",
       "      <td>170.20</td>\n",
       "      <td>1430</td>\n",
       "      <td>6.810</td>\n",
       "      <td>57.9</td>\n",
       "      <td>5.87</td>\n",
       "      <td>575</td>\n",
       "      <td>0</td>\n",
       "    </tr>\n",
       "    <tr>\n",
       "      <th>19</th>\n",
       "      <td>Burundi</td>\n",
       "      <td>93.6</td>\n",
       "      <td>20.61</td>\n",
       "      <td>26.80</td>\n",
       "      <td>90.55</td>\n",
       "      <td>764</td>\n",
       "      <td>12.300</td>\n",
       "      <td>57.7</td>\n",
       "      <td>6.26</td>\n",
       "      <td>231</td>\n",
       "      <td>0</td>\n",
       "    </tr>\n",
       "  </tbody>\n",
       "</table>\n",
       "</div>"
      ],
      "text/plain": [
       "         country  child_mort  exports  health  imports  income  inflation  \\\n",
       "0    Afghanistan        90.2    55.30   41.92   248.30    1610      9.440   \n",
       "2         Angola       119.0  2199.19  100.60  1514.37    5900     22.400   \n",
       "12         Benin       111.0   180.40   31.08   281.98    1820      0.885   \n",
       "18  Burkina Faso       116.0   110.40   38.76   170.20    1430      6.810   \n",
       "19       Burundi        93.6    20.61   26.80    90.55     764     12.300   \n",
       "\n",
       "    life_expec  total_fer  gdpp  Cluster_Id  \n",
       "0         56.2       5.82   553           0  \n",
       "2         60.1       6.16  3530           0  \n",
       "12        61.8       5.36   758           0  \n",
       "18        57.9       5.87   575           0  \n",
       "19        57.7       6.26   231           0  "
      ]
     },
     "execution_count": 275,
     "metadata": {},
     "output_type": "execute_result"
    }
   ],
   "source": [
    "gdphcf_0.head()"
   ]
  },
  {
   "cell_type": "code",
   "execution_count": 276,
   "metadata": {},
   "outputs": [
    {
     "data": {
      "text/plain": [
       "(23, 11)"
      ]
     },
     "execution_count": 276,
     "metadata": {},
     "output_type": "execute_result"
    }
   ],
   "source": [
    "gdphcf_0.shape"
   ]
  },
  {
   "cell_type": "code",
   "execution_count": 277,
   "metadata": {},
   "outputs": [
    {
     "data": {
      "text/html": [
       "<div>\n",
       "<style scoped>\n",
       "    .dataframe tbody tr th:only-of-type {\n",
       "        vertical-align: middle;\n",
       "    }\n",
       "\n",
       "    .dataframe tbody tr th {\n",
       "        vertical-align: top;\n",
       "    }\n",
       "\n",
       "    .dataframe thead th {\n",
       "        text-align: right;\n",
       "    }\n",
       "</style>\n",
       "<table border=\"1\" class=\"dataframe\">\n",
       "  <thead>\n",
       "    <tr style=\"text-align: right;\">\n",
       "      <th></th>\n",
       "      <th>child_mort</th>\n",
       "      <th>exports</th>\n",
       "      <th>health</th>\n",
       "      <th>imports</th>\n",
       "      <th>income</th>\n",
       "      <th>inflation</th>\n",
       "      <th>life_expec</th>\n",
       "      <th>total_fer</th>\n",
       "      <th>gdpp</th>\n",
       "      <th>Cluster_Id</th>\n",
       "    </tr>\n",
       "  </thead>\n",
       "  <tbody>\n",
       "    <tr>\n",
       "      <th>count</th>\n",
       "      <td>23.000000</td>\n",
       "      <td>23.000000</td>\n",
       "      <td>23.00000</td>\n",
       "      <td>23.000000</td>\n",
       "      <td>23.000000</td>\n",
       "      <td>23.000000</td>\n",
       "      <td>23.000000</td>\n",
       "      <td>23.000000</td>\n",
       "      <td>23.000000</td>\n",
       "      <td>23.0</td>\n",
       "    </tr>\n",
       "    <tr>\n",
       "      <th>mean</th>\n",
       "      <td>106.300000</td>\n",
       "      <td>277.747391</td>\n",
       "      <td>47.55000</td>\n",
       "      <td>345.921304</td>\n",
       "      <td>1769.782609</td>\n",
       "      <td>8.617609</td>\n",
       "      <td>57.191304</td>\n",
       "      <td>5.624348</td>\n",
       "      <td>793.043478</td>\n",
       "      <td>0.0</td>\n",
       "    </tr>\n",
       "    <tr>\n",
       "      <th>std</th>\n",
       "      <td>22.158889</td>\n",
       "      <td>447.522587</td>\n",
       "      <td>26.79833</td>\n",
       "      <td>336.415781</td>\n",
       "      <td>1137.850763</td>\n",
       "      <td>6.188847</td>\n",
       "      <td>3.710539</td>\n",
       "      <td>0.819101</td>\n",
       "      <td>683.439861</td>\n",
       "      <td>0.0</td>\n",
       "    </tr>\n",
       "    <tr>\n",
       "      <th>min</th>\n",
       "      <td>71.900000</td>\n",
       "      <td>20.610000</td>\n",
       "      <td>17.96000</td>\n",
       "      <td>90.550000</td>\n",
       "      <td>609.000000</td>\n",
       "      <td>0.885000</td>\n",
       "      <td>46.500000</td>\n",
       "      <td>3.300000</td>\n",
       "      <td>231.000000</td>\n",
       "      <td>0.0</td>\n",
       "    </tr>\n",
       "    <tr>\n",
       "      <th>25%</th>\n",
       "      <td>90.250000</td>\n",
       "      <td>91.620000</td>\n",
       "      <td>31.51500</td>\n",
       "      <td>170.535000</td>\n",
       "      <td>1110.000000</td>\n",
       "      <td>4.225000</td>\n",
       "      <td>55.900000</td>\n",
       "      <td>5.235000</td>\n",
       "      <td>439.000000</td>\n",
       "      <td>0.0</td>\n",
       "    </tr>\n",
       "    <tr>\n",
       "      <th>50%</th>\n",
       "      <td>108.000000</td>\n",
       "      <td>133.760000</td>\n",
       "      <td>38.76000</td>\n",
       "      <td>248.300000</td>\n",
       "      <td>1540.000000</td>\n",
       "      <td>6.810000</td>\n",
       "      <td>57.500000</td>\n",
       "      <td>5.430000</td>\n",
       "      <td>575.000000</td>\n",
       "      <td>0.0</td>\n",
       "    </tr>\n",
       "    <tr>\n",
       "      <th>75%</th>\n",
       "      <td>116.000000</td>\n",
       "      <td>243.580000</td>\n",
       "      <td>52.94000</td>\n",
       "      <td>328.250000</td>\n",
       "      <td>2010.000000</td>\n",
       "      <td>12.200000</td>\n",
       "      <td>59.050000</td>\n",
       "      <td>6.155000</td>\n",
       "      <td>827.500000</td>\n",
       "      <td>0.0</td>\n",
       "    </tr>\n",
       "    <tr>\n",
       "      <th>max</th>\n",
       "      <td>160.000000</td>\n",
       "      <td>2199.190000</td>\n",
       "      <td>129.87000</td>\n",
       "      <td>1514.370000</td>\n",
       "      <td>5900.000000</td>\n",
       "      <td>22.400000</td>\n",
       "      <td>65.500000</td>\n",
       "      <td>7.490000</td>\n",
       "      <td>3530.000000</td>\n",
       "      <td>0.0</td>\n",
       "    </tr>\n",
       "  </tbody>\n",
       "</table>\n",
       "</div>"
      ],
      "text/plain": [
       "       child_mort      exports     health      imports       income  \\\n",
       "count   23.000000    23.000000   23.00000    23.000000    23.000000   \n",
       "mean   106.300000   277.747391   47.55000   345.921304  1769.782609   \n",
       "std     22.158889   447.522587   26.79833   336.415781  1137.850763   \n",
       "min     71.900000    20.610000   17.96000    90.550000   609.000000   \n",
       "25%     90.250000    91.620000   31.51500   170.535000  1110.000000   \n",
       "50%    108.000000   133.760000   38.76000   248.300000  1540.000000   \n",
       "75%    116.000000   243.580000   52.94000   328.250000  2010.000000   \n",
       "max    160.000000  2199.190000  129.87000  1514.370000  5900.000000   \n",
       "\n",
       "       inflation  life_expec  total_fer         gdpp  Cluster_Id  \n",
       "count  23.000000   23.000000  23.000000    23.000000        23.0  \n",
       "mean    8.617609   57.191304   5.624348   793.043478         0.0  \n",
       "std     6.188847    3.710539   0.819101   683.439861         0.0  \n",
       "min     0.885000   46.500000   3.300000   231.000000         0.0  \n",
       "25%     4.225000   55.900000   5.235000   439.000000         0.0  \n",
       "50%     6.810000   57.500000   5.430000   575.000000         0.0  \n",
       "75%    12.200000   59.050000   6.155000   827.500000         0.0  \n",
       "max    22.400000   65.500000   7.490000  3530.000000         0.0  "
      ]
     },
     "execution_count": 277,
     "metadata": {},
     "output_type": "execute_result"
    }
   ],
   "source": [
    "gdphcf_0.describe()"
   ]
  },
  {
   "cell_type": "markdown",
   "metadata": {},
   "source": [
    "Lets shortlist first the countries within this group that have values of 'gdpp', 'income' lower than their mean as described above, and, have 'child_mort' higher than the mean value  "
   ]
  },
  {
   "cell_type": "code",
   "execution_count": 278,
   "metadata": {},
   "outputs": [],
   "source": [
    "gdphcfl = gdphcf_0[gdphcf_0.child_mort >= 106]"
   ]
  },
  {
   "cell_type": "code",
   "execution_count": 279,
   "metadata": {},
   "outputs": [],
   "source": [
    "gdphcfl = gdphcf_0[gdphcf_0.gdpp <= 793]"
   ]
  },
  {
   "cell_type": "code",
   "execution_count": 280,
   "metadata": {},
   "outputs": [],
   "source": [
    "gdphcfl = gdphcf_0[gdphcf_0.income <= 1770]"
   ]
  },
  {
   "cell_type": "code",
   "execution_count": 281,
   "metadata": {},
   "outputs": [
    {
     "data": {
      "text/plain": [
       "(14, 11)"
      ]
     },
     "execution_count": 281,
     "metadata": {},
     "output_type": "execute_result"
    }
   ],
   "source": [
    "gdphcfl.shape"
   ]
  },
  {
   "cell_type": "code",
   "execution_count": 283,
   "metadata": {},
   "outputs": [
    {
     "data": {
      "text/html": [
       "<div>\n",
       "<style scoped>\n",
       "    .dataframe tbody tr th:only-of-type {\n",
       "        vertical-align: middle;\n",
       "    }\n",
       "\n",
       "    .dataframe tbody tr th {\n",
       "        vertical-align: top;\n",
       "    }\n",
       "\n",
       "    .dataframe thead th {\n",
       "        text-align: right;\n",
       "    }\n",
       "</style>\n",
       "<table border=\"1\" class=\"dataframe\">\n",
       "  <thead>\n",
       "    <tr style=\"text-align: right;\">\n",
       "      <th></th>\n",
       "      <th>country</th>\n",
       "      <th>child_mort</th>\n",
       "      <th>exports</th>\n",
       "      <th>health</th>\n",
       "      <th>imports</th>\n",
       "      <th>income</th>\n",
       "      <th>inflation</th>\n",
       "      <th>life_expec</th>\n",
       "      <th>total_fer</th>\n",
       "      <th>gdpp</th>\n",
       "      <th>Cluster_Id</th>\n",
       "    </tr>\n",
       "  </thead>\n",
       "  <tbody>\n",
       "    <tr>\n",
       "      <th>0</th>\n",
       "      <td>Afghanistan</td>\n",
       "      <td>90.2</td>\n",
       "      <td>55.30</td>\n",
       "      <td>41.92</td>\n",
       "      <td>248.30</td>\n",
       "      <td>1610</td>\n",
       "      <td>9.44</td>\n",
       "      <td>56.2</td>\n",
       "      <td>5.82</td>\n",
       "      <td>553</td>\n",
       "      <td>0</td>\n",
       "    </tr>\n",
       "    <tr>\n",
       "      <th>18</th>\n",
       "      <td>Burkina Faso</td>\n",
       "      <td>116.0</td>\n",
       "      <td>110.40</td>\n",
       "      <td>38.76</td>\n",
       "      <td>170.20</td>\n",
       "      <td>1430</td>\n",
       "      <td>6.81</td>\n",
       "      <td>57.9</td>\n",
       "      <td>5.87</td>\n",
       "      <td>575</td>\n",
       "      <td>0</td>\n",
       "    </tr>\n",
       "    <tr>\n",
       "      <th>19</th>\n",
       "      <td>Burundi</td>\n",
       "      <td>93.6</td>\n",
       "      <td>20.61</td>\n",
       "      <td>26.80</td>\n",
       "      <td>90.55</td>\n",
       "      <td>764</td>\n",
       "      <td>12.30</td>\n",
       "      <td>57.7</td>\n",
       "      <td>6.26</td>\n",
       "      <td>231</td>\n",
       "      <td>0</td>\n",
       "    </tr>\n",
       "    <tr>\n",
       "      <th>29</th>\n",
       "      <td>Congo, Dem. Rep.</td>\n",
       "      <td>116.0</td>\n",
       "      <td>137.27</td>\n",
       "      <td>26.42</td>\n",
       "      <td>165.66</td>\n",
       "      <td>609</td>\n",
       "      <td>20.80</td>\n",
       "      <td>57.5</td>\n",
       "      <td>6.54</td>\n",
       "      <td>334</td>\n",
       "      <td>0</td>\n",
       "    </tr>\n",
       "    <tr>\n",
       "      <th>45</th>\n",
       "      <td>Gambia</td>\n",
       "      <td>80.3</td>\n",
       "      <td>133.76</td>\n",
       "      <td>31.98</td>\n",
       "      <td>239.97</td>\n",
       "      <td>1660</td>\n",
       "      <td>4.30</td>\n",
       "      <td>65.5</td>\n",
       "      <td>5.71</td>\n",
       "      <td>562</td>\n",
       "      <td>0</td>\n",
       "    </tr>\n",
       "    <tr>\n",
       "      <th>52</th>\n",
       "      <td>Guinea</td>\n",
       "      <td>109.0</td>\n",
       "      <td>196.34</td>\n",
       "      <td>31.95</td>\n",
       "      <td>279.94</td>\n",
       "      <td>1190</td>\n",
       "      <td>16.10</td>\n",
       "      <td>58.0</td>\n",
       "      <td>5.34</td>\n",
       "      <td>648</td>\n",
       "      <td>0</td>\n",
       "    </tr>\n",
       "    <tr>\n",
       "      <th>53</th>\n",
       "      <td>Guinea-Bissau</td>\n",
       "      <td>114.0</td>\n",
       "      <td>81.50</td>\n",
       "      <td>46.50</td>\n",
       "      <td>192.54</td>\n",
       "      <td>1390</td>\n",
       "      <td>2.97</td>\n",
       "      <td>55.6</td>\n",
       "      <td>5.05</td>\n",
       "      <td>547</td>\n",
       "      <td>0</td>\n",
       "    </tr>\n",
       "    <tr>\n",
       "      <th>72</th>\n",
       "      <td>Liberia</td>\n",
       "      <td>89.3</td>\n",
       "      <td>62.46</td>\n",
       "      <td>38.59</td>\n",
       "      <td>302.80</td>\n",
       "      <td>700</td>\n",
       "      <td>5.47</td>\n",
       "      <td>60.8</td>\n",
       "      <td>5.02</td>\n",
       "      <td>327</td>\n",
       "      <td>0</td>\n",
       "    </tr>\n",
       "    <tr>\n",
       "      <th>75</th>\n",
       "      <td>Malawi</td>\n",
       "      <td>90.5</td>\n",
       "      <td>104.65</td>\n",
       "      <td>30.25</td>\n",
       "      <td>160.19</td>\n",
       "      <td>1030</td>\n",
       "      <td>12.10</td>\n",
       "      <td>53.1</td>\n",
       "      <td>5.31</td>\n",
       "      <td>459</td>\n",
       "      <td>0</td>\n",
       "    </tr>\n",
       "    <tr>\n",
       "      <th>83</th>\n",
       "      <td>Mozambique</td>\n",
       "      <td>101.0</td>\n",
       "      <td>131.99</td>\n",
       "      <td>21.83</td>\n",
       "      <td>193.58</td>\n",
       "      <td>918</td>\n",
       "      <td>7.64</td>\n",
       "      <td>54.5</td>\n",
       "      <td>5.56</td>\n",
       "      <td>419</td>\n",
       "      <td>0</td>\n",
       "    </tr>\n",
       "    <tr>\n",
       "      <th>88</th>\n",
       "      <td>Niger</td>\n",
       "      <td>123.0</td>\n",
       "      <td>77.26</td>\n",
       "      <td>17.96</td>\n",
       "      <td>170.87</td>\n",
       "      <td>814</td>\n",
       "      <td>2.55</td>\n",
       "      <td>58.8</td>\n",
       "      <td>7.49</td>\n",
       "      <td>348</td>\n",
       "      <td>0</td>\n",
       "    </tr>\n",
       "    <tr>\n",
       "      <th>101</th>\n",
       "      <td>Sierra Leone</td>\n",
       "      <td>160.0</td>\n",
       "      <td>67.03</td>\n",
       "      <td>52.27</td>\n",
       "      <td>137.66</td>\n",
       "      <td>1220</td>\n",
       "      <td>17.20</td>\n",
       "      <td>55.0</td>\n",
       "      <td>5.20</td>\n",
       "      <td>399</td>\n",
       "      <td>0</td>\n",
       "    </tr>\n",
       "    <tr>\n",
       "      <th>114</th>\n",
       "      <td>Togo</td>\n",
       "      <td>90.3</td>\n",
       "      <td>196.18</td>\n",
       "      <td>37.33</td>\n",
       "      <td>279.62</td>\n",
       "      <td>1210</td>\n",
       "      <td>1.18</td>\n",
       "      <td>58.7</td>\n",
       "      <td>4.87</td>\n",
       "      <td>488</td>\n",
       "      <td>0</td>\n",
       "    </tr>\n",
       "    <tr>\n",
       "      <th>119</th>\n",
       "      <td>Uganda</td>\n",
       "      <td>81.0</td>\n",
       "      <td>101.74</td>\n",
       "      <td>53.61</td>\n",
       "      <td>170.17</td>\n",
       "      <td>1540</td>\n",
       "      <td>10.60</td>\n",
       "      <td>56.8</td>\n",
       "      <td>6.15</td>\n",
       "      <td>595</td>\n",
       "      <td>0</td>\n",
       "    </tr>\n",
       "  </tbody>\n",
       "</table>\n",
       "</div>"
      ],
      "text/plain": [
       "              country  child_mort  exports  health  imports  income  \\\n",
       "0         Afghanistan        90.2    55.30   41.92   248.30    1610   \n",
       "18       Burkina Faso       116.0   110.40   38.76   170.20    1430   \n",
       "19            Burundi        93.6    20.61   26.80    90.55     764   \n",
       "29   Congo, Dem. Rep.       116.0   137.27   26.42   165.66     609   \n",
       "45             Gambia        80.3   133.76   31.98   239.97    1660   \n",
       "52             Guinea       109.0   196.34   31.95   279.94    1190   \n",
       "53      Guinea-Bissau       114.0    81.50   46.50   192.54    1390   \n",
       "72            Liberia        89.3    62.46   38.59   302.80     700   \n",
       "75             Malawi        90.5   104.65   30.25   160.19    1030   \n",
       "83         Mozambique       101.0   131.99   21.83   193.58     918   \n",
       "88              Niger       123.0    77.26   17.96   170.87     814   \n",
       "101      Sierra Leone       160.0    67.03   52.27   137.66    1220   \n",
       "114              Togo        90.3   196.18   37.33   279.62    1210   \n",
       "119            Uganda        81.0   101.74   53.61   170.17    1540   \n",
       "\n",
       "     inflation  life_expec  total_fer  gdpp  Cluster_Id  \n",
       "0         9.44        56.2       5.82   553           0  \n",
       "18        6.81        57.9       5.87   575           0  \n",
       "19       12.30        57.7       6.26   231           0  \n",
       "29       20.80        57.5       6.54   334           0  \n",
       "45        4.30        65.5       5.71   562           0  \n",
       "52       16.10        58.0       5.34   648           0  \n",
       "53        2.97        55.6       5.05   547           0  \n",
       "72        5.47        60.8       5.02   327           0  \n",
       "75       12.10        53.1       5.31   459           0  \n",
       "83        7.64        54.5       5.56   419           0  \n",
       "88        2.55        58.8       7.49   348           0  \n",
       "101      17.20        55.0       5.20   399           0  \n",
       "114       1.18        58.7       4.87   488           0  \n",
       "119      10.60        56.8       6.15   595           0  "
      ]
     },
     "execution_count": 283,
     "metadata": {},
     "output_type": "execute_result"
    }
   ],
   "source": [
    "gdphcfl"
   ]
  },
  {
   "cell_type": "code",
   "execution_count": 284,
   "metadata": {},
   "outputs": [],
   "source": [
    "gdphcfl = gdphcfl[gdphcfl.total_fer >= 5]"
   ]
  },
  {
   "cell_type": "code",
   "execution_count": 285,
   "metadata": {},
   "outputs": [
    {
     "data": {
      "text/plain": [
       "(13, 11)"
      ]
     },
     "execution_count": 285,
     "metadata": {},
     "output_type": "execute_result"
    }
   ],
   "source": [
    "gdphcfl.shape"
   ]
  },
  {
   "cell_type": "code",
   "execution_count": 286,
   "metadata": {},
   "outputs": [
    {
     "data": {
      "text/html": [
       "<div>\n",
       "<style scoped>\n",
       "    .dataframe tbody tr th:only-of-type {\n",
       "        vertical-align: middle;\n",
       "    }\n",
       "\n",
       "    .dataframe tbody tr th {\n",
       "        vertical-align: top;\n",
       "    }\n",
       "\n",
       "    .dataframe thead th {\n",
       "        text-align: right;\n",
       "    }\n",
       "</style>\n",
       "<table border=\"1\" class=\"dataframe\">\n",
       "  <thead>\n",
       "    <tr style=\"text-align: right;\">\n",
       "      <th></th>\n",
       "      <th>child_mort</th>\n",
       "      <th>exports</th>\n",
       "      <th>health</th>\n",
       "      <th>imports</th>\n",
       "      <th>income</th>\n",
       "      <th>inflation</th>\n",
       "      <th>life_expec</th>\n",
       "      <th>total_fer</th>\n",
       "      <th>gdpp</th>\n",
       "      <th>Cluster_Id</th>\n",
       "    </tr>\n",
       "  </thead>\n",
       "  <tbody>\n",
       "    <tr>\n",
       "      <th>count</th>\n",
       "      <td>13.000000</td>\n",
       "      <td>13.000000</td>\n",
       "      <td>13.000000</td>\n",
       "      <td>13.000000</td>\n",
       "      <td>13.000000</td>\n",
       "      <td>13.000000</td>\n",
       "      <td>13.000000</td>\n",
       "      <td>13.000000</td>\n",
       "      <td>13.000000</td>\n",
       "      <td>13.0</td>\n",
       "    </tr>\n",
       "    <tr>\n",
       "      <th>mean</th>\n",
       "      <td>104.915385</td>\n",
       "      <td>98.485385</td>\n",
       "      <td>35.295385</td>\n",
       "      <td>194.033077</td>\n",
       "      <td>1144.230769</td>\n",
       "      <td>9.867692</td>\n",
       "      <td>57.492308</td>\n",
       "      <td>5.793846</td>\n",
       "      <td>461.307692</td>\n",
       "      <td>0.0</td>\n",
       "    </tr>\n",
       "    <tr>\n",
       "      <th>std</th>\n",
       "      <td>21.786343</td>\n",
       "      <td>45.270507</td>\n",
       "      <td>11.166412</td>\n",
       "      <td>59.004819</td>\n",
       "      <td>364.138745</td>\n",
       "      <td>5.697339</td>\n",
       "      <td>3.128221</td>\n",
       "      <td>0.694677</td>\n",
       "      <td>128.240259</td>\n",
       "      <td>0.0</td>\n",
       "    </tr>\n",
       "    <tr>\n",
       "      <th>min</th>\n",
       "      <td>80.300000</td>\n",
       "      <td>20.610000</td>\n",
       "      <td>17.960000</td>\n",
       "      <td>90.550000</td>\n",
       "      <td>609.000000</td>\n",
       "      <td>2.550000</td>\n",
       "      <td>53.100000</td>\n",
       "      <td>5.020000</td>\n",
       "      <td>231.000000</td>\n",
       "      <td>0.0</td>\n",
       "    </tr>\n",
       "    <tr>\n",
       "      <th>25%</th>\n",
       "      <td>90.200000</td>\n",
       "      <td>67.030000</td>\n",
       "      <td>26.800000</td>\n",
       "      <td>165.660000</td>\n",
       "      <td>814.000000</td>\n",
       "      <td>5.470000</td>\n",
       "      <td>55.600000</td>\n",
       "      <td>5.310000</td>\n",
       "      <td>348.000000</td>\n",
       "      <td>0.0</td>\n",
       "    </tr>\n",
       "    <tr>\n",
       "      <th>50%</th>\n",
       "      <td>101.000000</td>\n",
       "      <td>101.740000</td>\n",
       "      <td>31.980000</td>\n",
       "      <td>170.870000</td>\n",
       "      <td>1190.000000</td>\n",
       "      <td>9.440000</td>\n",
       "      <td>57.500000</td>\n",
       "      <td>5.710000</td>\n",
       "      <td>459.000000</td>\n",
       "      <td>0.0</td>\n",
       "    </tr>\n",
       "    <tr>\n",
       "      <th>75%</th>\n",
       "      <td>116.000000</td>\n",
       "      <td>131.990000</td>\n",
       "      <td>41.920000</td>\n",
       "      <td>239.970000</td>\n",
       "      <td>1430.000000</td>\n",
       "      <td>12.300000</td>\n",
       "      <td>58.000000</td>\n",
       "      <td>6.150000</td>\n",
       "      <td>562.000000</td>\n",
       "      <td>0.0</td>\n",
       "    </tr>\n",
       "    <tr>\n",
       "      <th>max</th>\n",
       "      <td>160.000000</td>\n",
       "      <td>196.340000</td>\n",
       "      <td>53.610000</td>\n",
       "      <td>302.800000</td>\n",
       "      <td>1660.000000</td>\n",
       "      <td>20.800000</td>\n",
       "      <td>65.500000</td>\n",
       "      <td>7.490000</td>\n",
       "      <td>648.000000</td>\n",
       "      <td>0.0</td>\n",
       "    </tr>\n",
       "  </tbody>\n",
       "</table>\n",
       "</div>"
      ],
      "text/plain": [
       "       child_mort     exports     health     imports       income  inflation  \\\n",
       "count   13.000000   13.000000  13.000000   13.000000    13.000000  13.000000   \n",
       "mean   104.915385   98.485385  35.295385  194.033077  1144.230769   9.867692   \n",
       "std     21.786343   45.270507  11.166412   59.004819   364.138745   5.697339   \n",
       "min     80.300000   20.610000  17.960000   90.550000   609.000000   2.550000   \n",
       "25%     90.200000   67.030000  26.800000  165.660000   814.000000   5.470000   \n",
       "50%    101.000000  101.740000  31.980000  170.870000  1190.000000   9.440000   \n",
       "75%    116.000000  131.990000  41.920000  239.970000  1430.000000  12.300000   \n",
       "max    160.000000  196.340000  53.610000  302.800000  1660.000000  20.800000   \n",
       "\n",
       "       life_expec  total_fer        gdpp  Cluster_Id  \n",
       "count   13.000000  13.000000   13.000000        13.0  \n",
       "mean    57.492308   5.793846  461.307692         0.0  \n",
       "std      3.128221   0.694677  128.240259         0.0  \n",
       "min     53.100000   5.020000  231.000000         0.0  \n",
       "25%     55.600000   5.310000  348.000000         0.0  \n",
       "50%     57.500000   5.710000  459.000000         0.0  \n",
       "75%     58.000000   6.150000  562.000000         0.0  \n",
       "max     65.500000   7.490000  648.000000         0.0  "
      ]
     },
     "execution_count": 286,
     "metadata": {},
     "output_type": "execute_result"
    }
   ],
   "source": [
    "gdphcfl.describe()"
   ]
  },
  {
   "cell_type": "markdown",
   "metadata": {},
   "source": [
    "We can still filter countries further based on 'child_mort' to reduce the list that would consist of countries that are in dire need of funds. The 'income' and 'gdpp' are too low for all the countries so not fair to reduce the list of primary candidates for aid based these parameters "
   ]
  },
  {
   "cell_type": "code",
   "execution_count": 287,
   "metadata": {},
   "outputs": [],
   "source": [
    "gdphcfl = gdphcfl[gdphcfl.child_mort >= 105]"
   ]
  },
  {
   "cell_type": "code",
   "execution_count": 288,
   "metadata": {},
   "outputs": [
    {
     "data": {
      "text/plain": [
       "(6, 11)"
      ]
     },
     "execution_count": 288,
     "metadata": {},
     "output_type": "execute_result"
    }
   ],
   "source": [
    "gdphcfl.shape"
   ]
  },
  {
   "cell_type": "code",
   "execution_count": 289,
   "metadata": {},
   "outputs": [
    {
     "data": {
      "text/html": [
       "<div>\n",
       "<style scoped>\n",
       "    .dataframe tbody tr th:only-of-type {\n",
       "        vertical-align: middle;\n",
       "    }\n",
       "\n",
       "    .dataframe tbody tr th {\n",
       "        vertical-align: top;\n",
       "    }\n",
       "\n",
       "    .dataframe thead th {\n",
       "        text-align: right;\n",
       "    }\n",
       "</style>\n",
       "<table border=\"1\" class=\"dataframe\">\n",
       "  <thead>\n",
       "    <tr style=\"text-align: right;\">\n",
       "      <th></th>\n",
       "      <th>country</th>\n",
       "      <th>child_mort</th>\n",
       "      <th>exports</th>\n",
       "      <th>health</th>\n",
       "      <th>imports</th>\n",
       "      <th>income</th>\n",
       "      <th>inflation</th>\n",
       "      <th>life_expec</th>\n",
       "      <th>total_fer</th>\n",
       "      <th>gdpp</th>\n",
       "      <th>Cluster_Id</th>\n",
       "    </tr>\n",
       "  </thead>\n",
       "  <tbody>\n",
       "    <tr>\n",
       "      <th>18</th>\n",
       "      <td>Burkina Faso</td>\n",
       "      <td>116.0</td>\n",
       "      <td>110.40</td>\n",
       "      <td>38.76</td>\n",
       "      <td>170.20</td>\n",
       "      <td>1430</td>\n",
       "      <td>6.81</td>\n",
       "      <td>57.9</td>\n",
       "      <td>5.87</td>\n",
       "      <td>575</td>\n",
       "      <td>0</td>\n",
       "    </tr>\n",
       "    <tr>\n",
       "      <th>29</th>\n",
       "      <td>Congo, Dem. Rep.</td>\n",
       "      <td>116.0</td>\n",
       "      <td>137.27</td>\n",
       "      <td>26.42</td>\n",
       "      <td>165.66</td>\n",
       "      <td>609</td>\n",
       "      <td>20.80</td>\n",
       "      <td>57.5</td>\n",
       "      <td>6.54</td>\n",
       "      <td>334</td>\n",
       "      <td>0</td>\n",
       "    </tr>\n",
       "    <tr>\n",
       "      <th>52</th>\n",
       "      <td>Guinea</td>\n",
       "      <td>109.0</td>\n",
       "      <td>196.34</td>\n",
       "      <td>31.95</td>\n",
       "      <td>279.94</td>\n",
       "      <td>1190</td>\n",
       "      <td>16.10</td>\n",
       "      <td>58.0</td>\n",
       "      <td>5.34</td>\n",
       "      <td>648</td>\n",
       "      <td>0</td>\n",
       "    </tr>\n",
       "    <tr>\n",
       "      <th>53</th>\n",
       "      <td>Guinea-Bissau</td>\n",
       "      <td>114.0</td>\n",
       "      <td>81.50</td>\n",
       "      <td>46.50</td>\n",
       "      <td>192.54</td>\n",
       "      <td>1390</td>\n",
       "      <td>2.97</td>\n",
       "      <td>55.6</td>\n",
       "      <td>5.05</td>\n",
       "      <td>547</td>\n",
       "      <td>0</td>\n",
       "    </tr>\n",
       "    <tr>\n",
       "      <th>88</th>\n",
       "      <td>Niger</td>\n",
       "      <td>123.0</td>\n",
       "      <td>77.26</td>\n",
       "      <td>17.96</td>\n",
       "      <td>170.87</td>\n",
       "      <td>814</td>\n",
       "      <td>2.55</td>\n",
       "      <td>58.8</td>\n",
       "      <td>7.49</td>\n",
       "      <td>348</td>\n",
       "      <td>0</td>\n",
       "    </tr>\n",
       "    <tr>\n",
       "      <th>101</th>\n",
       "      <td>Sierra Leone</td>\n",
       "      <td>160.0</td>\n",
       "      <td>67.03</td>\n",
       "      <td>52.27</td>\n",
       "      <td>137.66</td>\n",
       "      <td>1220</td>\n",
       "      <td>17.20</td>\n",
       "      <td>55.0</td>\n",
       "      <td>5.20</td>\n",
       "      <td>399</td>\n",
       "      <td>0</td>\n",
       "    </tr>\n",
       "  </tbody>\n",
       "</table>\n",
       "</div>"
      ],
      "text/plain": [
       "              country  child_mort  exports  health  imports  income  \\\n",
       "18       Burkina Faso       116.0   110.40   38.76   170.20    1430   \n",
       "29   Congo, Dem. Rep.       116.0   137.27   26.42   165.66     609   \n",
       "52             Guinea       109.0   196.34   31.95   279.94    1190   \n",
       "53      Guinea-Bissau       114.0    81.50   46.50   192.54    1390   \n",
       "88              Niger       123.0    77.26   17.96   170.87     814   \n",
       "101      Sierra Leone       160.0    67.03   52.27   137.66    1220   \n",
       "\n",
       "     inflation  life_expec  total_fer  gdpp  Cluster_Id  \n",
       "18        6.81        57.9       5.87   575           0  \n",
       "29       20.80        57.5       6.54   334           0  \n",
       "52       16.10        58.0       5.34   648           0  \n",
       "53        2.97        55.6       5.05   547           0  \n",
       "88        2.55        58.8       7.49   348           0  \n",
       "101      17.20        55.0       5.20   399           0  "
      ]
     },
     "execution_count": 289,
     "metadata": {},
     "output_type": "execute_result"
    }
   ],
   "source": [
    "gdphcfl"
   ]
  },
  {
   "cell_type": "code",
   "execution_count": 290,
   "metadata": {},
   "outputs": [],
   "source": [
    "list2 = list(gdphcfl.country)"
   ]
  },
  {
   "cell_type": "code",
   "execution_count": 291,
   "metadata": {},
   "outputs": [
    {
     "name": "stdout",
     "output_type": "stream",
     "text": [
      "The list of countries that need the aid most as per 'hierrachy clustering' are  ['Burkina Faso', 'Congo, Dem. Rep.', 'Guinea', 'Guinea-Bissau', 'Niger', 'Sierra Leone']\n"
     ]
    }
   ],
   "source": [
    "print(\"The list of countries that need the aid most as per 'hierrachy clustering' are \",list2)"
   ]
  },
  {
   "cell_type": "markdown",
   "metadata": {},
   "source": [
    "The results from both type of clustering is the same in this case and so the shortlisted countries that require the aid on most urgent basis are the following:\n",
    "1. Burkina Faso\n",
    "2. Congo, Dem. Rep.\n",
    "3. Guinea\n",
    "4. Guinea-Bissau\n",
    "5. Niger\n",
    "6. Sierra Leone"
   ]
  },
  {
   "cell_type": "code",
   "execution_count": null,
   "metadata": {},
   "outputs": [],
   "source": []
  },
  {
   "cell_type": "code",
   "execution_count": null,
   "metadata": {},
   "outputs": [],
   "source": []
  },
  {
   "cell_type": "code",
   "execution_count": null,
   "metadata": {},
   "outputs": [],
   "source": []
  },
  {
   "cell_type": "code",
   "execution_count": null,
   "metadata": {},
   "outputs": [],
   "source": []
  },
  {
   "cell_type": "code",
   "execution_count": null,
   "metadata": {},
   "outputs": [],
   "source": []
  },
  {
   "cell_type": "code",
   "execution_count": null,
   "metadata": {},
   "outputs": [],
   "source": []
  },
  {
   "cell_type": "code",
   "execution_count": null,
   "metadata": {},
   "outputs": [],
   "source": []
  },
  {
   "cell_type": "code",
   "execution_count": null,
   "metadata": {},
   "outputs": [],
   "source": []
  }
 ],
 "metadata": {
  "kernelspec": {
   "display_name": "Python 3",
   "language": "python",
   "name": "python3"
  },
  "language_info": {
   "codemirror_mode": {
    "name": "ipython",
    "version": 3
   },
   "file_extension": ".py",
   "mimetype": "text/x-python",
   "name": "python",
   "nbconvert_exporter": "python",
   "pygments_lexer": "ipython3",
   "version": "3.7.1"
  }
 },
 "nbformat": 4,
 "nbformat_minor": 2
}
